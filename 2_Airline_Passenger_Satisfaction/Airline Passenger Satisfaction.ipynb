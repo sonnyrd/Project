{
 "cells": [
  {
   "cell_type": "markdown",
   "metadata": {},
   "source": [
    "# Airline Passenger Satisfaction"
   ]
  },
  {
   "cell_type": "markdown",
   "metadata": {},
   "source": [
    "### 1. Introduction\n",
    "\n",
    "Name : Sonny Riadi\\\n",
    "\n",
    "`About this Project :`\n",
    "\n",
    "in this project we want to classify the airplane passenger satisfaction using classification model.\n",
    "\n",
    "\n",
    "`Objective : `\n",
    "\n",
    "1. Find the best model to predict the passenger satisfaction\n",
    "2. Find the best hyperparameters for the model\n",
    "3. deploy the best model"
   ]
  },
  {
   "cell_type": "markdown",
   "metadata": {},
   "source": [
    "### 2. Import Libraries"
   ]
  },
  {
   "cell_type": "code",
   "execution_count": 1,
   "metadata": {},
   "outputs": [],
   "source": [
    "import pandas as pd\n",
    "import numpy as np\n",
    "import matplotlib.pyplot as plt\n",
    "import seaborn as sns\n",
    "from scipy import stats\n",
    "\n",
    "# split data into train and test\n",
    "from sklearn.model_selection import train_test_split\n",
    "\n",
    "# pipeline\n",
    "from sklearn.pipeline import Pipeline\n",
    "\n",
    "#cros val score\n",
    "from sklearn.model_selection import cross_val_score\n",
    "\n",
    "# GridSearchCV\n",
    "from sklearn.model_selection import GridSearchCV\n",
    "\n",
    "# preprocessing handling outlier\n",
    "from feature_engine.outliers import Winsorizer,OutlierTrimmer\n",
    "\n",
    "# simple imputer\n",
    "from sklearn.impute import SimpleImputer\n",
    "\n",
    "# feature scaling and encoding\n",
    "from sklearn.preprocessing import StandardScaler, OneHotEncoder, OrdinalEncoder\n",
    "\n",
    "# sklearn ColumnTransformer\n",
    "from sklearn.compose import ColumnTransformer\n",
    "\n",
    "# Modeling\n",
    "from sklearn.linear_model import LogisticRegression\n",
    "from sklearn.tree import DecisionTreeClassifier\n",
    "from sklearn.ensemble import RandomForestClassifier\n",
    "from sklearn.neighbors import KNeighborsClassifier\n",
    "from sklearn.ensemble import AdaBoostClassifier\n",
    "\n",
    "# save model\n",
    "import pickle\n",
    "\n",
    "# metrics\n",
    "from sklearn.metrics import classification_report, accuracy_score\n",
    "\n",
    "#disable warning\n",
    "import warnings \n",
    "warnings.filterwarnings(\"ignore\") \n",
    "\n",
    "from warnings import simplefilter\n",
    "from sklearn.exceptions import ConvergenceWarning\n",
    "simplefilter(\"ignore\", category=ConvergenceWarning)"
   ]
  },
  {
   "cell_type": "markdown",
   "metadata": {},
   "source": [
    "   ### 3. Data Loading"
   ]
  },
  {
   "cell_type": "code",
   "execution_count": 11,
   "metadata": {},
   "outputs": [],
   "source": [
    "data_train = pd.read_csv('train.csv')\n",
    "data_test = pd.read_csv('test.csv')"
   ]
  },
  {
   "cell_type": "code",
   "execution_count": 12,
   "metadata": {},
   "outputs": [],
   "source": [
    "data_train.drop(data_train.columns[0],axis=1,inplace=True)\n",
    "data_test.drop(data_test.columns[0],axis=1,inplace=True)"
   ]
  },
  {
   "cell_type": "markdown",
   "metadata": {},
   "source": [
    "in this project we use `Airline Passenger Satisfaction` data set, this data can be found at [Kaggle](https://www.kaggle.com/datasets/teejmahal20/airline-passenger-satisfaction)"
   ]
  },
  {
   "cell_type": "code",
   "execution_count": 23,
   "metadata": {},
   "outputs": [],
   "source": [
    "data = pd.read_csv('data.csv', sep=',')\n",
    "pd.set_option('display.max_columns',None)"
   ]
  },
  {
   "cell_type": "code",
   "execution_count": 24,
   "metadata": {},
   "outputs": [
    {
     "data": {
      "text/html": [
       "<div>\n",
       "<style scoped>\n",
       "    .dataframe tbody tr th:only-of-type {\n",
       "        vertical-align: middle;\n",
       "    }\n",
       "\n",
       "    .dataframe tbody tr th {\n",
       "        vertical-align: top;\n",
       "    }\n",
       "\n",
       "    .dataframe thead th {\n",
       "        text-align: right;\n",
       "    }\n",
       "</style>\n",
       "<table border=\"1\" class=\"dataframe\">\n",
       "  <thead>\n",
       "    <tr style=\"text-align: right;\">\n",
       "      <th></th>\n",
       "      <th>id</th>\n",
       "      <th>Gender</th>\n",
       "      <th>Customer Type</th>\n",
       "      <th>Age</th>\n",
       "      <th>Type of Travel</th>\n",
       "      <th>Class</th>\n",
       "      <th>Flight Distance</th>\n",
       "      <th>Inflight wifi service</th>\n",
       "      <th>Departure/Arrival time convenient</th>\n",
       "      <th>Ease of Online booking</th>\n",
       "      <th>Gate location</th>\n",
       "      <th>Food and drink</th>\n",
       "      <th>Online boarding</th>\n",
       "      <th>Seat comfort</th>\n",
       "      <th>Inflight entertainment</th>\n",
       "      <th>On-board service</th>\n",
       "      <th>Leg room service</th>\n",
       "      <th>Baggage handling</th>\n",
       "      <th>Checkin service</th>\n",
       "      <th>Inflight service</th>\n",
       "      <th>Cleanliness</th>\n",
       "      <th>Departure Delay in Minutes</th>\n",
       "      <th>Arrival Delay in Minutes</th>\n",
       "      <th>satisfaction</th>\n",
       "    </tr>\n",
       "  </thead>\n",
       "  <tbody>\n",
       "    <tr>\n",
       "      <th>0</th>\n",
       "      <td>70172</td>\n",
       "      <td>Male</td>\n",
       "      <td>Loyal Customer</td>\n",
       "      <td>13</td>\n",
       "      <td>Personal Travel</td>\n",
       "      <td>Eco Plus</td>\n",
       "      <td>460</td>\n",
       "      <td>3</td>\n",
       "      <td>4</td>\n",
       "      <td>3</td>\n",
       "      <td>1</td>\n",
       "      <td>5</td>\n",
       "      <td>3</td>\n",
       "      <td>5</td>\n",
       "      <td>5</td>\n",
       "      <td>4</td>\n",
       "      <td>3</td>\n",
       "      <td>4</td>\n",
       "      <td>4</td>\n",
       "      <td>5</td>\n",
       "      <td>5</td>\n",
       "      <td>25</td>\n",
       "      <td>18.0</td>\n",
       "      <td>neutral or dissatisfied</td>\n",
       "    </tr>\n",
       "    <tr>\n",
       "      <th>1</th>\n",
       "      <td>5047</td>\n",
       "      <td>Male</td>\n",
       "      <td>disloyal Customer</td>\n",
       "      <td>25</td>\n",
       "      <td>Business travel</td>\n",
       "      <td>Business</td>\n",
       "      <td>235</td>\n",
       "      <td>3</td>\n",
       "      <td>2</td>\n",
       "      <td>3</td>\n",
       "      <td>3</td>\n",
       "      <td>1</td>\n",
       "      <td>3</td>\n",
       "      <td>1</td>\n",
       "      <td>1</td>\n",
       "      <td>1</td>\n",
       "      <td>5</td>\n",
       "      <td>3</td>\n",
       "      <td>1</td>\n",
       "      <td>4</td>\n",
       "      <td>1</td>\n",
       "      <td>1</td>\n",
       "      <td>6.0</td>\n",
       "      <td>neutral or dissatisfied</td>\n",
       "    </tr>\n",
       "    <tr>\n",
       "      <th>2</th>\n",
       "      <td>110028</td>\n",
       "      <td>Female</td>\n",
       "      <td>Loyal Customer</td>\n",
       "      <td>26</td>\n",
       "      <td>Business travel</td>\n",
       "      <td>Business</td>\n",
       "      <td>1142</td>\n",
       "      <td>2</td>\n",
       "      <td>2</td>\n",
       "      <td>2</td>\n",
       "      <td>2</td>\n",
       "      <td>5</td>\n",
       "      <td>5</td>\n",
       "      <td>5</td>\n",
       "      <td>5</td>\n",
       "      <td>4</td>\n",
       "      <td>3</td>\n",
       "      <td>4</td>\n",
       "      <td>4</td>\n",
       "      <td>4</td>\n",
       "      <td>5</td>\n",
       "      <td>0</td>\n",
       "      <td>0.0</td>\n",
       "      <td>satisfied</td>\n",
       "    </tr>\n",
       "    <tr>\n",
       "      <th>3</th>\n",
       "      <td>24026</td>\n",
       "      <td>Female</td>\n",
       "      <td>Loyal Customer</td>\n",
       "      <td>25</td>\n",
       "      <td>Business travel</td>\n",
       "      <td>Business</td>\n",
       "      <td>562</td>\n",
       "      <td>2</td>\n",
       "      <td>5</td>\n",
       "      <td>5</td>\n",
       "      <td>5</td>\n",
       "      <td>2</td>\n",
       "      <td>2</td>\n",
       "      <td>2</td>\n",
       "      <td>2</td>\n",
       "      <td>2</td>\n",
       "      <td>5</td>\n",
       "      <td>3</td>\n",
       "      <td>1</td>\n",
       "      <td>4</td>\n",
       "      <td>2</td>\n",
       "      <td>11</td>\n",
       "      <td>9.0</td>\n",
       "      <td>neutral or dissatisfied</td>\n",
       "    </tr>\n",
       "    <tr>\n",
       "      <th>4</th>\n",
       "      <td>119299</td>\n",
       "      <td>Male</td>\n",
       "      <td>Loyal Customer</td>\n",
       "      <td>61</td>\n",
       "      <td>Business travel</td>\n",
       "      <td>Business</td>\n",
       "      <td>214</td>\n",
       "      <td>3</td>\n",
       "      <td>3</td>\n",
       "      <td>3</td>\n",
       "      <td>3</td>\n",
       "      <td>4</td>\n",
       "      <td>5</td>\n",
       "      <td>5</td>\n",
       "      <td>3</td>\n",
       "      <td>3</td>\n",
       "      <td>4</td>\n",
       "      <td>4</td>\n",
       "      <td>3</td>\n",
       "      <td>3</td>\n",
       "      <td>3</td>\n",
       "      <td>0</td>\n",
       "      <td>0.0</td>\n",
       "      <td>satisfied</td>\n",
       "    </tr>\n",
       "    <tr>\n",
       "      <th>5</th>\n",
       "      <td>111157</td>\n",
       "      <td>Female</td>\n",
       "      <td>Loyal Customer</td>\n",
       "      <td>26</td>\n",
       "      <td>Personal Travel</td>\n",
       "      <td>Eco</td>\n",
       "      <td>1180</td>\n",
       "      <td>3</td>\n",
       "      <td>4</td>\n",
       "      <td>2</td>\n",
       "      <td>1</td>\n",
       "      <td>1</td>\n",
       "      <td>2</td>\n",
       "      <td>1</td>\n",
       "      <td>1</td>\n",
       "      <td>3</td>\n",
       "      <td>4</td>\n",
       "      <td>4</td>\n",
       "      <td>4</td>\n",
       "      <td>4</td>\n",
       "      <td>1</td>\n",
       "      <td>0</td>\n",
       "      <td>0.0</td>\n",
       "      <td>neutral or dissatisfied</td>\n",
       "    </tr>\n",
       "    <tr>\n",
       "      <th>6</th>\n",
       "      <td>82113</td>\n",
       "      <td>Male</td>\n",
       "      <td>Loyal Customer</td>\n",
       "      <td>47</td>\n",
       "      <td>Personal Travel</td>\n",
       "      <td>Eco</td>\n",
       "      <td>1276</td>\n",
       "      <td>2</td>\n",
       "      <td>4</td>\n",
       "      <td>2</td>\n",
       "      <td>3</td>\n",
       "      <td>2</td>\n",
       "      <td>2</td>\n",
       "      <td>2</td>\n",
       "      <td>2</td>\n",
       "      <td>3</td>\n",
       "      <td>3</td>\n",
       "      <td>4</td>\n",
       "      <td>3</td>\n",
       "      <td>5</td>\n",
       "      <td>2</td>\n",
       "      <td>9</td>\n",
       "      <td>23.0</td>\n",
       "      <td>neutral or dissatisfied</td>\n",
       "    </tr>\n",
       "    <tr>\n",
       "      <th>7</th>\n",
       "      <td>96462</td>\n",
       "      <td>Female</td>\n",
       "      <td>Loyal Customer</td>\n",
       "      <td>52</td>\n",
       "      <td>Business travel</td>\n",
       "      <td>Business</td>\n",
       "      <td>2035</td>\n",
       "      <td>4</td>\n",
       "      <td>3</td>\n",
       "      <td>4</td>\n",
       "      <td>4</td>\n",
       "      <td>5</td>\n",
       "      <td>5</td>\n",
       "      <td>5</td>\n",
       "      <td>5</td>\n",
       "      <td>5</td>\n",
       "      <td>5</td>\n",
       "      <td>5</td>\n",
       "      <td>4</td>\n",
       "      <td>5</td>\n",
       "      <td>4</td>\n",
       "      <td>4</td>\n",
       "      <td>0.0</td>\n",
       "      <td>satisfied</td>\n",
       "    </tr>\n",
       "    <tr>\n",
       "      <th>8</th>\n",
       "      <td>79485</td>\n",
       "      <td>Female</td>\n",
       "      <td>Loyal Customer</td>\n",
       "      <td>41</td>\n",
       "      <td>Business travel</td>\n",
       "      <td>Business</td>\n",
       "      <td>853</td>\n",
       "      <td>1</td>\n",
       "      <td>2</td>\n",
       "      <td>2</td>\n",
       "      <td>2</td>\n",
       "      <td>4</td>\n",
       "      <td>3</td>\n",
       "      <td>3</td>\n",
       "      <td>1</td>\n",
       "      <td>1</td>\n",
       "      <td>2</td>\n",
       "      <td>1</td>\n",
       "      <td>4</td>\n",
       "      <td>1</td>\n",
       "      <td>2</td>\n",
       "      <td>0</td>\n",
       "      <td>0.0</td>\n",
       "      <td>neutral or dissatisfied</td>\n",
       "    </tr>\n",
       "    <tr>\n",
       "      <th>9</th>\n",
       "      <td>65725</td>\n",
       "      <td>Male</td>\n",
       "      <td>disloyal Customer</td>\n",
       "      <td>20</td>\n",
       "      <td>Business travel</td>\n",
       "      <td>Eco</td>\n",
       "      <td>1061</td>\n",
       "      <td>3</td>\n",
       "      <td>3</td>\n",
       "      <td>3</td>\n",
       "      <td>4</td>\n",
       "      <td>2</td>\n",
       "      <td>3</td>\n",
       "      <td>3</td>\n",
       "      <td>2</td>\n",
       "      <td>2</td>\n",
       "      <td>3</td>\n",
       "      <td>4</td>\n",
       "      <td>4</td>\n",
       "      <td>3</td>\n",
       "      <td>2</td>\n",
       "      <td>0</td>\n",
       "      <td>0.0</td>\n",
       "      <td>neutral or dissatisfied</td>\n",
       "    </tr>\n",
       "  </tbody>\n",
       "</table>\n",
       "</div>"
      ],
      "text/plain": [
       "       id  Gender      Customer Type  Age   Type of Travel     Class  \\\n",
       "0   70172    Male     Loyal Customer   13  Personal Travel  Eco Plus   \n",
       "1    5047    Male  disloyal Customer   25  Business travel  Business   \n",
       "2  110028  Female     Loyal Customer   26  Business travel  Business   \n",
       "3   24026  Female     Loyal Customer   25  Business travel  Business   \n",
       "4  119299    Male     Loyal Customer   61  Business travel  Business   \n",
       "5  111157  Female     Loyal Customer   26  Personal Travel       Eco   \n",
       "6   82113    Male     Loyal Customer   47  Personal Travel       Eco   \n",
       "7   96462  Female     Loyal Customer   52  Business travel  Business   \n",
       "8   79485  Female     Loyal Customer   41  Business travel  Business   \n",
       "9   65725    Male  disloyal Customer   20  Business travel       Eco   \n",
       "\n",
       "   Flight Distance  Inflight wifi service  Departure/Arrival time convenient  \\\n",
       "0              460                      3                                  4   \n",
       "1              235                      3                                  2   \n",
       "2             1142                      2                                  2   \n",
       "3              562                      2                                  5   \n",
       "4              214                      3                                  3   \n",
       "5             1180                      3                                  4   \n",
       "6             1276                      2                                  4   \n",
       "7             2035                      4                                  3   \n",
       "8              853                      1                                  2   \n",
       "9             1061                      3                                  3   \n",
       "\n",
       "   Ease of Online booking  Gate location  Food and drink  Online boarding  \\\n",
       "0                       3              1               5                3   \n",
       "1                       3              3               1                3   \n",
       "2                       2              2               5                5   \n",
       "3                       5              5               2                2   \n",
       "4                       3              3               4                5   \n",
       "5                       2              1               1                2   \n",
       "6                       2              3               2                2   \n",
       "7                       4              4               5                5   \n",
       "8                       2              2               4                3   \n",
       "9                       3              4               2                3   \n",
       "\n",
       "   Seat comfort  Inflight entertainment  On-board service  Leg room service  \\\n",
       "0             5                       5                 4                 3   \n",
       "1             1                       1                 1                 5   \n",
       "2             5                       5                 4                 3   \n",
       "3             2                       2                 2                 5   \n",
       "4             5                       3                 3                 4   \n",
       "5             1                       1                 3                 4   \n",
       "6             2                       2                 3                 3   \n",
       "7             5                       5                 5                 5   \n",
       "8             3                       1                 1                 2   \n",
       "9             3                       2                 2                 3   \n",
       "\n",
       "   Baggage handling  Checkin service  Inflight service  Cleanliness  \\\n",
       "0                 4                4                 5            5   \n",
       "1                 3                1                 4            1   \n",
       "2                 4                4                 4            5   \n",
       "3                 3                1                 4            2   \n",
       "4                 4                3                 3            3   \n",
       "5                 4                4                 4            1   \n",
       "6                 4                3                 5            2   \n",
       "7                 5                4                 5            4   \n",
       "8                 1                4                 1            2   \n",
       "9                 4                4                 3            2   \n",
       "\n",
       "   Departure Delay in Minutes  Arrival Delay in Minutes  \\\n",
       "0                          25                      18.0   \n",
       "1                           1                       6.0   \n",
       "2                           0                       0.0   \n",
       "3                          11                       9.0   \n",
       "4                           0                       0.0   \n",
       "5                           0                       0.0   \n",
       "6                           9                      23.0   \n",
       "7                           4                       0.0   \n",
       "8                           0                       0.0   \n",
       "9                           0                       0.0   \n",
       "\n",
       "              satisfaction  \n",
       "0  neutral or dissatisfied  \n",
       "1  neutral or dissatisfied  \n",
       "2                satisfied  \n",
       "3  neutral or dissatisfied  \n",
       "4                satisfied  \n",
       "5  neutral or dissatisfied  \n",
       "6  neutral or dissatisfied  \n",
       "7                satisfied  \n",
       "8  neutral or dissatisfied  \n",
       "9  neutral or dissatisfied  "
      ]
     },
     "execution_count": 24,
     "metadata": {},
     "output_type": "execute_result"
    }
   ],
   "source": [
    "data.head(10)"
   ]
  },
  {
   "cell_type": "code",
   "execution_count": 26,
   "metadata": {},
   "outputs": [
    {
     "data": {
      "text/plain": [
       "(129880, 24)"
      ]
     },
     "execution_count": 26,
     "metadata": {},
     "output_type": "execute_result"
    }
   ],
   "source": [
    "data.shape"
   ]
  },
  {
   "cell_type": "markdown",
   "metadata": {},
   "source": [
    "About this dataset : The data is related with direct marketing campaigns (phone calls) of a Portuguese banking institution. The classification goal is to predict if the client will subscribe a term deposit (variable y).\n",
    "\t"
   ]
  },
  {
   "cell_type": "markdown",
   "metadata": {},
   "source": [
    "in this dataset :\n",
    "\n",
    "| Attributes                        | description                                                                 |\n",
    "|-----------------------------------|-----------------------------------------------------------------------------|\n",
    "| Gender                            |  Gender of the passengers (Female, Male)                                    |\n",
    "| Customer Type                     |  The customer type (Loyal customer, disloyal customer)                      |\n",
    "| Age                               |  The actual age of the passengers                                           |\n",
    "| Type of Travel                    |  Purpose of the flight of the passengers (Personal Travel, Business Travel) |\n",
    "| Class                             |  Travel class in the plane of the passengers (Business, Eco, Eco Plus)      |\n",
    "| Flight distance                   |  The flight distance of this journey                                        |\n",
    "| Inflight wifi service             |  Satisfaction level of the inflight wifi service (0:Not Applicable;1-5)     |\n",
    "| Departure/Arrival time convenient |  Satisfaction level of Departure/Arrival time convenient                    |\n",
    "| Ease of Online booking            |  Satisfaction level of online booking                                       |\n",
    "| Gate location                     |  Satisfaction level of Gate location                                        |\n",
    "| Food and drink                    |  Satisfaction level of Food and drink                                       |\n",
    "| Online boarding                   |  Satisfaction level of online boarding                                      |\n",
    "| Seat comfort                      |  Satisfaction level of Seat comfort                                         |\n",
    "| Inflight entertainment            |  Satisfaction level of inflight entertainment                               |\n",
    "| On-board service                  |  Satisfaction level of On-board service                                     |\n",
    "| Leg room service                  |  Satisfaction level of Leg room service                                     |\n",
    "| Baggage handling                  |  Satisfaction level of baggage handling                                     |\n",
    "| Check-in service                  |  Satisfaction level of Check-in service                                     |\n",
    "| Inflight service                  |  Satisfaction level of inflight service                                     |\n",
    "| Cleanliness                       |  Satisfaction level of Cleanliness                                          |\n",
    "| Departure Delay in Minutes        |  Minutes delayed when departure                                             |\n",
    "| Arrival Delay in Minutes          |  Minutes delayed when Arrival                                               |\n",
    "| Satisfaction                      |  Airline satisfaction level(Satisfaction, neutral or dissatisfaction)       |"
   ]
  },
  {
   "cell_type": "markdown",
   "metadata": {},
   "source": [
    "### 4. Exploratory Data Analysis (EDA)"
   ]
  },
  {
   "cell_type": "markdown",
   "metadata": {},
   "source": [
    "##### 4.1 Data Visualization"
   ]
  },
  {
   "cell_type": "markdown",
   "metadata": {},
   "source": [
    "##### Visualization target variable"
   ]
  },
  {
   "cell_type": "code",
   "execution_count": 27,
   "metadata": {},
   "outputs": [
    {
     "data": {
      "image/png": "[encoded data removed]",
      "text/plain": [
       "<Figure size 1500x750 with 1 Axes>"
      ]
     },
     "metadata": {},
     "output_type": "display_data"
    }
   ],
   "source": [
    "plt.figure(figsize=(15,7.5))\n",
    "sns.countplot(x='satisfaction', data=data, palette='deep')\n",
    "plt.title('Satisfaction', fontsize=20)\n",
    "plt.show()"
   ]
  },
  {
   "cell_type": "code",
   "execution_count": 28,
   "metadata": {},
   "outputs": [
    {
     "data": {
      "text/plain": [
       "neutral or dissatisfied    0.565537\n",
       "satisfied                  0.434463\n",
       "Name: satisfaction, dtype: float64"
      ]
     },
     "execution_count": 28,
     "metadata": {},
     "output_type": "execute_result"
    }
   ],
   "source": [
    "data.satisfaction.value_counts(normalize=True)"
   ]
  },
  {
   "cell_type": "markdown",
   "metadata": {},
   "source": [
    "insight :\n",
    "* based on graph above we can see the target variable proportion is 56% for `neutral or dissatisfaction` and 44% for `satisfaction`, I conclude the target variable is already balanced.\n",
    "* we can see the majority of customer is `neutral or dissatisfied`"
   ]
  },
  {
   "cell_type": "markdown",
   "metadata": {},
   "source": [
    "##### Visualization based on Gender"
   ]
  },
  {
   "cell_type": "code",
   "execution_count": 29,
   "metadata": {},
   "outputs": [
    {
     "data": {
      "image/png": "[encoded data removed]",
      "text/plain": [
       "<Figure size 1500x750 with 1 Axes>"
      ]
     },
     "metadata": {},
     "output_type": "display_data"
    }
   ],
   "source": [
    "# histplot type 1 for column 'Customer Type'\n",
    "plt.figure(figsize=(15,7.5))\n",
    "sns.histplot(data=data, x='Gender', hue='satisfaction', palette='deep',multiple='stack', shrink=0.8,)\n",
    "plt.title('Gender Type with Satisfaction Level', fontsize=20)\n",
    "plt.show()"
   ]
  },
  {
   "cell_type": "code",
   "execution_count": 30,
   "metadata": {},
   "outputs": [
    {
     "data": {
      "text/html": [
       "<div>\n",
       "<style scoped>\n",
       "    .dataframe tbody tr th:only-of-type {\n",
       "        vertical-align: middle;\n",
       "    }\n",
       "\n",
       "    .dataframe tbody tr th {\n",
       "        vertical-align: top;\n",
       "    }\n",
       "\n",
       "    .dataframe thead tr th {\n",
       "        text-align: left;\n",
       "    }\n",
       "</style>\n",
       "<table border=\"1\" class=\"dataframe\">\n",
       "  <thead>\n",
       "    <tr>\n",
       "      <th></th>\n",
       "      <th>Gender</th>\n",
       "      <th>satisfaction</th>\n",
       "      <th>index</th>\n",
       "    </tr>\n",
       "    <tr>\n",
       "      <th></th>\n",
       "      <th></th>\n",
       "      <th></th>\n",
       "      <th>count</th>\n",
       "    </tr>\n",
       "  </thead>\n",
       "  <tbody>\n",
       "    <tr>\n",
       "      <th>0</th>\n",
       "      <td>Female</td>\n",
       "      <td>neutral or dissatisfied</td>\n",
       "      <td>37630</td>\n",
       "    </tr>\n",
       "    <tr>\n",
       "      <th>1</th>\n",
       "      <td>Female</td>\n",
       "      <td>satisfied</td>\n",
       "      <td>28269</td>\n",
       "    </tr>\n",
       "    <tr>\n",
       "      <th>2</th>\n",
       "      <td>Male</td>\n",
       "      <td>neutral or dissatisfied</td>\n",
       "      <td>35822</td>\n",
       "    </tr>\n",
       "    <tr>\n",
       "      <th>3</th>\n",
       "      <td>Male</td>\n",
       "      <td>satisfied</td>\n",
       "      <td>28159</td>\n",
       "    </tr>\n",
       "  </tbody>\n",
       "</table>\n",
       "</div>"
      ],
      "text/plain": [
       "   Gender             satisfaction  index\n",
       "                                    count\n",
       "0  Female  neutral or dissatisfied  37630\n",
       "1  Female                satisfied  28269\n",
       "2    Male  neutral or dissatisfied  35822\n",
       "3    Male                satisfied  28159"
      ]
     },
     "execution_count": 30,
     "metadata": {},
     "output_type": "execute_result"
    }
   ],
   "source": [
    "graph = data[['Gender', 'satisfaction']].reset_index(drop=False).groupby(['Gender','satisfaction']).agg(['count']).reset_index(drop=False)\n",
    "graph"
   ]
  },
  {
   "cell_type": "markdown",
   "metadata": {},
   "source": [
    "insight :\n",
    "* based on gender we can see there's no different between male and female in term of satisfaction"
   ]
  },
  {
   "cell_type": "markdown",
   "metadata": {},
   "source": [
    "##### Visualization of based on Customer Type"
   ]
  },
  {
   "cell_type": "code",
   "execution_count": 31,
   "metadata": {},
   "outputs": [
    {
     "data": {
      "image/png": "[encoded data removed]",
      "text/plain": [
       "<Figure size 1500x750 with 1 Axes>"
      ]
     },
     "metadata": {},
     "output_type": "display_data"
    }
   ],
   "source": [
    "# histplot type 1 for column 'Customer Type'\n",
    "plt.figure(figsize=(15,7.5))\n",
    "sns.histplot(data=data, x='Customer Type', hue='satisfaction', palette='deep',multiple='stack', shrink=0.8,)\n",
    "plt.title('Customer Type with Satisfaction Level', fontsize=20)\n",
    "plt.show()"
   ]
  },
  {
   "cell_type": "markdown",
   "metadata": {},
   "source": [
    "insight :\n",
    "* based on graph above we can see the majority of customer type is `loyal customer`\n",
    "* for loyal customer its seem the satisfaction is balanced\n",
    "* for disloyal customer we can see most of the customer is `neutral or dissatisfied`"
   ]
  },
  {
   "cell_type": "markdown",
   "metadata": {},
   "source": [
    "##### visualization based on Type of Travel"
   ]
  },
  {
   "cell_type": "code",
   "execution_count": 32,
   "metadata": {},
   "outputs": [
    {
     "data": {
      "image/png": "[encoded data removed]",
      "text/plain": [
       "<Figure size 1500x750 with 1 Axes>"
      ]
     },
     "metadata": {},
     "output_type": "display_data"
    }
   ],
   "source": [
    "# histplot type 1 for column 'Type of Travel'\n",
    "plt.figure(figsize=(15,7.5))\n",
    "sns.histplot(data=data, x='Type of Travel', hue='satisfaction', palette='deep',multiple='stack', shrink=0.8,)\n",
    "plt.title('Type of Travel with Satisfaction Level', fontsize=20)\n",
    "plt.show()"
   ]
  },
  {
   "cell_type": "markdown",
   "metadata": {},
   "source": [
    "insight :\n",
    "* based on graph above we can see most of customer is `business travel`\n",
    "* we can see the different  between `personal travel` and `business travel` in term of satisfaction, most of the customer type with `personal travel` is `neutral or dissatisfied`."
   ]
  },
  {
   "cell_type": "markdown",
   "metadata": {},
   "source": [
    "##### Visualization based on Class"
   ]
  },
  {
   "cell_type": "code",
   "execution_count": 33,
   "metadata": {},
   "outputs": [
    {
     "data": {
      "image/png": "[encoded data removed]",
      "text/plain": [
       "<Figure size 1500x750 with 1 Axes>"
      ]
     },
     "metadata": {},
     "output_type": "display_data"
    }
   ],
   "source": [
    "# histplot type 1 for column 'Class'\n",
    "plt.figure(figsize=(15,7.5))\n",
    "sns.histplot(data=data, x='Class', hue='satisfaction', palette='deep',multiple='stack', shrink=0.8,)\n",
    "plt.title('Class with Satisfaction Level', fontsize=20)\n",
    "plt.show()"
   ]
  },
  {
   "cell_type": "markdown",
   "metadata": {},
   "source": [
    "insight :\n",
    "* we can see there's different between `business` and `eco` in term of satisfaction, its may because different class have different kind of service."
   ]
  },
  {
   "cell_type": "markdown",
   "metadata": {},
   "source": [
    "##### 4.2 Data Distribution for numerical column"
   ]
  },
  {
   "cell_type": "code",
   "execution_count": 34,
   "metadata": {},
   "outputs": [
    {
     "data": {
      "image/png": "[encoded data removed]",
      "text/plain": [
       "<Figure size 2000x2000 with 4 Axes>"
      ]
     },
     "metadata": {},
     "output_type": "display_data"
    }
   ],
   "source": [
    "data_num = ['Age','Flight Distance','Departure Delay in Minutes','Arrival Delay in Minutes']\n",
    "fig, axs = plt.subplots(round(len(data_num)/2), 2, figsize=(20,20))\n",
    "for i in range(len(data_num)):\n",
    "    sns.histplot(data=data, x=data_num[i], kde=True,ax=axs[i//2, i%2])"
   ]
  },
  {
   "cell_type": "markdown",
   "metadata": {},
   "source": [
    "insight :\n",
    "* `Age` have normal distribution\n",
    "* `Flight Distance`, `Departure Delay in Minutes` and `Arrival Delay in Minutes` have skew distribution"
   ]
  },
  {
   "cell_type": "markdown",
   "metadata": {},
   "source": [
    "##### 4.3 Outlier Detection for numerical columns"
   ]
  },
  {
   "cell_type": "code",
   "execution_count": 35,
   "metadata": {},
   "outputs": [
    {
     "data": {
      "image/png": "[encoded data removed]",
      "text/plain": [
       "<Figure size 2000x2000 with 4 Axes>"
      ]
     },
     "metadata": {},
     "output_type": "display_data"
    }
   ],
   "source": [
    "fig, axs = plt.subplots(round(len(data_num)/2), 2, figsize=(20,20))\n",
    "for i in range(len(data_num)):\n",
    "    sns.boxplot(data=data, x=data_num[i],ax=axs[i//2, i%2])"
   ]
  },
  {
   "cell_type": "markdown",
   "metadata": {},
   "source": [
    "insight :\n",
    "* it's seem there's an outlier in `Flight Distance`, `Departure Delay in Minutes` and `Arrival Delay in Minutes`. to make sure we need to check and handling the outliers in Data preprocessing."
   ]
  },
  {
   "cell_type": "markdown",
   "metadata": {},
   "source": [
    "### 5. Data Preprocessing"
   ]
  },
  {
   "cell_type": "markdown",
   "metadata": {},
   "source": [
    "##### 5.1 Data Cleaning"
   ]
  },
  {
   "cell_type": "markdown",
   "metadata": {},
   "source": [
    "before we doing data preprocessing we need to clean the data first"
   ]
  },
  {
   "cell_type": "code",
   "execution_count": 36,
   "metadata": {},
   "outputs": [
    {
     "data": {
      "text/html": [
       "<div>\n",
       "<style scoped>\n",
       "    .dataframe tbody tr th:only-of-type {\n",
       "        vertical-align: middle;\n",
       "    }\n",
       "\n",
       "    .dataframe tbody tr th {\n",
       "        vertical-align: top;\n",
       "    }\n",
       "\n",
       "    .dataframe thead th {\n",
       "        text-align: right;\n",
       "    }\n",
       "</style>\n",
       "<table border=\"1\" class=\"dataframe\">\n",
       "  <thead>\n",
       "    <tr style=\"text-align: right;\">\n",
       "      <th></th>\n",
       "      <th>id</th>\n",
       "      <th>Gender</th>\n",
       "      <th>Customer Type</th>\n",
       "      <th>Age</th>\n",
       "      <th>Type of Travel</th>\n",
       "      <th>Class</th>\n",
       "      <th>Flight Distance</th>\n",
       "      <th>Inflight wifi service</th>\n",
       "      <th>Departure/Arrival time convenient</th>\n",
       "      <th>Ease of Online booking</th>\n",
       "      <th>Gate location</th>\n",
       "      <th>Food and drink</th>\n",
       "      <th>Online boarding</th>\n",
       "      <th>Seat comfort</th>\n",
       "      <th>Inflight entertainment</th>\n",
       "      <th>On-board service</th>\n",
       "      <th>Leg room service</th>\n",
       "      <th>Baggage handling</th>\n",
       "      <th>Checkin service</th>\n",
       "      <th>Inflight service</th>\n",
       "      <th>Cleanliness</th>\n",
       "      <th>Departure Delay in Minutes</th>\n",
       "      <th>Arrival Delay in Minutes</th>\n",
       "      <th>satisfaction</th>\n",
       "    </tr>\n",
       "  </thead>\n",
       "  <tbody>\n",
       "    <tr>\n",
       "      <th>0</th>\n",
       "      <td>70172</td>\n",
       "      <td>Male</td>\n",
       "      <td>Loyal Customer</td>\n",
       "      <td>13</td>\n",
       "      <td>Personal Travel</td>\n",
       "      <td>Eco Plus</td>\n",
       "      <td>460</td>\n",
       "      <td>3</td>\n",
       "      <td>4</td>\n",
       "      <td>3</td>\n",
       "      <td>1</td>\n",
       "      <td>5</td>\n",
       "      <td>3</td>\n",
       "      <td>5</td>\n",
       "      <td>5</td>\n",
       "      <td>4</td>\n",
       "      <td>3</td>\n",
       "      <td>4</td>\n",
       "      <td>4</td>\n",
       "      <td>5</td>\n",
       "      <td>5</td>\n",
       "      <td>25</td>\n",
       "      <td>18.0</td>\n",
       "      <td>neutral or dissatisfied</td>\n",
       "    </tr>\n",
       "    <tr>\n",
       "      <th>1</th>\n",
       "      <td>5047</td>\n",
       "      <td>Male</td>\n",
       "      <td>disloyal Customer</td>\n",
       "      <td>25</td>\n",
       "      <td>Business travel</td>\n",
       "      <td>Business</td>\n",
       "      <td>235</td>\n",
       "      <td>3</td>\n",
       "      <td>2</td>\n",
       "      <td>3</td>\n",
       "      <td>3</td>\n",
       "      <td>1</td>\n",
       "      <td>3</td>\n",
       "      <td>1</td>\n",
       "      <td>1</td>\n",
       "      <td>1</td>\n",
       "      <td>5</td>\n",
       "      <td>3</td>\n",
       "      <td>1</td>\n",
       "      <td>4</td>\n",
       "      <td>1</td>\n",
       "      <td>1</td>\n",
       "      <td>6.0</td>\n",
       "      <td>neutral or dissatisfied</td>\n",
       "    </tr>\n",
       "    <tr>\n",
       "      <th>2</th>\n",
       "      <td>110028</td>\n",
       "      <td>Female</td>\n",
       "      <td>Loyal Customer</td>\n",
       "      <td>26</td>\n",
       "      <td>Business travel</td>\n",
       "      <td>Business</td>\n",
       "      <td>1142</td>\n",
       "      <td>2</td>\n",
       "      <td>2</td>\n",
       "      <td>2</td>\n",
       "      <td>2</td>\n",
       "      <td>5</td>\n",
       "      <td>5</td>\n",
       "      <td>5</td>\n",
       "      <td>5</td>\n",
       "      <td>4</td>\n",
       "      <td>3</td>\n",
       "      <td>4</td>\n",
       "      <td>4</td>\n",
       "      <td>4</td>\n",
       "      <td>5</td>\n",
       "      <td>0</td>\n",
       "      <td>0.0</td>\n",
       "      <td>satisfied</td>\n",
       "    </tr>\n",
       "    <tr>\n",
       "      <th>3</th>\n",
       "      <td>24026</td>\n",
       "      <td>Female</td>\n",
       "      <td>Loyal Customer</td>\n",
       "      <td>25</td>\n",
       "      <td>Business travel</td>\n",
       "      <td>Business</td>\n",
       "      <td>562</td>\n",
       "      <td>2</td>\n",
       "      <td>5</td>\n",
       "      <td>5</td>\n",
       "      <td>5</td>\n",
       "      <td>2</td>\n",
       "      <td>2</td>\n",
       "      <td>2</td>\n",
       "      <td>2</td>\n",
       "      <td>2</td>\n",
       "      <td>5</td>\n",
       "      <td>3</td>\n",
       "      <td>1</td>\n",
       "      <td>4</td>\n",
       "      <td>2</td>\n",
       "      <td>11</td>\n",
       "      <td>9.0</td>\n",
       "      <td>neutral or dissatisfied</td>\n",
       "    </tr>\n",
       "    <tr>\n",
       "      <th>4</th>\n",
       "      <td>119299</td>\n",
       "      <td>Male</td>\n",
       "      <td>Loyal Customer</td>\n",
       "      <td>61</td>\n",
       "      <td>Business travel</td>\n",
       "      <td>Business</td>\n",
       "      <td>214</td>\n",
       "      <td>3</td>\n",
       "      <td>3</td>\n",
       "      <td>3</td>\n",
       "      <td>3</td>\n",
       "      <td>4</td>\n",
       "      <td>5</td>\n",
       "      <td>5</td>\n",
       "      <td>3</td>\n",
       "      <td>3</td>\n",
       "      <td>4</td>\n",
       "      <td>4</td>\n",
       "      <td>3</td>\n",
       "      <td>3</td>\n",
       "      <td>3</td>\n",
       "      <td>0</td>\n",
       "      <td>0.0</td>\n",
       "      <td>satisfied</td>\n",
       "    </tr>\n",
       "  </tbody>\n",
       "</table>\n",
       "</div>"
      ],
      "text/plain": [
       "       id  Gender      Customer Type  Age   Type of Travel     Class  \\\n",
       "0   70172    Male     Loyal Customer   13  Personal Travel  Eco Plus   \n",
       "1    5047    Male  disloyal Customer   25  Business travel  Business   \n",
       "2  110028  Female     Loyal Customer   26  Business travel  Business   \n",
       "3   24026  Female     Loyal Customer   25  Business travel  Business   \n",
       "4  119299    Male     Loyal Customer   61  Business travel  Business   \n",
       "\n",
       "   Flight Distance  Inflight wifi service  Departure/Arrival time convenient  \\\n",
       "0              460                      3                                  4   \n",
       "1              235                      3                                  2   \n",
       "2             1142                      2                                  2   \n",
       "3              562                      2                                  5   \n",
       "4              214                      3                                  3   \n",
       "\n",
       "   Ease of Online booking  Gate location  Food and drink  Online boarding  \\\n",
       "0                       3              1               5                3   \n",
       "1                       3              3               1                3   \n",
       "2                       2              2               5                5   \n",
       "3                       5              5               2                2   \n",
       "4                       3              3               4                5   \n",
       "\n",
       "   Seat comfort  Inflight entertainment  On-board service  Leg room service  \\\n",
       "0             5                       5                 4                 3   \n",
       "1             1                       1                 1                 5   \n",
       "2             5                       5                 4                 3   \n",
       "3             2                       2                 2                 5   \n",
       "4             5                       3                 3                 4   \n",
       "\n",
       "   Baggage handling  Checkin service  Inflight service  Cleanliness  \\\n",
       "0                 4                4                 5            5   \n",
       "1                 3                1                 4            1   \n",
       "2                 4                4                 4            5   \n",
       "3                 3                1                 4            2   \n",
       "4                 4                3                 3            3   \n",
       "\n",
       "   Departure Delay in Minutes  Arrival Delay in Minutes  \\\n",
       "0                          25                      18.0   \n",
       "1                           1                       6.0   \n",
       "2                           0                       0.0   \n",
       "3                          11                       9.0   \n",
       "4                           0                       0.0   \n",
       "\n",
       "              satisfaction  \n",
       "0  neutral or dissatisfied  \n",
       "1  neutral or dissatisfied  \n",
       "2                satisfied  \n",
       "3  neutral or dissatisfied  \n",
       "4                satisfied  "
      ]
     },
     "execution_count": 36,
     "metadata": {},
     "output_type": "execute_result"
    }
   ],
   "source": [
    "data.head(5)"
   ]
  },
  {
   "cell_type": "markdown",
   "metadata": {},
   "source": [
    "##### 5.1.1 Drop Unnecessary Columns"
   ]
  },
  {
   "cell_type": "markdown",
   "metadata": {},
   "source": [
    "column `id` is not necessary for the analysis, we need to drop it"
   ]
  },
  {
   "cell_type": "code",
   "execution_count": 37,
   "metadata": {},
   "outputs": [],
   "source": [
    "# drop columns `id`\n",
    "data.drop(['id'], axis=1, inplace=True)"
   ]
  },
  {
   "cell_type": "markdown",
   "metadata": {},
   "source": [
    "##### 5.1.2 Change Target Variable to Binary"
   ]
  },
  {
   "cell_type": "code",
   "execution_count": 38,
   "metadata": {},
   "outputs": [],
   "source": [
    "# change target variable 'satisfaction' to binary\n",
    "data['satisfaction'] = data['satisfaction'].map({'neutral or dissatisfied': 0, 'satisfied': 1})"
   ]
  },
  {
   "cell_type": "markdown",
   "metadata": {},
   "source": [
    "##### 5.1.3 Check missing values for target variable"
   ]
  },
  {
   "cell_type": "code",
   "execution_count": 39,
   "metadata": {},
   "outputs": [
    {
     "data": {
      "text/plain": [
       "0"
      ]
     },
     "execution_count": 39,
     "metadata": {},
     "output_type": "execute_result"
    }
   ],
   "source": [
    "# check missing values target variable\n",
    "data['satisfaction'].isnull().sum()"
   ]
  },
  {
   "cell_type": "markdown",
   "metadata": {},
   "source": [
    "there's no missing values in target variable"
   ]
  },
  {
   "cell_type": "markdown",
   "metadata": {},
   "source": [
    "##### 5.1.4 Check duplicated input"
   ]
  },
  {
   "cell_type": "code",
   "execution_count": 40,
   "metadata": {},
   "outputs": [
    {
     "data": {
      "text/plain": [
       "0"
      ]
     },
     "execution_count": 40,
     "metadata": {},
     "output_type": "execute_result"
    }
   ],
   "source": [
    "# check duplicates\n",
    "data.duplicated().sum()"
   ]
  },
  {
   "cell_type": "markdown",
   "metadata": {},
   "source": [
    "##### 5.1.5 Change dtypes for categorical variables"
   ]
  },
  {
   "cell_type": "code",
   "execution_count": 41,
   "metadata": {},
   "outputs": [
    {
     "data": {
      "text/html": [
       "<div>\n",
       "<style scoped>\n",
       "    .dataframe tbody tr th:only-of-type {\n",
       "        vertical-align: middle;\n",
       "    }\n",
       "\n",
       "    .dataframe tbody tr th {\n",
       "        vertical-align: top;\n",
       "    }\n",
       "\n",
       "    .dataframe thead th {\n",
       "        text-align: right;\n",
       "    }\n",
       "</style>\n",
       "<table border=\"1\" class=\"dataframe\">\n",
       "  <thead>\n",
       "    <tr style=\"text-align: right;\">\n",
       "      <th></th>\n",
       "      <th>Gender</th>\n",
       "      <th>Customer Type</th>\n",
       "      <th>Age</th>\n",
       "      <th>Type of Travel</th>\n",
       "      <th>Class</th>\n",
       "      <th>Flight Distance</th>\n",
       "      <th>Inflight wifi service</th>\n",
       "      <th>Departure/Arrival time convenient</th>\n",
       "      <th>Ease of Online booking</th>\n",
       "      <th>Gate location</th>\n",
       "      <th>Food and drink</th>\n",
       "      <th>Online boarding</th>\n",
       "      <th>Seat comfort</th>\n",
       "      <th>Inflight entertainment</th>\n",
       "      <th>On-board service</th>\n",
       "      <th>Leg room service</th>\n",
       "      <th>Baggage handling</th>\n",
       "      <th>Checkin service</th>\n",
       "      <th>Inflight service</th>\n",
       "      <th>Cleanliness</th>\n",
       "      <th>Departure Delay in Minutes</th>\n",
       "      <th>Arrival Delay in Minutes</th>\n",
       "      <th>satisfaction</th>\n",
       "    </tr>\n",
       "  </thead>\n",
       "  <tbody>\n",
       "    <tr>\n",
       "      <th>0</th>\n",
       "      <td>Male</td>\n",
       "      <td>Loyal Customer</td>\n",
       "      <td>13</td>\n",
       "      <td>Personal Travel</td>\n",
       "      <td>Eco Plus</td>\n",
       "      <td>460</td>\n",
       "      <td>3</td>\n",
       "      <td>4</td>\n",
       "      <td>3</td>\n",
       "      <td>1</td>\n",
       "      <td>5</td>\n",
       "      <td>3</td>\n",
       "      <td>5</td>\n",
       "      <td>5</td>\n",
       "      <td>4</td>\n",
       "      <td>3</td>\n",
       "      <td>4</td>\n",
       "      <td>4</td>\n",
       "      <td>5</td>\n",
       "      <td>5</td>\n",
       "      <td>25</td>\n",
       "      <td>18.0</td>\n",
       "      <td>0</td>\n",
       "    </tr>\n",
       "    <tr>\n",
       "      <th>1</th>\n",
       "      <td>Male</td>\n",
       "      <td>disloyal Customer</td>\n",
       "      <td>25</td>\n",
       "      <td>Business travel</td>\n",
       "      <td>Business</td>\n",
       "      <td>235</td>\n",
       "      <td>3</td>\n",
       "      <td>2</td>\n",
       "      <td>3</td>\n",
       "      <td>3</td>\n",
       "      <td>1</td>\n",
       "      <td>3</td>\n",
       "      <td>1</td>\n",
       "      <td>1</td>\n",
       "      <td>1</td>\n",
       "      <td>5</td>\n",
       "      <td>3</td>\n",
       "      <td>1</td>\n",
       "      <td>4</td>\n",
       "      <td>1</td>\n",
       "      <td>1</td>\n",
       "      <td>6.0</td>\n",
       "      <td>0</td>\n",
       "    </tr>\n",
       "    <tr>\n",
       "      <th>2</th>\n",
       "      <td>Female</td>\n",
       "      <td>Loyal Customer</td>\n",
       "      <td>26</td>\n",
       "      <td>Business travel</td>\n",
       "      <td>Business</td>\n",
       "      <td>1142</td>\n",
       "      <td>2</td>\n",
       "      <td>2</td>\n",
       "      <td>2</td>\n",
       "      <td>2</td>\n",
       "      <td>5</td>\n",
       "      <td>5</td>\n",
       "      <td>5</td>\n",
       "      <td>5</td>\n",
       "      <td>4</td>\n",
       "      <td>3</td>\n",
       "      <td>4</td>\n",
       "      <td>4</td>\n",
       "      <td>4</td>\n",
       "      <td>5</td>\n",
       "      <td>0</td>\n",
       "      <td>0.0</td>\n",
       "      <td>1</td>\n",
       "    </tr>\n",
       "    <tr>\n",
       "      <th>3</th>\n",
       "      <td>Female</td>\n",
       "      <td>Loyal Customer</td>\n",
       "      <td>25</td>\n",
       "      <td>Business travel</td>\n",
       "      <td>Business</td>\n",
       "      <td>562</td>\n",
       "      <td>2</td>\n",
       "      <td>5</td>\n",
       "      <td>5</td>\n",
       "      <td>5</td>\n",
       "      <td>2</td>\n",
       "      <td>2</td>\n",
       "      <td>2</td>\n",
       "      <td>2</td>\n",
       "      <td>2</td>\n",
       "      <td>5</td>\n",
       "      <td>3</td>\n",
       "      <td>1</td>\n",
       "      <td>4</td>\n",
       "      <td>2</td>\n",
       "      <td>11</td>\n",
       "      <td>9.0</td>\n",
       "      <td>0</td>\n",
       "    </tr>\n",
       "    <tr>\n",
       "      <th>4</th>\n",
       "      <td>Male</td>\n",
       "      <td>Loyal Customer</td>\n",
       "      <td>61</td>\n",
       "      <td>Business travel</td>\n",
       "      <td>Business</td>\n",
       "      <td>214</td>\n",
       "      <td>3</td>\n",
       "      <td>3</td>\n",
       "      <td>3</td>\n",
       "      <td>3</td>\n",
       "      <td>4</td>\n",
       "      <td>5</td>\n",
       "      <td>5</td>\n",
       "      <td>3</td>\n",
       "      <td>3</td>\n",
       "      <td>4</td>\n",
       "      <td>4</td>\n",
       "      <td>3</td>\n",
       "      <td>3</td>\n",
       "      <td>3</td>\n",
       "      <td>0</td>\n",
       "      <td>0.0</td>\n",
       "      <td>1</td>\n",
       "    </tr>\n",
       "  </tbody>\n",
       "</table>\n",
       "</div>"
      ],
      "text/plain": [
       "   Gender      Customer Type  Age   Type of Travel     Class  Flight Distance  \\\n",
       "0    Male     Loyal Customer   13  Personal Travel  Eco Plus              460   \n",
       "1    Male  disloyal Customer   25  Business travel  Business              235   \n",
       "2  Female     Loyal Customer   26  Business travel  Business             1142   \n",
       "3  Female     Loyal Customer   25  Business travel  Business              562   \n",
       "4    Male     Loyal Customer   61  Business travel  Business              214   \n",
       "\n",
       "   Inflight wifi service  Departure/Arrival time convenient  \\\n",
       "0                      3                                  4   \n",
       "1                      3                                  2   \n",
       "2                      2                                  2   \n",
       "3                      2                                  5   \n",
       "4                      3                                  3   \n",
       "\n",
       "   Ease of Online booking  Gate location  Food and drink  Online boarding  \\\n",
       "0                       3              1               5                3   \n",
       "1                       3              3               1                3   \n",
       "2                       2              2               5                5   \n",
       "3                       5              5               2                2   \n",
       "4                       3              3               4                5   \n",
       "\n",
       "   Seat comfort  Inflight entertainment  On-board service  Leg room service  \\\n",
       "0             5                       5                 4                 3   \n",
       "1             1                       1                 1                 5   \n",
       "2             5                       5                 4                 3   \n",
       "3             2                       2                 2                 5   \n",
       "4             5                       3                 3                 4   \n",
       "\n",
       "   Baggage handling  Checkin service  Inflight service  Cleanliness  \\\n",
       "0                 4                4                 5            5   \n",
       "1                 3                1                 4            1   \n",
       "2                 4                4                 4            5   \n",
       "3                 3                1                 4            2   \n",
       "4                 4                3                 3            3   \n",
       "\n",
       "   Departure Delay in Minutes  Arrival Delay in Minutes  satisfaction  \n",
       "0                          25                      18.0             0  \n",
       "1                           1                       6.0             0  \n",
       "2                           0                       0.0             1  \n",
       "3                          11                       9.0             0  \n",
       "4                           0                       0.0             1  "
      ]
     },
     "execution_count": 41,
     "metadata": {},
     "output_type": "execute_result"
    }
   ],
   "source": [
    "data.head(5)"
   ]
  },
  {
   "cell_type": "code",
   "execution_count": 42,
   "metadata": {},
   "outputs": [],
   "source": [
    "# create features list\n",
    "features_cat = ['Gender','Customer Type','Type of Travel','Class','Inflight wifi service','Departure/Arrival time convenient','Ease of Online booking','Gate location','Food and drink','Online boarding','Seat comfort','Inflight entertainment','On-board service','Leg room service','Baggage handling','Checkin service','Inflight service','Cleanliness']\n",
    "\n",
    "# change dtype of features list to category\n",
    "for i in features_cat:\n",
    "    data[i] = data[i].astype('category')\n",
    "    "
   ]
  },
  {
   "cell_type": "markdown",
   "metadata": {},
   "source": [
    "##### 5.2 Cardinality"
   ]
  },
  {
   "cell_type": "markdown",
   "metadata": {},
   "source": [
    "we need to find out if the data have high cardinality"
   ]
  },
  {
   "cell_type": "code",
   "execution_count": 43,
   "metadata": {},
   "outputs": [
    {
     "name": "stdout",
     "output_type": "stream",
     "text": [
      "Gender : 2\n",
      "Customer Type : 2\n",
      "Type of Travel : 2\n",
      "Class : 3\n",
      "Inflight wifi service : 6\n",
      "Departure/Arrival time convenient : 6\n",
      "Ease of Online booking : 6\n",
      "Gate location : 6\n",
      "Food and drink : 6\n",
      "Online boarding : 6\n",
      "Seat comfort : 6\n",
      "Inflight entertainment : 6\n",
      "On-board service : 6\n",
      "Leg room service : 6\n",
      "Baggage handling : 5\n",
      "Checkin service : 6\n",
      "Inflight service : 6\n",
      "Cleanliness : 6\n"
     ]
    }
   ],
   "source": [
    "# create loop for count unique values for 'object' and 'category' data types\n",
    "for i in features_cat:\n",
    "    print(i, ':', data[i].nunique())"
   ]
  },
  {
   "cell_type": "markdown",
   "metadata": {},
   "source": [
    "it seems there's no high cardinality for each categorical feature"
   ]
  },
  {
   "cell_type": "markdown",
   "metadata": {},
   "source": [
    "##### 5.3 Model inference"
   ]
  },
  {
   "cell_type": "code",
   "execution_count": 44,
   "metadata": {},
   "outputs": [
    {
     "data": {
      "text/html": [
       "<div>\n",
       "<style scoped>\n",
       "    .dataframe tbody tr th:only-of-type {\n",
       "        vertical-align: middle;\n",
       "    }\n",
       "\n",
       "    .dataframe tbody tr th {\n",
       "        vertical-align: top;\n",
       "    }\n",
       "\n",
       "    .dataframe thead th {\n",
       "        text-align: right;\n",
       "    }\n",
       "</style>\n",
       "<table border=\"1\" class=\"dataframe\">\n",
       "  <thead>\n",
       "    <tr style=\"text-align: right;\">\n",
       "      <th></th>\n",
       "      <th>Gender</th>\n",
       "      <th>Customer Type</th>\n",
       "      <th>Age</th>\n",
       "      <th>Type of Travel</th>\n",
       "      <th>Class</th>\n",
       "      <th>Flight Distance</th>\n",
       "      <th>Inflight wifi service</th>\n",
       "      <th>Departure/Arrival time convenient</th>\n",
       "      <th>Ease of Online booking</th>\n",
       "      <th>Gate location</th>\n",
       "      <th>Food and drink</th>\n",
       "      <th>Online boarding</th>\n",
       "      <th>Seat comfort</th>\n",
       "      <th>Inflight entertainment</th>\n",
       "      <th>On-board service</th>\n",
       "      <th>Leg room service</th>\n",
       "      <th>Baggage handling</th>\n",
       "      <th>Checkin service</th>\n",
       "      <th>Inflight service</th>\n",
       "      <th>Cleanliness</th>\n",
       "      <th>Departure Delay in Minutes</th>\n",
       "      <th>Arrival Delay in Minutes</th>\n",
       "      <th>satisfaction</th>\n",
       "    </tr>\n",
       "  </thead>\n",
       "  <tbody>\n",
       "    <tr>\n",
       "      <th>0</th>\n",
       "      <td>Female</td>\n",
       "      <td>Loyal Customer</td>\n",
       "      <td>33</td>\n",
       "      <td>Personal Travel</td>\n",
       "      <td>Eco</td>\n",
       "      <td>937</td>\n",
       "      <td>2</td>\n",
       "      <td>2</td>\n",
       "      <td>2</td>\n",
       "      <td>4</td>\n",
       "      <td>4</td>\n",
       "      <td>2</td>\n",
       "      <td>4</td>\n",
       "      <td>4</td>\n",
       "      <td>4</td>\n",
       "      <td>5</td>\n",
       "      <td>4</td>\n",
       "      <td>4</td>\n",
       "      <td>4</td>\n",
       "      <td>4</td>\n",
       "      <td>0</td>\n",
       "      <td>0.0</td>\n",
       "      <td>0</td>\n",
       "    </tr>\n",
       "    <tr>\n",
       "      <th>1</th>\n",
       "      <td>Female</td>\n",
       "      <td>Loyal Customer</td>\n",
       "      <td>48</td>\n",
       "      <td>Business travel</td>\n",
       "      <td>Business</td>\n",
       "      <td>937</td>\n",
       "      <td>1</td>\n",
       "      <td>1</td>\n",
       "      <td>1</td>\n",
       "      <td>1</td>\n",
       "      <td>3</td>\n",
       "      <td>5</td>\n",
       "      <td>5</td>\n",
       "      <td>2</td>\n",
       "      <td>2</td>\n",
       "      <td>2</td>\n",
       "      <td>2</td>\n",
       "      <td>3</td>\n",
       "      <td>2</td>\n",
       "      <td>3</td>\n",
       "      <td>0</td>\n",
       "      <td>0.0</td>\n",
       "      <td>1</td>\n",
       "    </tr>\n",
       "    <tr>\n",
       "      <th>2</th>\n",
       "      <td>Female</td>\n",
       "      <td>disloyal Customer</td>\n",
       "      <td>27</td>\n",
       "      <td>Business travel</td>\n",
       "      <td>Business</td>\n",
       "      <td>2125</td>\n",
       "      <td>3</td>\n",
       "      <td>3</td>\n",
       "      <td>3</td>\n",
       "      <td>2</td>\n",
       "      <td>3</td>\n",
       "      <td>3</td>\n",
       "      <td>3</td>\n",
       "      <td>3</td>\n",
       "      <td>3</td>\n",
       "      <td>5</td>\n",
       "      <td>5</td>\n",
       "      <td>3</td>\n",
       "      <td>4</td>\n",
       "      <td>3</td>\n",
       "      <td>0</td>\n",
       "      <td>0.0</td>\n",
       "      <td>0</td>\n",
       "    </tr>\n",
       "    <tr>\n",
       "      <th>3</th>\n",
       "      <td>Male</td>\n",
       "      <td>Loyal Customer</td>\n",
       "      <td>27</td>\n",
       "      <td>Business travel</td>\n",
       "      <td>Business</td>\n",
       "      <td>2157</td>\n",
       "      <td>2</td>\n",
       "      <td>2</td>\n",
       "      <td>3</td>\n",
       "      <td>2</td>\n",
       "      <td>5</td>\n",
       "      <td>5</td>\n",
       "      <td>5</td>\n",
       "      <td>5</td>\n",
       "      <td>5</td>\n",
       "      <td>4</td>\n",
       "      <td>5</td>\n",
       "      <td>4</td>\n",
       "      <td>4</td>\n",
       "      <td>5</td>\n",
       "      <td>0</td>\n",
       "      <td>0.0</td>\n",
       "      <td>1</td>\n",
       "    </tr>\n",
       "    <tr>\n",
       "      <th>4</th>\n",
       "      <td>Male</td>\n",
       "      <td>Loyal Customer</td>\n",
       "      <td>25</td>\n",
       "      <td>Business travel</td>\n",
       "      <td>Eco Plus</td>\n",
       "      <td>590</td>\n",
       "      <td>4</td>\n",
       "      <td>3</td>\n",
       "      <td>4</td>\n",
       "      <td>4</td>\n",
       "      <td>4</td>\n",
       "      <td>4</td>\n",
       "      <td>4</td>\n",
       "      <td>4</td>\n",
       "      <td>4</td>\n",
       "      <td>5</td>\n",
       "      <td>4</td>\n",
       "      <td>3</td>\n",
       "      <td>3</td>\n",
       "      <td>4</td>\n",
       "      <td>0</td>\n",
       "      <td>0.0</td>\n",
       "      <td>0</td>\n",
       "    </tr>\n",
       "  </tbody>\n",
       "</table>\n",
       "</div>"
      ],
      "text/plain": [
       "   Gender      Customer Type  Age   Type of Travel     Class  Flight Distance  \\\n",
       "0  Female     Loyal Customer   33  Personal Travel       Eco              937   \n",
       "1  Female     Loyal Customer   48  Business travel  Business              937   \n",
       "2  Female  disloyal Customer   27  Business travel  Business             2125   \n",
       "3    Male     Loyal Customer   27  Business travel  Business             2157   \n",
       "4    Male     Loyal Customer   25  Business travel  Eco Plus              590   \n",
       "\n",
       "  Inflight wifi service Departure/Arrival time convenient  \\\n",
       "0                     2                                 2   \n",
       "1                     1                                 1   \n",
       "2                     3                                 3   \n",
       "3                     2                                 2   \n",
       "4                     4                                 3   \n",
       "\n",
       "  Ease of Online booking Gate location Food and drink Online boarding  \\\n",
       "0                      2             4              4               2   \n",
       "1                      1             1              3               5   \n",
       "2                      3             2              3               3   \n",
       "3                      3             2              5               5   \n",
       "4                      4             4              4               4   \n",
       "\n",
       "  Seat comfort Inflight entertainment On-board service Leg room service  \\\n",
       "0            4                      4                4                5   \n",
       "1            5                      2                2                2   \n",
       "2            3                      3                3                5   \n",
       "3            5                      5                5                4   \n",
       "4            4                      4                4                5   \n",
       "\n",
       "  Baggage handling Checkin service Inflight service Cleanliness  \\\n",
       "0                4               4                4           4   \n",
       "1                2               3                2           3   \n",
       "2                5               3                4           3   \n",
       "3                5               4                4           5   \n",
       "4                4               3                3           4   \n",
       "\n",
       "   Departure Delay in Minutes  Arrival Delay in Minutes  satisfaction  \n",
       "0                           0                       0.0             0  \n",
       "1                           0                       0.0             1  \n",
       "2                           0                       0.0             0  \n",
       "3                           0                       0.0             1  \n",
       "4                           0                       0.0             0  "
      ]
     },
     "execution_count": 44,
     "metadata": {},
     "output_type": "execute_result"
    }
   ],
   "source": [
    "# get inference set\n",
    "random = 5\n",
    "data_inf = data.sample(1000,random_state=random)\n",
    "data_inf.reset_index(drop=True, inplace=True)\n",
    "data_inf.head(5)"
   ]
  },
  {
   "cell_type": "code",
   "execution_count": 45,
   "metadata": {},
   "outputs": [
    {
     "data": {
      "text/html": [
       "<div>\n",
       "<style scoped>\n",
       "    .dataframe tbody tr th:only-of-type {\n",
       "        vertical-align: middle;\n",
       "    }\n",
       "\n",
       "    .dataframe tbody tr th {\n",
       "        vertical-align: top;\n",
       "    }\n",
       "\n",
       "    .dataframe thead th {\n",
       "        text-align: right;\n",
       "    }\n",
       "</style>\n",
       "<table border=\"1\" class=\"dataframe\">\n",
       "  <thead>\n",
       "    <tr style=\"text-align: right;\">\n",
       "      <th></th>\n",
       "      <th>Gender</th>\n",
       "      <th>Customer Type</th>\n",
       "      <th>Age</th>\n",
       "      <th>Type of Travel</th>\n",
       "      <th>Class</th>\n",
       "      <th>Flight Distance</th>\n",
       "      <th>Inflight wifi service</th>\n",
       "      <th>Departure/Arrival time convenient</th>\n",
       "      <th>Ease of Online booking</th>\n",
       "      <th>Gate location</th>\n",
       "      <th>Food and drink</th>\n",
       "      <th>Online boarding</th>\n",
       "      <th>Seat comfort</th>\n",
       "      <th>Inflight entertainment</th>\n",
       "      <th>On-board service</th>\n",
       "      <th>Leg room service</th>\n",
       "      <th>Baggage handling</th>\n",
       "      <th>Checkin service</th>\n",
       "      <th>Inflight service</th>\n",
       "      <th>Cleanliness</th>\n",
       "      <th>Departure Delay in Minutes</th>\n",
       "      <th>Arrival Delay in Minutes</th>\n",
       "      <th>satisfaction</th>\n",
       "    </tr>\n",
       "  </thead>\n",
       "  <tbody>\n",
       "    <tr>\n",
       "      <th>0</th>\n",
       "      <td>Male</td>\n",
       "      <td>disloyal Customer</td>\n",
       "      <td>27</td>\n",
       "      <td>Business travel</td>\n",
       "      <td>Business</td>\n",
       "      <td>1089</td>\n",
       "      <td>2</td>\n",
       "      <td>2</td>\n",
       "      <td>2</td>\n",
       "      <td>1</td>\n",
       "      <td>1</td>\n",
       "      <td>2</td>\n",
       "      <td>1</td>\n",
       "      <td>1</td>\n",
       "      <td>4</td>\n",
       "      <td>5</td>\n",
       "      <td>4</td>\n",
       "      <td>5</td>\n",
       "      <td>4</td>\n",
       "      <td>1</td>\n",
       "      <td>0</td>\n",
       "      <td>7.0</td>\n",
       "      <td>0</td>\n",
       "    </tr>\n",
       "    <tr>\n",
       "      <th>1</th>\n",
       "      <td>Female</td>\n",
       "      <td>Loyal Customer</td>\n",
       "      <td>55</td>\n",
       "      <td>Personal Travel</td>\n",
       "      <td>Eco</td>\n",
       "      <td>419</td>\n",
       "      <td>2</td>\n",
       "      <td>4</td>\n",
       "      <td>3</td>\n",
       "      <td>3</td>\n",
       "      <td>3</td>\n",
       "      <td>1</td>\n",
       "      <td>4</td>\n",
       "      <td>1</td>\n",
       "      <td>1</td>\n",
       "      <td>3</td>\n",
       "      <td>2</td>\n",
       "      <td>3</td>\n",
       "      <td>1</td>\n",
       "      <td>4</td>\n",
       "      <td>0</td>\n",
       "      <td>0.0</td>\n",
       "      <td>0</td>\n",
       "    </tr>\n",
       "    <tr>\n",
       "      <th>2</th>\n",
       "      <td>Male</td>\n",
       "      <td>Loyal Customer</td>\n",
       "      <td>28</td>\n",
       "      <td>Business travel</td>\n",
       "      <td>Business</td>\n",
       "      <td>1942</td>\n",
       "      <td>4</td>\n",
       "      <td>4</td>\n",
       "      <td>3</td>\n",
       "      <td>4</td>\n",
       "      <td>5</td>\n",
       "      <td>5</td>\n",
       "      <td>5</td>\n",
       "      <td>5</td>\n",
       "      <td>1</td>\n",
       "      <td>2</td>\n",
       "      <td>5</td>\n",
       "      <td>5</td>\n",
       "      <td>4</td>\n",
       "      <td>5</td>\n",
       "      <td>0</td>\n",
       "      <td>0.0</td>\n",
       "      <td>1</td>\n",
       "    </tr>\n",
       "    <tr>\n",
       "      <th>3</th>\n",
       "      <td>Female</td>\n",
       "      <td>disloyal Customer</td>\n",
       "      <td>56</td>\n",
       "      <td>Personal Travel</td>\n",
       "      <td>Eco</td>\n",
       "      <td>589</td>\n",
       "      <td>1</td>\n",
       "      <td>5</td>\n",
       "      <td>1</td>\n",
       "      <td>3</td>\n",
       "      <td>3</td>\n",
       "      <td>1</td>\n",
       "      <td>4</td>\n",
       "      <td>3</td>\n",
       "      <td>4</td>\n",
       "      <td>1</td>\n",
       "      <td>1</td>\n",
       "      <td>5</td>\n",
       "      <td>4</td>\n",
       "      <td>3</td>\n",
       "      <td>7</td>\n",
       "      <td>12.0</td>\n",
       "      <td>0</td>\n",
       "    </tr>\n",
       "    <tr>\n",
       "      <th>4</th>\n",
       "      <td>Female</td>\n",
       "      <td>Loyal Customer</td>\n",
       "      <td>51</td>\n",
       "      <td>Business travel</td>\n",
       "      <td>Business</td>\n",
       "      <td>2246</td>\n",
       "      <td>5</td>\n",
       "      <td>5</td>\n",
       "      <td>5</td>\n",
       "      <td>5</td>\n",
       "      <td>4</td>\n",
       "      <td>5</td>\n",
       "      <td>5</td>\n",
       "      <td>3</td>\n",
       "      <td>3</td>\n",
       "      <td>4</td>\n",
       "      <td>3</td>\n",
       "      <td>3</td>\n",
       "      <td>3</td>\n",
       "      <td>5</td>\n",
       "      <td>41</td>\n",
       "      <td>32.0</td>\n",
       "      <td>1</td>\n",
       "    </tr>\n",
       "    <tr>\n",
       "      <th>...</th>\n",
       "      <td>...</td>\n",
       "      <td>...</td>\n",
       "      <td>...</td>\n",
       "      <td>...</td>\n",
       "      <td>...</td>\n",
       "      <td>...</td>\n",
       "      <td>...</td>\n",
       "      <td>...</td>\n",
       "      <td>...</td>\n",
       "      <td>...</td>\n",
       "      <td>...</td>\n",
       "      <td>...</td>\n",
       "      <td>...</td>\n",
       "      <td>...</td>\n",
       "      <td>...</td>\n",
       "      <td>...</td>\n",
       "      <td>...</td>\n",
       "      <td>...</td>\n",
       "      <td>...</td>\n",
       "      <td>...</td>\n",
       "      <td>...</td>\n",
       "      <td>...</td>\n",
       "      <td>...</td>\n",
       "    </tr>\n",
       "    <tr>\n",
       "      <th>128875</th>\n",
       "      <td>Male</td>\n",
       "      <td>disloyal Customer</td>\n",
       "      <td>34</td>\n",
       "      <td>Business travel</td>\n",
       "      <td>Business</td>\n",
       "      <td>526</td>\n",
       "      <td>3</td>\n",
       "      <td>3</td>\n",
       "      <td>3</td>\n",
       "      <td>1</td>\n",
       "      <td>4</td>\n",
       "      <td>3</td>\n",
       "      <td>4</td>\n",
       "      <td>4</td>\n",
       "      <td>3</td>\n",
       "      <td>2</td>\n",
       "      <td>4</td>\n",
       "      <td>4</td>\n",
       "      <td>5</td>\n",
       "      <td>4</td>\n",
       "      <td>0</td>\n",
       "      <td>0.0</td>\n",
       "      <td>0</td>\n",
       "    </tr>\n",
       "    <tr>\n",
       "      <th>128876</th>\n",
       "      <td>Male</td>\n",
       "      <td>Loyal Customer</td>\n",
       "      <td>23</td>\n",
       "      <td>Business travel</td>\n",
       "      <td>Business</td>\n",
       "      <td>646</td>\n",
       "      <td>4</td>\n",
       "      <td>4</td>\n",
       "      <td>4</td>\n",
       "      <td>4</td>\n",
       "      <td>4</td>\n",
       "      <td>4</td>\n",
       "      <td>4</td>\n",
       "      <td>4</td>\n",
       "      <td>4</td>\n",
       "      <td>5</td>\n",
       "      <td>5</td>\n",
       "      <td>5</td>\n",
       "      <td>5</td>\n",
       "      <td>4</td>\n",
       "      <td>0</td>\n",
       "      <td>0.0</td>\n",
       "      <td>1</td>\n",
       "    </tr>\n",
       "    <tr>\n",
       "      <th>128877</th>\n",
       "      <td>Female</td>\n",
       "      <td>Loyal Customer</td>\n",
       "      <td>17</td>\n",
       "      <td>Personal Travel</td>\n",
       "      <td>Eco</td>\n",
       "      <td>828</td>\n",
       "      <td>2</td>\n",
       "      <td>5</td>\n",
       "      <td>1</td>\n",
       "      <td>5</td>\n",
       "      <td>2</td>\n",
       "      <td>1</td>\n",
       "      <td>2</td>\n",
       "      <td>2</td>\n",
       "      <td>4</td>\n",
       "      <td>3</td>\n",
       "      <td>4</td>\n",
       "      <td>5</td>\n",
       "      <td>4</td>\n",
       "      <td>2</td>\n",
       "      <td>0</td>\n",
       "      <td>0.0</td>\n",
       "      <td>0</td>\n",
       "    </tr>\n",
       "    <tr>\n",
       "      <th>128878</th>\n",
       "      <td>Male</td>\n",
       "      <td>Loyal Customer</td>\n",
       "      <td>14</td>\n",
       "      <td>Business travel</td>\n",
       "      <td>Business</td>\n",
       "      <td>1127</td>\n",
       "      <td>3</td>\n",
       "      <td>3</td>\n",
       "      <td>3</td>\n",
       "      <td>3</td>\n",
       "      <td>4</td>\n",
       "      <td>4</td>\n",
       "      <td>4</td>\n",
       "      <td>4</td>\n",
       "      <td>3</td>\n",
       "      <td>2</td>\n",
       "      <td>5</td>\n",
       "      <td>4</td>\n",
       "      <td>5</td>\n",
       "      <td>4</td>\n",
       "      <td>0</td>\n",
       "      <td>0.0</td>\n",
       "      <td>1</td>\n",
       "    </tr>\n",
       "    <tr>\n",
       "      <th>128879</th>\n",
       "      <td>Female</td>\n",
       "      <td>Loyal Customer</td>\n",
       "      <td>42</td>\n",
       "      <td>Personal Travel</td>\n",
       "      <td>Eco</td>\n",
       "      <td>264</td>\n",
       "      <td>2</td>\n",
       "      <td>5</td>\n",
       "      <td>2</td>\n",
       "      <td>5</td>\n",
       "      <td>4</td>\n",
       "      <td>2</td>\n",
       "      <td>2</td>\n",
       "      <td>1</td>\n",
       "      <td>1</td>\n",
       "      <td>2</td>\n",
       "      <td>1</td>\n",
       "      <td>1</td>\n",
       "      <td>1</td>\n",
       "      <td>1</td>\n",
       "      <td>0</td>\n",
       "      <td>0.0</td>\n",
       "      <td>0</td>\n",
       "    </tr>\n",
       "  </tbody>\n",
       "</table>\n",
       "<p>128880 rows × 23 columns</p>\n",
       "</div>"
      ],
      "text/plain": [
       "        Gender      Customer Type  Age   Type of Travel     Class  \\\n",
       "0         Male  disloyal Customer   27  Business travel  Business   \n",
       "1       Female     Loyal Customer   55  Personal Travel       Eco   \n",
       "2         Male     Loyal Customer   28  Business travel  Business   \n",
       "3       Female  disloyal Customer   56  Personal Travel       Eco   \n",
       "4       Female     Loyal Customer   51  Business travel  Business   \n",
       "...        ...                ...  ...              ...       ...   \n",
       "128875    Male  disloyal Customer   34  Business travel  Business   \n",
       "128876    Male     Loyal Customer   23  Business travel  Business   \n",
       "128877  Female     Loyal Customer   17  Personal Travel       Eco   \n",
       "128878    Male     Loyal Customer   14  Business travel  Business   \n",
       "128879  Female     Loyal Customer   42  Personal Travel       Eco   \n",
       "\n",
       "        Flight Distance Inflight wifi service  \\\n",
       "0                  1089                     2   \n",
       "1                   419                     2   \n",
       "2                  1942                     4   \n",
       "3                   589                     1   \n",
       "4                  2246                     5   \n",
       "...                 ...                   ...   \n",
       "128875              526                     3   \n",
       "128876              646                     4   \n",
       "128877              828                     2   \n",
       "128878             1127                     3   \n",
       "128879              264                     2   \n",
       "\n",
       "       Departure/Arrival time convenient Ease of Online booking Gate location  \\\n",
       "0                                      2                      2             1   \n",
       "1                                      4                      3             3   \n",
       "2                                      4                      3             4   \n",
       "3                                      5                      1             3   \n",
       "4                                      5                      5             5   \n",
       "...                                  ...                    ...           ...   \n",
       "128875                                 3                      3             1   \n",
       "128876                                 4                      4             4   \n",
       "128877                                 5                      1             5   \n",
       "128878                                 3                      3             3   \n",
       "128879                                 5                      2             5   \n",
       "\n",
       "       Food and drink Online boarding Seat comfort Inflight entertainment  \\\n",
       "0                   1               2            1                      1   \n",
       "1                   3               1            4                      1   \n",
       "2                   5               5            5                      5   \n",
       "3                   3               1            4                      3   \n",
       "4                   4               5            5                      3   \n",
       "...               ...             ...          ...                    ...   \n",
       "128875              4               3            4                      4   \n",
       "128876              4               4            4                      4   \n",
       "128877              2               1            2                      2   \n",
       "128878              4               4            4                      4   \n",
       "128879              4               2            2                      1   \n",
       "\n",
       "       On-board service Leg room service Baggage handling Checkin service  \\\n",
       "0                     4                5                4               5   \n",
       "1                     1                3                2               3   \n",
       "2                     1                2                5               5   \n",
       "3                     4                1                1               5   \n",
       "4                     3                4                3               3   \n",
       "...                 ...              ...              ...             ...   \n",
       "128875                3                2                4               4   \n",
       "128876                4                5                5               5   \n",
       "128877                4                3                4               5   \n",
       "128878                3                2                5               4   \n",
       "128879                1                2                1               1   \n",
       "\n",
       "       Inflight service Cleanliness  Departure Delay in Minutes  \\\n",
       "0                     4           1                           0   \n",
       "1                     1           4                           0   \n",
       "2                     4           5                           0   \n",
       "3                     4           3                           7   \n",
       "4                     3           5                          41   \n",
       "...                 ...         ...                         ...   \n",
       "128875                5           4                           0   \n",
       "128876                5           4                           0   \n",
       "128877                4           2                           0   \n",
       "128878                5           4                           0   \n",
       "128879                1           1                           0   \n",
       "\n",
       "        Arrival Delay in Minutes  satisfaction  \n",
       "0                            7.0             0  \n",
       "1                            0.0             0  \n",
       "2                            0.0             1  \n",
       "3                           12.0             0  \n",
       "4                           32.0             1  \n",
       "...                          ...           ...  \n",
       "128875                       0.0             0  \n",
       "128876                       0.0             1  \n",
       "128877                       0.0             0  \n",
       "128878                       0.0             1  \n",
       "128879                       0.0             0  \n",
       "\n",
       "[128880 rows x 23 columns]"
      ]
     },
     "execution_count": 45,
     "metadata": {},
     "output_type": "execute_result"
    }
   ],
   "source": [
    "#remove inference set from data\n",
    "data_train_test = data.drop(data_inf.index)\n",
    "\n",
    "#reset index\n",
    "data_train_test.reset_index(drop=True)"
   ]
  },
  {
   "cell_type": "markdown",
   "metadata": {},
   "source": [
    "##### 5.4 Splitting Dataset"
   ]
  },
  {
   "cell_type": "markdown",
   "metadata": {},
   "source": [
    "we split dataset to train_val_set and test_set"
   ]
  },
  {
   "cell_type": "code",
   "execution_count": 46,
   "metadata": {},
   "outputs": [
    {
     "data": {
      "image/png": "[encoded data removed]",
      "text/plain": [
       "<Figure size 1500x750 with 1 Axes>"
      ]
     },
     "metadata": {},
     "output_type": "display_data"
    },
    {
     "name": "stdout",
     "output_type": "stream",
     "text": [
      "0    0.56558\n",
      "1    0.43442\n",
      "Name: satisfaction, dtype: float64\n"
     ]
    }
   ],
   "source": [
    "#countplot for y\n",
    "plt.figure(figsize=(15,7.5))\n",
    "sns.countplot(x=data_train_test.satisfaction)\n",
    "plt.title('Satisfaction')\n",
    "plt.show()\n",
    "\n",
    "# percentage of y\n",
    "print(data_train_test.satisfaction.value_counts(normalize=True))"
   ]
  },
  {
   "cell_type": "markdown",
   "metadata": {},
   "source": [
    "the proportion of target variable is 56:44 so we can assume the data is balanced"
   ]
  },
  {
   "cell_type": "code",
   "execution_count": 47,
   "metadata": {},
   "outputs": [],
   "source": [
    "# split data to X and y\n",
    "X = data_train_test.drop(['satisfaction'], axis=1)\n",
    "y = data_train_test['satisfaction']"
   ]
  },
  {
   "cell_type": "code",
   "execution_count": 48,
   "metadata": {},
   "outputs": [
    {
     "name": "stdout",
     "output_type": "stream",
     "text": [
      "X_train shape:  (103104, 22)\n",
      "X_test shape:  (25776, 22)\n"
     ]
    }
   ],
   "source": [
    "# split X_train, X_test, y_train, y_test\n",
    "X_train, X_test, y_train, y_test = train_test_split(X, y, test_size=0.2, random_state=random)\n",
    "\n",
    "# X_train shape\n",
    "print('X_train shape: ', X_train.shape)\n",
    "\n",
    "# X_test shape\n",
    "print('X_test shape: ', X_test.shape)"
   ]
  },
  {
   "cell_type": "markdown",
   "metadata": {},
   "source": [
    "##### 5.5 Split data X_train for handling outlier & Handling missing values"
   ]
  },
  {
   "cell_type": "markdown",
   "metadata": {},
   "source": [
    "split data with dtypes 'np.number' and 'object'"
   ]
  },
  {
   "cell_type": "code",
   "execution_count": 49,
   "metadata": {},
   "outputs": [
    {
     "name": "stdout",
     "output_type": "stream",
     "text": [
      "Generate 'X_train_num' and 'X_train_cat'\n"
     ]
    }
   ],
   "source": [
    "#select data with dtypes 'np.number' and 'object'\n",
    "def split_dtypes(data):\n",
    "    global X_train_num,X_train_cat\n",
    "    X_train_num = data.select_dtypes(np.number)\n",
    "    X_train_cat = data.select_dtypes('category')\n",
    "    print(\"Generate 'X_train_num' and 'X_train_cat'\")\n",
    "\n",
    "split_dtypes(X_train)\n"
   ]
  },
  {
   "cell_type": "markdown",
   "metadata": {},
   "source": [
    "split data numerical based on distribution : normal or skewed"
   ]
  },
  {
   "cell_type": "code",
   "execution_count": 50,
   "metadata": {},
   "outputs": [
    {
     "name": "stdout",
     "output_type": "stream",
     "text": [
      "Generate \"distribution_df\"\n"
     ]
    },
    {
     "data": {
      "text/html": [
       "<div>\n",
       "<style scoped>\n",
       "    .dataframe tbody tr th:only-of-type {\n",
       "        vertical-align: middle;\n",
       "    }\n",
       "\n",
       "    .dataframe tbody tr th {\n",
       "        vertical-align: top;\n",
       "    }\n",
       "\n",
       "    .dataframe thead th {\n",
       "        text-align: right;\n",
       "    }\n",
       "</style>\n",
       "<table border=\"1\" class=\"dataframe\">\n",
       "  <thead>\n",
       "    <tr style=\"text-align: right;\">\n",
       "      <th></th>\n",
       "      <th>feature</th>\n",
       "      <th>skewness</th>\n",
       "      <th>distribution</th>\n",
       "    </tr>\n",
       "  </thead>\n",
       "  <tbody>\n",
       "    <tr>\n",
       "      <th>1</th>\n",
       "      <td>Flight Distance</td>\n",
       "      <td>1.110640</td>\n",
       "      <td>skew</td>\n",
       "    </tr>\n",
       "    <tr>\n",
       "      <th>2</th>\n",
       "      <td>Departure Delay in Minutes</td>\n",
       "      <td>6.507927</td>\n",
       "      <td>skew</td>\n",
       "    </tr>\n",
       "    <tr>\n",
       "      <th>3</th>\n",
       "      <td>Arrival Delay in Minutes</td>\n",
       "      <td>6.347112</td>\n",
       "      <td>skew</td>\n",
       "    </tr>\n",
       "    <tr>\n",
       "      <th>0</th>\n",
       "      <td>Age</td>\n",
       "      <td>-0.003441</td>\n",
       "      <td>normal</td>\n",
       "    </tr>\n",
       "  </tbody>\n",
       "</table>\n",
       "</div>"
      ],
      "text/plain": [
       "                      feature  skewness distribution\n",
       "1             Flight Distance  1.110640         skew\n",
       "2  Departure Delay in Minutes  6.507927         skew\n",
       "3    Arrival Delay in Minutes  6.347112         skew\n",
       "0                         Age -0.003441       normal"
      ]
     },
     "execution_count": 50,
     "metadata": {},
     "output_type": "execute_result"
    }
   ],
   "source": [
    "#create function to split normal and skew data\n",
    "def split_norm_skew_test(data):\n",
    "    #create data frame with columns name : feature, skewness,distribution\n",
    "    global distribution_df\n",
    "    distribution_df = pd.DataFrame(columns=['feature','skewness','distribution'])\n",
    "    for i in range(len(data.columns)):\n",
    "        if data[data.columns[i]].skew() > -0.5 and data[data.columns[i]].skew() < 0.5 :\n",
    "            distribution_df.loc[i] = [data.columns[i],data[data.columns[i]].skew(),'normal']\n",
    "        else:\n",
    "            distribution_df.loc[i] = [data.columns[i],data[data.columns[i]].skew(),'skew']\n",
    "    \n",
    "    print('Generate \"distribution_df\"')\n",
    "\n",
    "####################################################\n",
    "split_norm_skew_test(X_train_num)\n",
    "\n",
    "distribution_df.sort_values(by='distribution',ascending=False)"
   ]
  },
  {
   "cell_type": "markdown",
   "metadata": {},
   "source": [
    "##### 5.5.1 Handling Outlier"
   ]
  },
  {
   "cell_type": "markdown",
   "metadata": {},
   "source": [
    "##### 5.5.1.1 Detect outlier for each distribution"
   ]
  },
  {
   "cell_type": "code",
   "execution_count": 51,
   "metadata": {},
   "outputs": [
    {
     "name": "stdout",
     "output_type": "stream",
     "text": [
      "Generate outlier_df\n"
     ]
    },
    {
     "data": {
      "text/html": [
       "<div>\n",
       "<style scoped>\n",
       "    .dataframe tbody tr th:only-of-type {\n",
       "        vertical-align: middle;\n",
       "    }\n",
       "\n",
       "    .dataframe tbody tr th {\n",
       "        vertical-align: top;\n",
       "    }\n",
       "\n",
       "    .dataframe thead th {\n",
       "        text-align: right;\n",
       "    }\n",
       "</style>\n",
       "<table border=\"1\" class=\"dataframe\">\n",
       "  <thead>\n",
       "    <tr style=\"text-align: right;\">\n",
       "      <th></th>\n",
       "      <th>feature</th>\n",
       "      <th>distribution</th>\n",
       "      <th>left_tail</th>\n",
       "      <th>right_tail</th>\n",
       "      <th>outlier</th>\n",
       "      <th>percentage</th>\n",
       "    </tr>\n",
       "  </thead>\n",
       "  <tbody>\n",
       "    <tr>\n",
       "      <th>2</th>\n",
       "      <td>Departure Delay in Minutes</td>\n",
       "      <td>skew</td>\n",
       "      <td>0</td>\n",
       "      <td>14355</td>\n",
       "      <td>14355</td>\n",
       "      <td>13.922835</td>\n",
       "    </tr>\n",
       "    <tr>\n",
       "      <th>3</th>\n",
       "      <td>Arrival Delay in Minutes</td>\n",
       "      <td>skew</td>\n",
       "      <td>0</td>\n",
       "      <td>13859</td>\n",
       "      <td>13859</td>\n",
       "      <td>13.441768</td>\n",
       "    </tr>\n",
       "    <tr>\n",
       "      <th>1</th>\n",
       "      <td>Flight Distance</td>\n",
       "      <td>skew</td>\n",
       "      <td>0</td>\n",
       "      <td>2305</td>\n",
       "      <td>2305</td>\n",
       "      <td>2.235607</td>\n",
       "    </tr>\n",
       "    <tr>\n",
       "      <th>0</th>\n",
       "      <td>Age</td>\n",
       "      <td>normal</td>\n",
       "      <td>0</td>\n",
       "      <td>23</td>\n",
       "      <td>23</td>\n",
       "      <td>0.022308</td>\n",
       "    </tr>\n",
       "  </tbody>\n",
       "</table>\n",
       "</div>"
      ],
      "text/plain": [
       "                      feature distribution  left_tail  right_tail  outlier  \\\n",
       "2  Departure Delay in Minutes         skew          0       14355    14355   \n",
       "3    Arrival Delay in Minutes         skew          0       13859    13859   \n",
       "1             Flight Distance         skew          0        2305     2305   \n",
       "0                         Age       normal          0          23       23   \n",
       "\n",
       "   percentage  \n",
       "2   13.922835  \n",
       "3   13.441768  \n",
       "1    2.235607  \n",
       "0    0.022308  "
      ]
     },
     "execution_count": 51,
     "metadata": {},
     "output_type": "execute_result"
    }
   ],
   "source": [
    "# create function to detect outliers based on distribution\n",
    "def detect_outlier(data_name):\n",
    "    #create dataframe with columns name : feature, distribution, outlier\n",
    "    global outlier_df\n",
    "    outlier_df = pd.DataFrame(columns=['feature','distribution','left_tail','right_tail','outlier','percentage'])\n",
    "    #create loop for each feature\n",
    "    for i in range(len(data_name.columns)):\n",
    "        #create if statement for each distribution\n",
    "        if data_name.iloc[:,i].skew() > -0.5 and data_name.iloc[:,i].skew() < 0.5 :\n",
    "            #count outlier for normal distribution based on z-score\n",
    "            outlier_df.loc[i] = [data_name.columns[i],\n",
    "                                'normal',\n",
    "                                data_name.iloc[:,i][(stats.zscore(data_name.iloc[:,i],nan_policy='omit'))<-3].count(),\n",
    "                                data_name.iloc[:,i][(stats.zscore(data_name.iloc[:,i],nan_policy='omit'))>3].count(),\n",
    "                                data_name.iloc[:,i][abs(stats.zscore(data_name.iloc[:,i],nan_policy='omit'))>3].count(),\n",
    "                                data_name.iloc[:,i][abs(stats.zscore(data_name.iloc[:,i],nan_policy='omit'))>3].count()/len(data_name.iloc[:,i])*100]\n",
    "        else:\n",
    "            #count outlier for skew distribution based on IQR\n",
    "            Q1 = data_name.iloc[:,i].quantile(0.25)\n",
    "            Q3 = data_name.iloc[:,i].quantile(0.75)\n",
    "            IQR = Q3 - Q1\n",
    "            outlier_df.loc[i] = [data_name.columns[i],\n",
    "                                'skew',\n",
    "                                data_name.iloc[:,i][(data_name.iloc[:,i]<(Q1-1.5*IQR))].count(),\n",
    "                                data_name.iloc[:,i][(data_name.iloc[:,i]>(Q3+1.5*IQR))].count(),\n",
    "                                data_name.iloc[:,i][(data_name.iloc[:,i]<(Q1-1.5*IQR))|(data_name.iloc[:,i]>(Q3+1.5*IQR))].count(),\n",
    "                                data_name.iloc[:,i][(data_name.iloc[:,i]<(Q1-1.5*IQR))|(data_name.iloc[:,i]>(Q3+1.5*IQR))].count()/len(data_name.iloc[:,i])*100]\n",
    "\n",
    "    outlier_df = outlier_df[\n",
    "        (outlier_df['percentage'] != 0)\n",
    "    ].sort_values(by='percentage',ascending=False)\n",
    "\n",
    "    print('Generate outlier_df')\n",
    "\n",
    "detect_outlier(X_train_num)\n",
    "outlier_df"
   ]
  },
  {
   "cell_type": "markdown",
   "metadata": {},
   "source": [
    "##### 5.5.1.2 Handling outlier for each distribution with trimming/capping method"
   ]
  },
  {
   "cell_type": "markdown",
   "metadata": {},
   "source": [
    "Handling Outlier :\n",
    "1. Outlier < 5 % of the data, trimming\n",
    "2. Outlier bettween 5 & 15% of the data, Capping or winsorizing\n",
    "3. Outlier > 15% of the data, do nothing"
   ]
  },
  {
   "cell_type": "code",
   "execution_count": 55,
   "metadata": {},
   "outputs": [],
   "source": [
    "# create function to handling outliers\n",
    "def handling_outlier():\n",
    "    global X_train, y_train\n",
    "    norm_under_5 = outlier_df[outlier_df['distribution'] ==\n",
    "                              'normal'][outlier_df['percentage'] < 5]['feature'].tolist()\n",
    "    norm_over_5 = outlier_df[outlier_df['distribution'] ==\n",
    "                             'normal'][outlier_df['percentage'] > 5]['feature'].tolist()\n",
    "    skew_under_5 = outlier_df[outlier_df['distribution'] ==\n",
    "                              'skew'][outlier_df['percentage'] < 5]['feature'].tolist()\n",
    "    skew_over_5 = outlier_df[outlier_df['distribution'] ==\n",
    "                             'skew'][outlier_df['percentage'] > 5]['feature'].tolist()\n",
    "\n",
    "    # modify if there's any exception list\n",
    "    norm_under_5 = [x for x in norm_under_5 if x not in exception_list]\n",
    "    skew_under_5 = [x for x in skew_under_5 if x not in exception_list]\n",
    "    norm_over_5 = [x for x in norm_over_5 if x not in exception_list]\n",
    "    skew_over_5 = [x for x in skew_over_5 if x not in exception_list]\n",
    "\n",
    "    custom_list = ['norm_under_5', 'norm_over_5',\n",
    "                   'skew_under_5', 'skew_over_5']\n",
    "\n",
    "    for i in custom_list:\n",
    "        if i == 'norm_under_5' and len(norm_under_5) != 0:\n",
    "\n",
    "            trim_norm = OutlierTrimmer(capping_method='gaussian',\n",
    "                                       tail='both',  # left/right/both\n",
    "                                       fold=3,  # for gaussian 2 or 3\n",
    "                                       variables=norm_under_5,\n",
    "                                       missing_values='ignore')\n",
    "            trim_norm.fit(X_train)\n",
    "\n",
    "            X_train = trim_norm.transform(X_train)\n",
    "\n",
    "            # intersection of y_train and X_train index location\n",
    "            y_train = y_train.loc[y_train.index.intersection(X_train.index)]\n",
    "\n",
    "        elif i == 'norm_over_5' and len(norm_over_5) != 0:\n",
    "\n",
    "            winsorizer_norm = Winsorizer(capping_method='gaussian',\n",
    "                                         tail='both',  # left/right/both\n",
    "                                         fold=3,  # for gaussian 2 or 3\n",
    "                                         variables=norm_over_5,\n",
    "                                         missing_values='ignore')\n",
    "            winsorizer_norm.fit(X_train)\n",
    "\n",
    "            X_train = winsorizer_norm.transform(X_train)\n",
    "\n",
    "        elif i == 'skew_under_5' and len(skew_under_5) != 0:\n",
    "\n",
    "            trim_skew = OutlierTrimmer(capping_method='iqr',\n",
    "                                       tail='both',  # left/right/both\n",
    "                                       fold=1.5,  # for iqr 1 or 2\n",
    "                                       variables=skew_under_5,\n",
    "                                       missing_values='ignore')\n",
    "            trim_skew.fit(X_train)\n",
    "\n",
    "            X_train = trim_skew.transform(X_train)\n",
    "\n",
    "            # intersection of y_train and X_train\n",
    "\n",
    "            y_train = y_train.loc[y_train.index.intersection(X_train.index)]\n",
    "\n",
    "        elif i == 'skew_over_5' and len(skew_over_5) != 0:\n",
    "\n",
    "            winsorizer_skew = Winsorizer(capping_method='iqr',\n",
    "                                         tail='both',  # left/right/both\n",
    "                                         fold=1.5,  # for iqr 1 or 2\n",
    "                                         variables=skew_over_5,\n",
    "                                         missing_values='ignore')\n",
    "            winsorizer_skew.fit(X_train)\n",
    "\n",
    "            X_train = winsorizer_skew.transform(X_train)\n",
    "\n",
    "    print(\n",
    "        'Handling outliers Success! please use reload(data_name, example: reload(X_train)')\n",
    "\n",
    "# function to plot outlier\n",
    "\n",
    "\n",
    "def plot_outlier(data_name, feature_name):\n",
    "    plt.figure(figsize=(16, 4))\n",
    "\n",
    "    # histogram\n",
    "    plt.subplot(1, 2, 1)\n",
    "    sns.histplot(data=data_name, x=feature_name)\n",
    "    plt.title('Histogram')\n",
    "\n",
    "    # boxplot\n",
    "    plt.subplot(1, 2, 2)\n",
    "    sns.boxplot(data=data_name, x=feature_name)\n",
    "    plt.title('Boxplot')\n",
    "\n",
    "    plt.show()\n",
    "\n",
    "# function to reload after handling Outlier\n",
    "\n",
    "\n",
    "def reload(data_name):\n",
    "    # call function to split dtype\n",
    "    split_dtypes(data_name)\n",
    "    # call function to split norm and skew\n",
    "    split_norm_skew_test(X_train_num)\n",
    "    # call function to detect outliers\n",
    "    detect_outlier(X_train_num)\n",
    "\n",
    "\n",
    "exception_list = []\n"
   ]
  },
  {
   "cell_type": "markdown",
   "metadata": {},
   "source": [
    "##### Analysis the outliers "
   ]
  },
  {
   "cell_type": "code",
   "execution_count": 53,
   "metadata": {},
   "outputs": [
    {
     "data": {
      "text/html": [
       "<div>\n",
       "<style scoped>\n",
       "    .dataframe tbody tr th:only-of-type {\n",
       "        vertical-align: middle;\n",
       "    }\n",
       "\n",
       "    .dataframe tbody tr th {\n",
       "        vertical-align: top;\n",
       "    }\n",
       "\n",
       "    .dataframe thead th {\n",
       "        text-align: right;\n",
       "    }\n",
       "</style>\n",
       "<table border=\"1\" class=\"dataframe\">\n",
       "  <thead>\n",
       "    <tr style=\"text-align: right;\">\n",
       "      <th></th>\n",
       "      <th>feature</th>\n",
       "      <th>distribution</th>\n",
       "      <th>left_tail</th>\n",
       "      <th>right_tail</th>\n",
       "      <th>outlier</th>\n",
       "      <th>percentage</th>\n",
       "    </tr>\n",
       "  </thead>\n",
       "  <tbody>\n",
       "    <tr>\n",
       "      <th>2</th>\n",
       "      <td>Departure Delay in Minutes</td>\n",
       "      <td>skew</td>\n",
       "      <td>0</td>\n",
       "      <td>14355</td>\n",
       "      <td>14355</td>\n",
       "      <td>13.922835</td>\n",
       "    </tr>\n",
       "    <tr>\n",
       "      <th>3</th>\n",
       "      <td>Arrival Delay in Minutes</td>\n",
       "      <td>skew</td>\n",
       "      <td>0</td>\n",
       "      <td>13859</td>\n",
       "      <td>13859</td>\n",
       "      <td>13.441768</td>\n",
       "    </tr>\n",
       "    <tr>\n",
       "      <th>1</th>\n",
       "      <td>Flight Distance</td>\n",
       "      <td>skew</td>\n",
       "      <td>0</td>\n",
       "      <td>2305</td>\n",
       "      <td>2305</td>\n",
       "      <td>2.235607</td>\n",
       "    </tr>\n",
       "    <tr>\n",
       "      <th>0</th>\n",
       "      <td>Age</td>\n",
       "      <td>normal</td>\n",
       "      <td>0</td>\n",
       "      <td>23</td>\n",
       "      <td>23</td>\n",
       "      <td>0.022308</td>\n",
       "    </tr>\n",
       "  </tbody>\n",
       "</table>\n",
       "</div>"
      ],
      "text/plain": [
       "                      feature distribution  left_tail  right_tail  outlier  \\\n",
       "2  Departure Delay in Minutes         skew          0       14355    14355   \n",
       "3    Arrival Delay in Minutes         skew          0       13859    13859   \n",
       "1             Flight Distance         skew          0        2305     2305   \n",
       "0                         Age       normal          0          23       23   \n",
       "\n",
       "   percentage  \n",
       "2   13.922835  \n",
       "3   13.441768  \n",
       "1    2.235607  \n",
       "0    0.022308  "
      ]
     },
     "execution_count": 53,
     "metadata": {},
     "output_type": "execute_result"
    }
   ],
   "source": [
    "outlier_df"
   ]
  },
  {
   "cell_type": "markdown",
   "metadata": {},
   "source": [
    "Departure Delay in Minutes"
   ]
  },
  {
   "cell_type": "code",
   "execution_count": 56,
   "metadata": {},
   "outputs": [
    {
     "data": {
      "image/png": "[encoded data removed]",
      "text/plain": [
       "<Figure size 1600x400 with 2 Axes>"
      ]
     },
     "metadata": {},
     "output_type": "display_data"
    }
   ],
   "source": [
    "# plot outlier\n",
    "plot_outlier(X_train,'Departure Delay in Minutes')"
   ]
  },
  {
   "cell_type": "code",
   "execution_count": 57,
   "metadata": {},
   "outputs": [
    {
     "data": {
      "text/plain": [
       "count    103104.000000\n",
       "mean         14.715627\n",
       "std          38.003017\n",
       "min           0.000000\n",
       "25%           0.000000\n",
       "50%           0.000000\n",
       "75%          12.000000\n",
       "max        1305.000000\n",
       "Name: Departure Delay in Minutes, dtype: float64"
      ]
     },
     "execution_count": 57,
     "metadata": {},
     "output_type": "execute_result"
    }
   ],
   "source": [
    "X_train['Departure Delay in Minutes'].describe()"
   ]
  },
  {
   "cell_type": "markdown",
   "metadata": {},
   "source": [
    "analysis :\n",
    "* we can see the majority of `departure delay in minutes` is 0 means there's no delay in the flight.\n",
    "* the outlier is around 14% of the data so we will use capping method to handle it."
   ]
  },
  {
   "cell_type": "markdown",
   "metadata": {},
   "source": [
    "Arrival Delay in Minutes"
   ]
  },
  {
   "cell_type": "code",
   "execution_count": 58,
   "metadata": {},
   "outputs": [
    {
     "data": {
      "image/png": "[encoded data removed]",
      "text/plain": [
       "<Figure size 1600x400 with 2 Axes>"
      ]
     },
     "metadata": {},
     "output_type": "display_data"
    }
   ],
   "source": [
    "# plot outlier\n",
    "plot_outlier(X_train,'Arrival Delay in Minutes')"
   ]
  },
  {
   "cell_type": "code",
   "execution_count": 59,
   "metadata": {},
   "outputs": [
    {
     "data": {
      "text/plain": [
       "count    102783.000000\n",
       "mean         15.087544\n",
       "std          38.382994\n",
       "min           0.000000\n",
       "25%           0.000000\n",
       "50%           0.000000\n",
       "75%          13.000000\n",
       "max        1280.000000\n",
       "Name: Arrival Delay in Minutes, dtype: float64"
      ]
     },
     "execution_count": 59,
     "metadata": {},
     "output_type": "execute_result"
    }
   ],
   "source": [
    "X_train['Arrival Delay in Minutes'].describe()"
   ]
  },
  {
   "cell_type": "markdown",
   "metadata": {},
   "source": [
    "analysis :\n",
    "* we can see the majority of `arrival delay in minutes` is 0 means there's no delay in the flight.\n",
    "* the outlier is around 13% of the data so we will use capping method to handle it."
   ]
  },
  {
   "cell_type": "markdown",
   "metadata": {},
   "source": [
    "Flight Distance"
   ]
  },
  {
   "cell_type": "code",
   "execution_count": 60,
   "metadata": {},
   "outputs": [
    {
     "data": {
      "image/png": "[encoded data removed]",
      "text/plain": [
       "<Figure size 1600x400 with 2 Axes>"
      ]
     },
     "metadata": {},
     "output_type": "display_data"
    }
   ],
   "source": [
    "# plot outlier\n",
    "plot_outlier(X_train,'Flight Distance')"
   ]
  },
  {
   "cell_type": "code",
   "execution_count": 61,
   "metadata": {},
   "outputs": [
    {
     "data": {
      "text/plain": [
       "count    103104.000000\n",
       "mean       1187.802937\n",
       "std         996.154964\n",
       "min          31.000000\n",
       "25%         414.000000\n",
       "50%         842.000000\n",
       "75%        1741.000000\n",
       "max        4983.000000\n",
       "Name: Flight Distance, dtype: float64"
      ]
     },
     "execution_count": 61,
     "metadata": {},
     "output_type": "execute_result"
    }
   ],
   "source": [
    "X_train['Flight Distance'].describe()"
   ]
  },
  {
   "cell_type": "markdown",
   "metadata": {},
   "source": [
    "analysis : \n",
    "* the outlier is around 2% of the data so we will use trimming method to handle it."
   ]
  },
  {
   "cell_type": "markdown",
   "metadata": {},
   "source": [
    "Age"
   ]
  },
  {
   "cell_type": "code",
   "execution_count": 62,
   "metadata": {},
   "outputs": [
    {
     "data": {
      "image/png": "[encoded data removed]",
      "text/plain": [
       "<Figure size 1600x400 with 2 Axes>"
      ]
     },
     "metadata": {},
     "output_type": "display_data"
    }
   ],
   "source": [
    "# plot outlier\n",
    "plot_outlier(X_train,'Age')"
   ]
  },
  {
   "cell_type": "code",
   "execution_count": 63,
   "metadata": {},
   "outputs": [
    {
     "data": {
      "text/plain": [
       "count    103104.000000\n",
       "mean         39.471951\n",
       "std          15.114176\n",
       "min           7.000000\n",
       "25%          27.000000\n",
       "50%          40.000000\n",
       "75%          51.000000\n",
       "max          85.000000\n",
       "Name: Age, dtype: float64"
      ]
     },
     "execution_count": 63,
     "metadata": {},
     "output_type": "execute_result"
    }
   ],
   "source": [
    "X_train['Age'].describe()"
   ]
  },
  {
   "cell_type": "markdown",
   "metadata": {},
   "source": [
    "analysis :\n",
    "* the outlier is around 0.02% of the data so we will use trimming method to handle it."
   ]
  },
  {
   "cell_type": "markdown",
   "metadata": {},
   "source": [
    "##### Handling Outliers"
   ]
  },
  {
   "cell_type": "code",
   "execution_count": 64,
   "metadata": {},
   "outputs": [
    {
     "name": "stdout",
     "output_type": "stream",
     "text": [
      "Handling outliers Success! please use reload(data_name, example: reload(X_train)\n"
     ]
    }
   ],
   "source": [
    "# create exception list\n",
    "exception_list = []\n",
    "handling_outlier()"
   ]
  },
  {
   "cell_type": "code",
   "execution_count": 65,
   "metadata": {},
   "outputs": [
    {
     "name": "stdout",
     "output_type": "stream",
     "text": [
      "Generate 'X_train_num' and 'X_train_cat'\n",
      "Generate \"distribution_df\"\n",
      "Generate outlier_df\n"
     ]
    }
   ],
   "source": [
    "reload(X_train)"
   ]
  },
  {
   "cell_type": "markdown",
   "metadata": {},
   "source": [
    "##### 5.5.2 Handling missing values"
   ]
  },
  {
   "cell_type": "markdown",
   "metadata": {},
   "source": [
    "Missing Values :\n",
    "\n",
    "1. If missing values are too small : Complete Case Analysis\n",
    "2. If missing values are less than 5% of the variable : Imputation\n",
    "3. If missing values are more than 5% of the variable:\n",
    "  - Mean/Median/Mode Imputation + adding 0/1 Imputation\n",
    "  - Add Missing Label Imputation (categorical variable)"
   ]
  },
  {
   "cell_type": "code",
   "execution_count": 66,
   "metadata": {},
   "outputs": [],
   "source": [
    "# create function to identify missing values by Normal distribution, Skew distribution, categorical\n",
    "def missing_values(data_name):\n",
    "    #create dataframe to store missing value, feature, type, missing value count, missing value percentage\n",
    "    global missing_df\n",
    "    found = False\n",
    "    missing_df = pd.DataFrame(columns=['feature','type','missing_value_count','missing_value_percentage'])\n",
    "    #create for loop to iterate through each column\n",
    "    for i in range(len(data_name.columns)):\n",
    "        #create if function to check dtype\n",
    "        if data_name.dtypes[i] == 'category':\n",
    "            #count missing value for categorical\n",
    "            missing_df.loc[i] = [data_name.columns[i],\n",
    "                                'Categorical',\n",
    "                                data_name.isnull().sum()[i],\n",
    "                                data_name.isnull().sum()[i]/len(data_name)*100]\n",
    "            found = True\n",
    "        else:\n",
    "            #create if function to check data distribution normal or skew\n",
    "            if data_name.iloc[:,i].skew()<-0.5 or data_name.iloc[:,i].skew()>0.5:\n",
    "                #count missing value for skew\n",
    "                missing_df.loc[i] = [data_name.columns[i],\n",
    "                                    'numerical-skew',\n",
    "                                    data_name.isnull().sum()[i],\n",
    "                                    data_name.isnull().sum()[i]/len(data_name)*100]\n",
    "                found = True            \n",
    "            else:\n",
    "                #count missing value for normal\n",
    "                missing_df.loc[i] = [data_name.columns[i],\n",
    "                                    'numerical-normal',\n",
    "                                    data_name.isnull().sum()[i],\n",
    "                                    data_name.isnull().sum()[i]/len(data_name)*100]\n",
    "                found = True\n",
    "    print('generate \"missing_df\"')"
   ]
  },
  {
   "cell_type": "markdown",
   "metadata": {},
   "source": [
    "##### 5.5.2.1 identify missing values in X_train"
   ]
  },
  {
   "cell_type": "code",
   "execution_count": 67,
   "metadata": {},
   "outputs": [
    {
     "name": "stdout",
     "output_type": "stream",
     "text": [
      "generate \"missing_df\"\n"
     ]
    },
    {
     "data": {
      "text/html": [
       "<div>\n",
       "<style scoped>\n",
       "    .dataframe tbody tr th:only-of-type {\n",
       "        vertical-align: middle;\n",
       "    }\n",
       "\n",
       "    .dataframe tbody tr th {\n",
       "        vertical-align: top;\n",
       "    }\n",
       "\n",
       "    .dataframe thead th {\n",
       "        text-align: right;\n",
       "    }\n",
       "</style>\n",
       "<table border=\"1\" class=\"dataframe\">\n",
       "  <thead>\n",
       "    <tr style=\"text-align: right;\">\n",
       "      <th></th>\n",
       "      <th>feature</th>\n",
       "      <th>type</th>\n",
       "      <th>missing_value_count</th>\n",
       "      <th>missing_value_percentage</th>\n",
       "    </tr>\n",
       "  </thead>\n",
       "  <tbody>\n",
       "    <tr>\n",
       "      <th>0</th>\n",
       "      <td>Gender</td>\n",
       "      <td>Categorical</td>\n",
       "      <td>0</td>\n",
       "      <td>0.000000</td>\n",
       "    </tr>\n",
       "    <tr>\n",
       "      <th>1</th>\n",
       "      <td>Customer Type</td>\n",
       "      <td>Categorical</td>\n",
       "      <td>0</td>\n",
       "      <td>0.000000</td>\n",
       "    </tr>\n",
       "    <tr>\n",
       "      <th>2</th>\n",
       "      <td>Age</td>\n",
       "      <td>numerical-normal</td>\n",
       "      <td>0</td>\n",
       "      <td>0.000000</td>\n",
       "    </tr>\n",
       "    <tr>\n",
       "      <th>3</th>\n",
       "      <td>Type of Travel</td>\n",
       "      <td>Categorical</td>\n",
       "      <td>0</td>\n",
       "      <td>0.000000</td>\n",
       "    </tr>\n",
       "    <tr>\n",
       "      <th>4</th>\n",
       "      <td>Class</td>\n",
       "      <td>Categorical</td>\n",
       "      <td>0</td>\n",
       "      <td>0.000000</td>\n",
       "    </tr>\n",
       "    <tr>\n",
       "      <th>5</th>\n",
       "      <td>Flight Distance</td>\n",
       "      <td>numerical-skew</td>\n",
       "      <td>0</td>\n",
       "      <td>0.000000</td>\n",
       "    </tr>\n",
       "    <tr>\n",
       "      <th>6</th>\n",
       "      <td>Inflight wifi service</td>\n",
       "      <td>Categorical</td>\n",
       "      <td>0</td>\n",
       "      <td>0.000000</td>\n",
       "    </tr>\n",
       "    <tr>\n",
       "      <th>7</th>\n",
       "      <td>Departure/Arrival time convenient</td>\n",
       "      <td>Categorical</td>\n",
       "      <td>0</td>\n",
       "      <td>0.000000</td>\n",
       "    </tr>\n",
       "    <tr>\n",
       "      <th>8</th>\n",
       "      <td>Ease of Online booking</td>\n",
       "      <td>Categorical</td>\n",
       "      <td>0</td>\n",
       "      <td>0.000000</td>\n",
       "    </tr>\n",
       "    <tr>\n",
       "      <th>9</th>\n",
       "      <td>Gate location</td>\n",
       "      <td>Categorical</td>\n",
       "      <td>0</td>\n",
       "      <td>0.000000</td>\n",
       "    </tr>\n",
       "    <tr>\n",
       "      <th>10</th>\n",
       "      <td>Food and drink</td>\n",
       "      <td>Categorical</td>\n",
       "      <td>0</td>\n",
       "      <td>0.000000</td>\n",
       "    </tr>\n",
       "    <tr>\n",
       "      <th>11</th>\n",
       "      <td>Online boarding</td>\n",
       "      <td>Categorical</td>\n",
       "      <td>0</td>\n",
       "      <td>0.000000</td>\n",
       "    </tr>\n",
       "    <tr>\n",
       "      <th>12</th>\n",
       "      <td>Seat comfort</td>\n",
       "      <td>Categorical</td>\n",
       "      <td>0</td>\n",
       "      <td>0.000000</td>\n",
       "    </tr>\n",
       "    <tr>\n",
       "      <th>13</th>\n",
       "      <td>Inflight entertainment</td>\n",
       "      <td>Categorical</td>\n",
       "      <td>0</td>\n",
       "      <td>0.000000</td>\n",
       "    </tr>\n",
       "    <tr>\n",
       "      <th>14</th>\n",
       "      <td>On-board service</td>\n",
       "      <td>Categorical</td>\n",
       "      <td>0</td>\n",
       "      <td>0.000000</td>\n",
       "    </tr>\n",
       "    <tr>\n",
       "      <th>15</th>\n",
       "      <td>Leg room service</td>\n",
       "      <td>Categorical</td>\n",
       "      <td>0</td>\n",
       "      <td>0.000000</td>\n",
       "    </tr>\n",
       "    <tr>\n",
       "      <th>16</th>\n",
       "      <td>Baggage handling</td>\n",
       "      <td>Categorical</td>\n",
       "      <td>0</td>\n",
       "      <td>0.000000</td>\n",
       "    </tr>\n",
       "    <tr>\n",
       "      <th>17</th>\n",
       "      <td>Checkin service</td>\n",
       "      <td>Categorical</td>\n",
       "      <td>0</td>\n",
       "      <td>0.000000</td>\n",
       "    </tr>\n",
       "    <tr>\n",
       "      <th>18</th>\n",
       "      <td>Inflight service</td>\n",
       "      <td>Categorical</td>\n",
       "      <td>0</td>\n",
       "      <td>0.000000</td>\n",
       "    </tr>\n",
       "    <tr>\n",
       "      <th>19</th>\n",
       "      <td>Cleanliness</td>\n",
       "      <td>Categorical</td>\n",
       "      <td>0</td>\n",
       "      <td>0.000000</td>\n",
       "    </tr>\n",
       "    <tr>\n",
       "      <th>20</th>\n",
       "      <td>Departure Delay in Minutes</td>\n",
       "      <td>numerical-skew</td>\n",
       "      <td>0</td>\n",
       "      <td>0.000000</td>\n",
       "    </tr>\n",
       "    <tr>\n",
       "      <th>21</th>\n",
       "      <td>Arrival Delay in Minutes</td>\n",
       "      <td>numerical-skew</td>\n",
       "      <td>314</td>\n",
       "      <td>0.311579</td>\n",
       "    </tr>\n",
       "  </tbody>\n",
       "</table>\n",
       "</div>"
      ],
      "text/plain": [
       "                              feature              type  missing_value_count  \\\n",
       "0                              Gender       Categorical                    0   \n",
       "1                       Customer Type       Categorical                    0   \n",
       "2                                 Age  numerical-normal                    0   \n",
       "3                      Type of Travel       Categorical                    0   \n",
       "4                               Class       Categorical                    0   \n",
       "5                     Flight Distance    numerical-skew                    0   \n",
       "6               Inflight wifi service       Categorical                    0   \n",
       "7   Departure/Arrival time convenient       Categorical                    0   \n",
       "8              Ease of Online booking       Categorical                    0   \n",
       "9                       Gate location       Categorical                    0   \n",
       "10                     Food and drink       Categorical                    0   \n",
       "11                    Online boarding       Categorical                    0   \n",
       "12                       Seat comfort       Categorical                    0   \n",
       "13             Inflight entertainment       Categorical                    0   \n",
       "14                   On-board service       Categorical                    0   \n",
       "15                   Leg room service       Categorical                    0   \n",
       "16                   Baggage handling       Categorical                    0   \n",
       "17                    Checkin service       Categorical                    0   \n",
       "18                   Inflight service       Categorical                    0   \n",
       "19                        Cleanliness       Categorical                    0   \n",
       "20         Departure Delay in Minutes    numerical-skew                    0   \n",
       "21           Arrival Delay in Minutes    numerical-skew                  314   \n",
       "\n",
       "    missing_value_percentage  \n",
       "0                   0.000000  \n",
       "1                   0.000000  \n",
       "2                   0.000000  \n",
       "3                   0.000000  \n",
       "4                   0.000000  \n",
       "5                   0.000000  \n",
       "6                   0.000000  \n",
       "7                   0.000000  \n",
       "8                   0.000000  \n",
       "9                   0.000000  \n",
       "10                  0.000000  \n",
       "11                  0.000000  \n",
       "12                  0.000000  \n",
       "13                  0.000000  \n",
       "14                  0.000000  \n",
       "15                  0.000000  \n",
       "16                  0.000000  \n",
       "17                  0.000000  \n",
       "18                  0.000000  \n",
       "19                  0.000000  \n",
       "20                  0.000000  \n",
       "21                  0.311579  "
      ]
     },
     "execution_count": 67,
     "metadata": {},
     "output_type": "execute_result"
    }
   ],
   "source": [
    "# identify missing values\n",
    "missing_values(X_train)\n",
    "missing_df"
   ]
  },
  {
   "cell_type": "code",
   "execution_count": 68,
   "metadata": {},
   "outputs": [],
   "source": [
    "# create list based on missing_df\n",
    "cat_list = missing_df[missing_df['type'] == 'Categorical']['feature'].tolist()\n",
    "norm_list = missing_df[missing_df['type'] == 'numerical-normal']['feature'].tolist()\n",
    "skew_list = missing_df[missing_df['type'] == 'numerical-skew']['feature'].tolist()"
   ]
  },
  {
   "cell_type": "markdown",
   "metadata": {},
   "source": [
    "we will handling missing values using pipeline"
   ]
  },
  {
   "cell_type": "code",
   "execution_count": 69,
   "metadata": {},
   "outputs": [
    {
     "name": "stdout",
     "output_type": "stream",
     "text": [
      "Generate 'X_train_num' and 'X_train_cat'\n",
      "Generate \"distribution_df\"\n",
      "Generate outlier_df\n"
     ]
    }
   ],
   "source": [
    "# reload data before feature selection\n",
    "reload(X_train)"
   ]
  },
  {
   "cell_type": "markdown",
   "metadata": {},
   "source": [
    "##### 5.6 Feature selection"
   ]
  },
  {
   "cell_type": "markdown",
   "metadata": {},
   "source": [
    "##### Numerical Feature"
   ]
  },
  {
   "cell_type": "code",
   "execution_count": 70,
   "metadata": {},
   "outputs": [
    {
     "data": {
      "image/png": "[encoded data removed]",
      "text/plain": [
       "<Figure size 1500x1000 with 1 Axes>"
      ]
     },
     "metadata": {},
     "output_type": "display_data"
    }
   ],
   "source": [
    "# create corwith X_train and y_train\n",
    "corr_train = X_train_num.corrwith(y_train)\n",
    "plt.figure(figsize=(15,10))\n",
    "plt.axhline(y=0.1, color='r', linestyle='--')\n",
    "corr_train.abs().sort_values(ascending=False).plot(kind='bar')\n",
    "plt.show()"
   ]
  },
  {
   "cell_type": "markdown",
   "metadata": {},
   "source": [
    "we set the threshold for this project if the features correlation is less than 0.1, we will drop the feature. based on graph above we can see `Departure Delay in Minutes` and `Arrival Delay in Minutes` have correlation less than 0.1, so we will drop them."
   ]
  },
  {
   "cell_type": "markdown",
   "metadata": {},
   "source": [
    "##### Categorical Features"
   ]
  },
  {
   "cell_type": "markdown",
   "metadata": {},
   "source": [
    "for categorical ordinal features we can calculate the correlation between each feature and target variable with `spearman` method."
   ]
  },
  {
   "cell_type": "code",
   "execution_count": 71,
   "metadata": {},
   "outputs": [
    {
     "data": {
      "image/png": "[encoded data removed]",
      "text/plain": [
       "<Figure size 1500x1000 with 1 Axes>"
      ]
     },
     "metadata": {},
     "output_type": "display_data"
    }
   ],
   "source": [
    "#convert all categorical columns to numeric\n",
    "X_train_cat = X_train_cat.apply(lambda x: pd.factorize(x)[0])\n",
    "\n",
    "# create corwith X_train and y_train\n",
    "corr_train = X_train_cat.corrwith(y_train,method='spearman')\n",
    "fig = plt.figure(figsize=(15,10))\n",
    "plt.axhline(y=0.1, color='r', linestyle='--')\n",
    "corr_train.abs().sort_values(ascending=False).plot(kind='bar')\n",
    "plt.show()"
   ]
  },
  {
   "cell_type": "markdown",
   "metadata": {},
   "source": [
    "as we can see on Exploratory Data Analysis, we can see there's no different between customer satisfaction based on `Gender`. so we will drop the `Gender` feature."
   ]
  },
  {
   "cell_type": "code",
   "execution_count": 72,
   "metadata": {},
   "outputs": [
    {
     "name": "stdout",
     "output_type": "stream",
     "text": [
      "numerical-normal:  ['Age']\n",
      "\n",
      "numerical-skew:  ['Flight Distance', 'Departure Delay in Minutes', 'Arrival Delay in Minutes']\n",
      "\n",
      "Categorical:  ['Gender', 'Customer Type', 'Type of Travel', 'Class', 'Inflight wifi service', 'Departure/Arrival time convenient', 'Ease of Online booking', 'Gate location', 'Food and drink', 'Online boarding', 'Seat comfort', 'Inflight entertainment', 'On-board service', 'Leg room service', 'Baggage handling', 'Checkin service', 'Inflight service', 'Cleanliness']\n"
     ]
    }
   ],
   "source": [
    "print('numerical-normal: ',norm_list)\n",
    "print('')\n",
    "print('numerical-skew: ',skew_list)\n",
    "print('')\n",
    "print('Categorical: ',cat_list)"
   ]
  },
  {
   "cell_type": "code",
   "execution_count": 73,
   "metadata": {},
   "outputs": [],
   "source": [
    "# feature selection \n",
    "list_drop = ['Departure Delay in Minutes','Arrival Delay in Minutes','Gender']\n",
    "X_train_final = X_train.drop(columns=list_drop)\n",
    "X_test_final = X_test.drop(columns=list_drop)"
   ]
  },
  {
   "cell_type": "markdown",
   "metadata": {},
   "source": [
    "##### 5.7 Feature Engineering"
   ]
  },
  {
   "cell_type": "code",
   "execution_count": 74,
   "metadata": {},
   "outputs": [],
   "source": [
    "# column selection\n",
    "cat_ord_colums = [\n",
    " 'Inflight wifi service',\n",
    " 'Departure/Arrival time convenient',\n",
    " 'Ease of Online booking',\n",
    " 'Gate location',\n",
    " 'Food and drink',\n",
    " 'Online boarding',\n",
    " 'Seat comfort',\n",
    " 'Inflight entertainment',\n",
    " 'On-board service',\n",
    " 'Leg room service',\n",
    " 'Baggage handling',\n",
    " 'Checkin service',\n",
    " 'Inflight service',\n",
    " 'Cleanliness']\n",
    "\n",
    "cat_nom_columns = ['Customer Type','Type of Travel','Class']\n",
    "\n",
    "num_norm_columns = ['Age']\n",
    "\n",
    "num_skew_columns = ['Flight Distance']"
   ]
  },
  {
   "cell_type": "markdown",
   "metadata": {},
   "source": [
    "##### Categorical ordinal encoding"
   ]
  },
  {
   "cell_type": "markdown",
   "metadata": {},
   "source": [
    "based on EDA we can categories the ordinal features"
   ]
  },
  {
   "cell_type": "code",
   "execution_count": 75,
   "metadata": {},
   "outputs": [],
   "source": [
    "ordinal_categories = OrdinalEncoder(categories=[\n",
    "[0, 1, 2, 3, 4, 5],\n",
    "[0, 1, 2, 3, 4, 5],\n",
    "[0, 1, 2, 3, 4, 5],\n",
    "[0, 1, 2, 3, 4, 5],\n",
    "[0, 1, 2, 3, 4, 5],    \n",
    "[0, 1, 2, 3, 4, 5],\n",
    "[0, 1, 2, 3, 4, 5],\n",
    "[0, 1, 2, 3, 4, 5],\n",
    "[0, 1, 2, 3, 4, 5],\n",
    "[0, 1, 2, 3, 4, 5],\n",
    "[1, 2, 3, 4, 5],\n",
    "[0, 1, 2, 3, 4, 5],\n",
    "[0, 1, 2, 3, 4, 5],\n",
    "[0, 1, 2, 3, 4, 5],\n",
    "])"
   ]
  },
  {
   "cell_type": "code",
   "execution_count": 76,
   "metadata": {},
   "outputs": [],
   "source": [
    "pipe_cat_ord = Pipeline([\n",
    "    ('cat_ord_imputer',SimpleImputer(missing_values=np.nan, strategy='most_frequent')),\n",
    "    ('cat_ord',ordinal_categories)\n",
    "])\n",
    "\n",
    "pipe_cat_num = Pipeline([\n",
    "    ('cat_num_imputer',SimpleImputer(missing_values=np.nan, strategy='most_frequent')),\n",
    "    ('cat_num',OneHotEncoder(handle_unknown='ignore'))\n",
    "])\n",
    "\n",
    "pipe_norm_num = Pipeline([\n",
    "    ('norm_num_imputer',SimpleImputer(missing_values=np.nan, strategy='mean')),\n",
    "    ('norm_num',StandardScaler())\n",
    "])\n",
    "\n",
    "pipe_skew_num = Pipeline([\n",
    "    ('skew_num_imputer',SimpleImputer(missing_values=np.nan, strategy='median')),\n",
    "    ('skew_num',StandardScaler())\n",
    "])\n",
    "\n",
    "pipe_fe = ColumnTransformer([\n",
    "    ('pipe_cat_ord', pipe_cat_ord, cat_ord_colums),\n",
    "    ('pipe_cat_num', pipe_cat_num, cat_nom_columns),\n",
    "    ('pipe_norm_num', pipe_norm_num, num_norm_columns),\n",
    "    ('pipe_skew_num', pipe_skew_num, num_skew_columns)\n",
    "   \n",
    "])\n"
   ]
  },
  {
   "cell_type": "markdown",
   "metadata": {},
   "source": [
    " ### 6. Model Definition"
   ]
  },
  {
   "cell_type": "markdown",
   "metadata": {},
   "source": [
    "Because the model is classifcation, the model we use is :\n",
    "1. Logistic Regression\n",
    "2. Decision Tree\n",
    "3. Random Forest\n",
    "4. K-Nearest Neighbors\n",
    "5. AdaBoost\n",
    "\n",
    "the metrics we use is :\n",
    "1. Accuracy/ Micro Average\n",
    "2. Classfication report\n",
    "\n",
    "the reason we use Accuracy/Micro average is because the data is balanced.\n"
   ]
  },
  {
   "cell_type": "markdown",
   "metadata": {},
   "source": [
    "##### 6.1. Model 1 : Logistic Regression"
   ]
  },
  {
   "cell_type": "code",
   "execution_count": 77,
   "metadata": {},
   "outputs": [],
   "source": [
    "# baseline model\n",
    "log_reg = LogisticRegression(random_state=random)\n",
    "\n",
    "# pipeline model\n",
    "pipe_log_reg = Pipeline([\n",
    "    ('fe_transformer', pipe_fe),\n",
    "    ('log_reg',log_reg)\n",
    "])\n",
    "\n",
    "# hyperparameter tuning\n",
    "param_log_reg = {\n",
    "    'log_reg__C':[0.01,0.1,1,10],\n",
    "    'log_reg__solver':['liblinear','newton-cg','sag','saga','lbfgs']\n",
    "\n",
    "}"
   ]
  },
  {
   "cell_type": "markdown",
   "metadata": {},
   "source": [
    "##### 6.2 Model 2 : Decision Tree Classifier"
   ]
  },
  {
   "cell_type": "code",
   "execution_count": 78,
   "metadata": {},
   "outputs": [],
   "source": [
    "# baseline model\n",
    "dt = DecisionTreeClassifier(random_state=random)\n",
    "\n",
    "# pipeline model\n",
    "pipe_dt = Pipeline([\n",
    "    ('transformer',pipe_fe),\n",
    "    ('dt',dt),\n",
    "])\n",
    "\n",
    "# hyperparameter tuning\n",
    "param_dt = {\n",
    "    'dt__min_samples_split':[2,3,4],\n",
    "    'dt__min_samples_leaf':[1,2,3,4],\n",
    "    'dt__criterion':['gini','entropy']\n",
    "}\n"
   ]
  },
  {
   "cell_type": "markdown",
   "metadata": {},
   "source": [
    "##### 6.3 Model 3 : Random Forest Classifier"
   ]
  },
  {
   "cell_type": "code",
   "execution_count": 79,
   "metadata": {},
   "outputs": [],
   "source": [
    "# baseline model\n",
    "rf = RandomForestClassifier(random_state=random,n_jobs=-1)\n",
    "\n",
    "# pipeline model\n",
    "pipe_rf = Pipeline([\n",
    "    ('transformer',pipe_fe),\n",
    "    ('rf',rf),\n",
    "])\n",
    "\n",
    "# hyperparameter tuning\n",
    "param_rf = {\n",
    "    'rf__criterion':['gini','entropy'],\n",
    "    'rf__n_estimators':[100,150,200],\n",
    "    'rf__warm_start':[True],\n",
    "}"
   ]
  },
  {
   "cell_type": "markdown",
   "metadata": {},
   "source": [
    "##### 6.4 Model 4 : K-Nearest Neighbors"
   ]
  },
  {
   "cell_type": "code",
   "execution_count": 80,
   "metadata": {},
   "outputs": [],
   "source": [
    "# baseline model\n",
    "knn = KNeighborsClassifier()\n",
    "\n",
    "# pipeline model\n",
    "pipe_knn = Pipeline([\n",
    "    ('transformer',pipe_fe),\n",
    "    ('knn',knn),\n",
    "])\n",
    "\n",
    "# hyperparameter tuning\n",
    "param_knn = {\n",
    "    'knn__n_neighbors':[1,2,3,4,5],\n",
    "    'knn__weights':['uniform','distance'],\n",
    "    'knn__algorithm':['auto','ball_tree','kd_tree','brute']\n",
    "}\n"
   ]
  },
  {
   "cell_type": "markdown",
   "metadata": {},
   "source": [
    "##### 6.5 Model 5 : AdaBoost Classifier"
   ]
  },
  {
   "cell_type": "code",
   "execution_count": 81,
   "metadata": {},
   "outputs": [],
   "source": [
    "# baseline model\n",
    "ada = AdaBoostClassifier(random_state=random)\n",
    "\n",
    "# pipeline model\n",
    "pipe_ada = Pipeline([\n",
    "    ('transformer',pipe_fe),\n",
    "    ('ada',ada),\n",
    "])\n",
    "\n",
    "# hyperparameter tuning\n",
    "param_ada = {\n",
    "    'ada__n_estimators':[10,20,30],\n",
    "    'ada__learning_rate':[0.1,0.2,0.3,0.4,0.5],\n",
    "    'ada__algorithm':['SAMME','SAMME.R']\n",
    "}"
   ]
  },
  {
   "cell_type": "markdown",
   "metadata": {},
   "source": [
    "### 7. Model Training"
   ]
  },
  {
   "cell_type": "markdown",
   "metadata": {},
   "source": [
    "Train baseline models and using cross validation to select the best model"
   ]
  },
  {
   "cell_type": "code",
   "execution_count": 82,
   "metadata": {},
   "outputs": [],
   "source": [
    "# cross validation model\n",
    "\n",
    "model_list = [pipe_log_reg,pipe_dt,pipe_rf,pipe_knn,pipe_ada]\n",
    "\n",
    "model_name_list = ['log_reg','dt','rf','knn','ada']\n",
    "mean = []\n",
    "std   = []\n",
    "\n",
    "# for loop to get the accuracy of each model\n",
    "for i in model_list:\n",
    "    i.fit(X_train_final,y_train)\n",
    "    cv = cross_val_score(i,X_train_final,y_train,cv=5,scoring='accuracy')\n",
    "    mean.append(cv.mean())\n",
    "    std.append(cv.std())\n",
    "\n",
    "# create dataframe\n",
    "cv_result = pd.DataFrame({'model':model_name_list,'mean':mean,'std':std})\n"
   ]
  },
  {
   "cell_type": "markdown",
   "metadata": {},
   "source": [
    "   \n",
    "   ### 8. Model Evaluation"
   ]
  },
  {
   "cell_type": "code",
   "execution_count": 83,
   "metadata": {},
   "outputs": [
    {
     "data": {
      "text/html": [
       "<div>\n",
       "<style scoped>\n",
       "    .dataframe tbody tr th:only-of-type {\n",
       "        vertical-align: middle;\n",
       "    }\n",
       "\n",
       "    .dataframe tbody tr th {\n",
       "        vertical-align: top;\n",
       "    }\n",
       "\n",
       "    .dataframe thead th {\n",
       "        text-align: right;\n",
       "    }\n",
       "</style>\n",
       "<table border=\"1\" class=\"dataframe\">\n",
       "  <thead>\n",
       "    <tr style=\"text-align: right;\">\n",
       "      <th></th>\n",
       "      <th>model</th>\n",
       "      <th>mean</th>\n",
       "      <th>std</th>\n",
       "    </tr>\n",
       "  </thead>\n",
       "  <tbody>\n",
       "    <tr>\n",
       "      <th>0</th>\n",
       "      <td>log_reg</td>\n",
       "      <td>0.873840</td>\n",
       "      <td>0.002026</td>\n",
       "    </tr>\n",
       "    <tr>\n",
       "      <th>1</th>\n",
       "      <td>dt</td>\n",
       "      <td>0.943172</td>\n",
       "      <td>0.001846</td>\n",
       "    </tr>\n",
       "    <tr>\n",
       "      <th>2</th>\n",
       "      <td>rf</td>\n",
       "      <td>0.962085</td>\n",
       "      <td>0.001366</td>\n",
       "    </tr>\n",
       "    <tr>\n",
       "      <th>3</th>\n",
       "      <td>knn</td>\n",
       "      <td>0.930976</td>\n",
       "      <td>0.001070</td>\n",
       "    </tr>\n",
       "    <tr>\n",
       "      <th>4</th>\n",
       "      <td>ada</td>\n",
       "      <td>0.927186</td>\n",
       "      <td>0.001074</td>\n",
       "    </tr>\n",
       "  </tbody>\n",
       "</table>\n",
       "</div>"
      ],
      "text/plain": [
       "     model      mean       std\n",
       "0  log_reg  0.873840  0.002026\n",
       "1       dt  0.943172  0.001846\n",
       "2       rf  0.962085  0.001366\n",
       "3      knn  0.930976  0.001070\n",
       "4      ada  0.927186  0.001074"
      ]
     },
     "execution_count": 83,
     "metadata": {},
     "output_type": "execute_result"
    }
   ],
   "source": [
    "cv_result"
   ]
  },
  {
   "cell_type": "markdown",
   "metadata": {},
   "source": [
    "we can see the best model is `Random Forest Classifier`, but to make sure which model is the best we need to evaluate each model with the test set. to find out if the model is goodfit or not."
   ]
  },
  {
   "cell_type": "markdown",
   "metadata": {},
   "source": [
    "##### 8.1. Model 1 : Logistic Regression"
   ]
  },
  {
   "cell_type": "code",
   "execution_count": 84,
   "metadata": {},
   "outputs": [
    {
     "data": {
      "text/plain": [
       "0.8738403026475356"
      ]
     },
     "execution_count": 84,
     "metadata": {},
     "output_type": "execute_result"
    }
   ],
   "source": [
    "# cross validation  score\n",
    "log_reg_train_score = cross_val_score(pipe_log_reg,X_train_final,y_train,cv=5,scoring='accuracy').mean()\n",
    "log_reg_train_score"
   ]
  },
  {
   "cell_type": "code",
   "execution_count": 85,
   "metadata": {},
   "outputs": [],
   "source": [
    "# prediction test data\n",
    "y_pred_log_reg = pipe_log_reg.predict(X_test_final)"
   ]
  },
  {
   "cell_type": "code",
   "execution_count": 86,
   "metadata": {},
   "outputs": [
    {
     "data": {
      "text/plain": [
       "0.8725170701427685"
      ]
     },
     "execution_count": 86,
     "metadata": {},
     "output_type": "execute_result"
    }
   ],
   "source": [
    "# test score\n",
    "log_reg_test_score = accuracy_score(y_test,y_pred_log_reg)\n",
    "log_reg_test_score"
   ]
  },
  {
   "cell_type": "code",
   "execution_count": 87,
   "metadata": {},
   "outputs": [
    {
     "name": "stdout",
     "output_type": "stream",
     "text": [
      "              precision    recall  f1-score   support\n",
      "\n",
      "           0       0.88      0.90      0.89     14556\n",
      "           1       0.87      0.83      0.85     11220\n",
      "\n",
      "    accuracy                           0.87     25776\n",
      "   macro avg       0.87      0.87      0.87     25776\n",
      "weighted avg       0.87      0.87      0.87     25776\n",
      "\n"
     ]
    }
   ],
   "source": [
    "# classification report\n",
    "print(classification_report(y_test,y_pred_log_reg))"
   ]
  },
  {
   "cell_type": "markdown",
   "metadata": {},
   "source": [
    "`Analysis` :\\\n",
    "based on metrics `Accuracy Score` as we can see that the score for `Logistic Regression` with Cross Validation is `0.8738` and the score for test set is `0.8724`, so we can say that the model is good fitting. the hyperparameter we use for this baseline model is default hyperparameter. in this model the compute time is around 10 seconds."
   ]
  },
  {
   "cell_type": "markdown",
   "metadata": {},
   "source": [
    "##### 8.2. Model 2 : Decision Tree Classifier"
   ]
  },
  {
   "cell_type": "code",
   "execution_count": 88,
   "metadata": {},
   "outputs": [
    {
     "data": {
      "text/plain": [
       "0.9431715747903147"
      ]
     },
     "execution_count": 88,
     "metadata": {},
     "output_type": "execute_result"
    }
   ],
   "source": [
    "# cross validation  score\n",
    "dt_train_score = cross_val_score(pipe_dt,X_train_final,y_train,cv=5,scoring='accuracy').mean()\n",
    "dt_train_score"
   ]
  },
  {
   "cell_type": "code",
   "execution_count": 89,
   "metadata": {},
   "outputs": [],
   "source": [
    "# prediction test data\n",
    "y_pred_dt= pipe_dt.predict(X_test_final)"
   ]
  },
  {
   "cell_type": "code",
   "execution_count": 90,
   "metadata": {},
   "outputs": [
    {
     "data": {
      "text/plain": [
       "0.9471989447548107"
      ]
     },
     "execution_count": 90,
     "metadata": {},
     "output_type": "execute_result"
    }
   ],
   "source": [
    "# test score\n",
    "dt_test_score = accuracy_score(y_test,y_pred_dt)\n",
    "dt_test_score"
   ]
  },
  {
   "cell_type": "code",
   "execution_count": 91,
   "metadata": {},
   "outputs": [
    {
     "name": "stdout",
     "output_type": "stream",
     "text": [
      "              precision    recall  f1-score   support\n",
      "\n",
      "           0       0.96      0.95      0.95     14556\n",
      "           1       0.94      0.94      0.94     11220\n",
      "\n",
      "    accuracy                           0.95     25776\n",
      "   macro avg       0.95      0.95      0.95     25776\n",
      "weighted avg       0.95      0.95      0.95     25776\n",
      "\n"
     ]
    }
   ],
   "source": [
    "# classification report\n",
    "print(classification_report(y_test,y_pred_dt))"
   ]
  },
  {
   "cell_type": "markdown",
   "metadata": {},
   "source": [
    "`Analysis` :\\\n",
    "based on metrics `Accuracy Score` as we can see that the score for `Decission Tree Classifier` with Cross Validation is `0.9431` and the score for test set is `0.9471`, so we can say that the model is good fitting. the hyperparameter we use for this baseline model is default hyperparameter. in this model the compute time is around 5 seconds."
   ]
  },
  {
   "cell_type": "markdown",
   "metadata": {},
   "source": [
    "##### 8.3 Model 3 : Random Forest Classifier"
   ]
  },
  {
   "cell_type": "code",
   "execution_count": 92,
   "metadata": {},
   "outputs": [
    {
     "data": {
      "text/plain": [
       "0.9620846314647512"
      ]
     },
     "execution_count": 92,
     "metadata": {},
     "output_type": "execute_result"
    }
   ],
   "source": [
    "# cross validation  score\n",
    "rf_train_score = cross_val_score(pipe_rf,X_train_final,y_train,cv=5,scoring='accuracy').mean()\n",
    "rf_train_score"
   ]
  },
  {
   "cell_type": "code",
   "execution_count": 93,
   "metadata": {},
   "outputs": [],
   "source": [
    "# prediction test data\n",
    "y_pred_rf= pipe_rf.predict(X_test_final)"
   ]
  },
  {
   "cell_type": "code",
   "execution_count": 94,
   "metadata": {},
   "outputs": [
    {
     "data": {
      "text/plain": [
       "0.9642690875232774"
      ]
     },
     "execution_count": 94,
     "metadata": {},
     "output_type": "execute_result"
    }
   ],
   "source": [
    "# test score\n",
    "rf_test_score = accuracy_score(y_test,y_pred_rf)\n",
    "rf_test_score"
   ]
  },
  {
   "cell_type": "code",
   "execution_count": 95,
   "metadata": {},
   "outputs": [
    {
     "name": "stdout",
     "output_type": "stream",
     "text": [
      "              precision    recall  f1-score   support\n",
      "\n",
      "           0       0.96      0.98      0.97     14556\n",
      "           1       0.98      0.94      0.96     11220\n",
      "\n",
      "    accuracy                           0.96     25776\n",
      "   macro avg       0.97      0.96      0.96     25776\n",
      "weighted avg       0.96      0.96      0.96     25776\n",
      "\n"
     ]
    }
   ],
   "source": [
    "# classification report\n",
    "print(classification_report(y_test,y_pred_rf))"
   ]
  },
  {
   "cell_type": "markdown",
   "metadata": {},
   "source": [
    "`Analysis` :\\\n",
    "based on metrics `Accuracy Score` as we can see that the score for `Random Forest Classifier` with Cross Validation is `0.9620` and the score for test set is `0.9642`, so we can say that the model is good fitting. the hyperparameter we use for this baseline model is default hyperparameter. in this model the compute time is around 25 seconds."
   ]
  },
  {
   "cell_type": "markdown",
   "metadata": {},
   "source": [
    "##### 8.4 Model 4 : K-Nearest Neighbors"
   ]
  },
  {
   "cell_type": "code",
   "execution_count": 96,
   "metadata": {},
   "outputs": [
    {
     "data": {
      "text/plain": [
       "0.9309763270947045"
      ]
     },
     "execution_count": 96,
     "metadata": {},
     "output_type": "execute_result"
    }
   ],
   "source": [
    "# cross validation  score\n",
    "knn_train_score = cross_val_score(pipe_knn,X_train_final,y_train,cv=5,scoring='accuracy').mean()\n",
    "knn_train_score"
   ]
  },
  {
   "cell_type": "code",
   "execution_count": 97,
   "metadata": {},
   "outputs": [],
   "source": [
    "# prediction test data\n",
    "y_pred_knn= pipe_knn.predict(X_test_final)"
   ]
  },
  {
   "cell_type": "code",
   "execution_count": 98,
   "metadata": {},
   "outputs": [
    {
     "data": {
      "text/plain": [
       "0.9342411545623837"
      ]
     },
     "execution_count": 98,
     "metadata": {},
     "output_type": "execute_result"
    }
   ],
   "source": [
    "# test score\n",
    "knn_test_score = accuracy_score(y_test,y_pred_knn)\n",
    "knn_test_score"
   ]
  },
  {
   "cell_type": "code",
   "execution_count": 99,
   "metadata": {},
   "outputs": [
    {
     "name": "stdout",
     "output_type": "stream",
     "text": [
      "              precision    recall  f1-score   support\n",
      "\n",
      "           0       0.92      0.97      0.94     14556\n",
      "           1       0.95      0.89      0.92     11220\n",
      "\n",
      "    accuracy                           0.93     25776\n",
      "   macro avg       0.94      0.93      0.93     25776\n",
      "weighted avg       0.94      0.93      0.93     25776\n",
      "\n"
     ]
    }
   ],
   "source": [
    "# classification report\n",
    "print(classification_report(y_test,y_pred_knn))"
   ]
  },
  {
   "cell_type": "markdown",
   "metadata": {},
   "source": [
    "`Analysis` :\\\n",
    "based on metrics `Accuracy Score` as we can see that the score for `K-Nearest Neighbor` with Cross Validation is `0.9309` and the score for test set is `0.9335`, so we can say that the model is good fitting. the hyperparameter we use for this baseline model is default hyperparameter. in this model the compute time is around 3 minutes."
   ]
  },
  {
   "cell_type": "markdown",
   "metadata": {},
   "source": [
    "##### 8.5 Model 5 : Ada Boost"
   ]
  },
  {
   "cell_type": "code",
   "execution_count": 100,
   "metadata": {},
   "outputs": [
    {
     "data": {
      "text/plain": [
       "0.9271857881139368"
      ]
     },
     "execution_count": 100,
     "metadata": {},
     "output_type": "execute_result"
    }
   ],
   "source": [
    "# cross validation  score\n",
    "ada_train_score = cross_val_score(pipe_ada,X_train_final,y_train,cv=5,scoring='accuracy').mean()\n",
    "ada_train_score"
   ]
  },
  {
   "cell_type": "code",
   "execution_count": 101,
   "metadata": {},
   "outputs": [],
   "source": [
    "# prediction on test data\n",
    "y_pred_ada = pipe_ada.predict(X_test_final)"
   ]
  },
  {
   "cell_type": "code",
   "execution_count": 102,
   "metadata": {},
   "outputs": [
    {
     "data": {
      "text/plain": [
       "0.9253957169459963"
      ]
     },
     "execution_count": 102,
     "metadata": {},
     "output_type": "execute_result"
    }
   ],
   "source": [
    "# test score\n",
    "ada_test_score = accuracy_score(y_test,y_pred_ada)\n",
    "ada_test_score"
   ]
  },
  {
   "cell_type": "code",
   "execution_count": 103,
   "metadata": {},
   "outputs": [
    {
     "name": "stdout",
     "output_type": "stream",
     "text": [
      "              precision    recall  f1-score   support\n",
      "\n",
      "           0       0.93      0.94      0.93     14556\n",
      "           1       0.92      0.91      0.91     11220\n",
      "\n",
      "    accuracy                           0.93     25776\n",
      "   macro avg       0.92      0.92      0.92     25776\n",
      "weighted avg       0.93      0.93      0.93     25776\n",
      "\n"
     ]
    }
   ],
   "source": [
    "# classification report\n",
    "print(classification_report(y_test,y_pred_ada))"
   ]
  },
  {
   "cell_type": "markdown",
   "metadata": {},
   "source": [
    "`Analysis` :\\\n",
    "based on metrics `Accuracy Score` as we can see that the score for `Ada Boost` with Cross Validation is `0.9271` and the score for test set is `0.9253`, so we can say that the model is good fitting. the hyperparameter we use for this baseline model is default hyperparameter. in this model the compute time is around 3 minutes."
   ]
  },
  {
   "cell_type": "markdown",
   "metadata": {},
   "source": [
    "##### Summary model baseline evaluation"
   ]
  },
  {
   "cell_type": "code",
   "execution_count": 104,
   "metadata": {},
   "outputs": [
    {
     "data": {
      "text/html": [
       "<div>\n",
       "<style scoped>\n",
       "    .dataframe tbody tr th:only-of-type {\n",
       "        vertical-align: middle;\n",
       "    }\n",
       "\n",
       "    .dataframe tbody tr th {\n",
       "        vertical-align: top;\n",
       "    }\n",
       "\n",
       "    .dataframe thead th {\n",
       "        text-align: right;\n",
       "    }\n",
       "</style>\n",
       "<table border=\"1\" class=\"dataframe\">\n",
       "  <thead>\n",
       "    <tr style=\"text-align: right;\">\n",
       "      <th></th>\n",
       "      <th>model</th>\n",
       "      <th>train_score</th>\n",
       "      <th>test_score</th>\n",
       "    </tr>\n",
       "  </thead>\n",
       "  <tbody>\n",
       "    <tr>\n",
       "      <th>0</th>\n",
       "      <td>log_reg</td>\n",
       "      <td>0.873840</td>\n",
       "      <td>0.872517</td>\n",
       "    </tr>\n",
       "    <tr>\n",
       "      <th>1</th>\n",
       "      <td>dt</td>\n",
       "      <td>0.943172</td>\n",
       "      <td>0.947199</td>\n",
       "    </tr>\n",
       "    <tr>\n",
       "      <th>2</th>\n",
       "      <td>rf</td>\n",
       "      <td>0.962085</td>\n",
       "      <td>0.964269</td>\n",
       "    </tr>\n",
       "    <tr>\n",
       "      <th>3</th>\n",
       "      <td>knn</td>\n",
       "      <td>0.930976</td>\n",
       "      <td>0.934241</td>\n",
       "    </tr>\n",
       "    <tr>\n",
       "      <th>4</th>\n",
       "      <td>ada</td>\n",
       "      <td>0.927186</td>\n",
       "      <td>0.925396</td>\n",
       "    </tr>\n",
       "  </tbody>\n",
       "</table>\n",
       "</div>"
      ],
      "text/plain": [
       "     model  train_score  test_score\n",
       "0  log_reg     0.873840    0.872517\n",
       "1       dt     0.943172    0.947199\n",
       "2       rf     0.962085    0.964269\n",
       "3      knn     0.930976    0.934241\n",
       "4      ada     0.927186    0.925396"
      ]
     },
     "execution_count": 104,
     "metadata": {},
     "output_type": "execute_result"
    }
   ],
   "source": [
    "# create dataframe summary with cross validation score and test score\n",
    "baseline_result = pd.DataFrame({'model':['log_reg','dt','rf','knn','ada'],'train_score':[log_reg_train_score,dt_train_score,rf_train_score,knn_train_score,ada_train_score],'test_score':[log_reg_test_score,dt_test_score,rf_test_score,knn_test_score,ada_test_score]})\n",
    "\n",
    "baseline_result"
   ]
  },
  {
   "cell_type": "markdown",
   "metadata": {},
   "source": [
    "as we can see the best model with high score and  goodfit is `Random Forest Classifier` and `Decision Tree Classifier`. so we will choose these two model."
   ]
  },
  {
   "cell_type": "markdown",
   "metadata": {},
   "source": [
    "##### 8.4 Model Tuning using GridSearchCV"
   ]
  },
  {
   "cell_type": "markdown",
   "metadata": {},
   "source": [
    "##### Model 3 : Random Forest Classifier"
   ]
  },
  {
   "cell_type": "code",
   "execution_count": 105,
   "metadata": {},
   "outputs": [
    {
     "name": "stdout",
     "output_type": "stream",
     "text": [
      "Fitting 5 folds for each of 6 candidates, totalling 30 fits\n"
     ]
    }
   ],
   "source": [
    "# random forest model\n",
    "\n",
    "rf_grid = GridSearchCV(\n",
    "    pipe_rf,\n",
    "    param_rf,\n",
    "    cv=5,\n",
    "    scoring='accuracy',\n",
    "    verbose=1\n",
    ").fit(X_train_final,y_train)\n",
    "\n",
    "best_params_rf = rf_grid.best_params_\n",
    "best_pipe_rf = rf_grid.best_estimator_\n",
    "df_result_rf = pd.DataFrame.from_dict(rf_grid.cv_results_,orient='columns')\n"
   ]
  },
  {
   "cell_type": "code",
   "execution_count": 106,
   "metadata": {},
   "outputs": [
    {
     "data": {
      "text/plain": [
       "{'rf__criterion': 'entropy', 'rf__n_estimators': 150, 'rf__warm_start': True}"
      ]
     },
     "execution_count": 106,
     "metadata": {},
     "output_type": "execute_result"
    }
   ],
   "source": [
    "#Best parameters\n",
    "best_params_rf"
   ]
  },
  {
   "cell_type": "code",
   "execution_count": 107,
   "metadata": {},
   "outputs": [
    {
     "data": {
      "text/plain": [
       "0.9628288469264963"
      ]
     },
     "execution_count": 107,
     "metadata": {},
     "output_type": "execute_result"
    }
   ],
   "source": [
    "# best score\n",
    "rf_grid.best_score_"
   ]
  },
  {
   "cell_type": "code",
   "execution_count": 108,
   "metadata": {},
   "outputs": [],
   "source": [
    "# predict test with best parameters\n",
    "y_pred_linear_svc_grid = best_pipe_rf.predict(X_test_final)"
   ]
  },
  {
   "cell_type": "code",
   "execution_count": 109,
   "metadata": {},
   "outputs": [
    {
     "name": "stdout",
     "output_type": "stream",
     "text": [
      "0.9649674115456238\n"
     ]
    }
   ],
   "source": [
    "# f1_weighted score\n",
    "print(accuracy_score(y_test,y_pred_linear_svc_grid))"
   ]
  },
  {
   "cell_type": "code",
   "execution_count": 110,
   "metadata": {},
   "outputs": [
    {
     "name": "stdout",
     "output_type": "stream",
     "text": [
      "              precision    recall  f1-score   support\n",
      "\n",
      "           0       0.96      0.98      0.97     14556\n",
      "           1       0.98      0.94      0.96     11220\n",
      "\n",
      "    accuracy                           0.96     25776\n",
      "   macro avg       0.97      0.96      0.96     25776\n",
      "weighted avg       0.97      0.96      0.96     25776\n",
      "\n"
     ]
    }
   ],
   "source": [
    "# classification report\n",
    "print(classification_report(y_test,y_pred_linear_svc_grid))"
   ]
  },
  {
   "cell_type": "markdown",
   "metadata": {},
   "source": [
    "`Analysis`:\\\n",
    "from 30 fits (Combinations of hyperparameters), we can see that the best hyperparameter is `'rf__criterion': 'entropy', 'rf__n_estimators': 150, 'rf__warm_start': True`. the Trainscore is `0.9628 `and the test  score is `0.9649`, the model is good fitting. the compute time is around 3 minutes. there's is a little improvement in this model compare to the baseline model."
   ]
  },
  {
   "cell_type": "markdown",
   "metadata": {},
   "source": [
    "##### Model 2 : Decision Tree Classifier"
   ]
  },
  {
   "cell_type": "code",
   "execution_count": 111,
   "metadata": {},
   "outputs": [
    {
     "name": "stdout",
     "output_type": "stream",
     "text": [
      "Fitting 5 folds for each of 24 candidates, totalling 120 fits\n"
     ]
    }
   ],
   "source": [
    "# decision tree model\n",
    "\n",
    "dt_grid = GridSearchCV(\n",
    "    pipe_dt,\n",
    "    param_dt,\n",
    "    cv=5,\n",
    "    scoring='accuracy',\n",
    "    verbose=1\n",
    ").fit(X_train_final,y_train)\n",
    "\n",
    "best_params_dt = dt_grid.best_params_\n",
    "best_pipe_dt = dt_grid.best_estimator_\n",
    "df_result_dt = pd.DataFrame.from_dict(dt_grid.cv_results_,orient='columns')"
   ]
  },
  {
   "cell_type": "code",
   "execution_count": 112,
   "metadata": {},
   "outputs": [
    {
     "data": {
      "text/plain": [
       "{'dt__criterion': 'entropy',\n",
       " 'dt__min_samples_leaf': 4,\n",
       " 'dt__min_samples_split': 2}"
      ]
     },
     "execution_count": 112,
     "metadata": {},
     "output_type": "execute_result"
    }
   ],
   "source": [
    "# best parameters\n",
    "best_params_dt"
   ]
  },
  {
   "cell_type": "code",
   "execution_count": 113,
   "metadata": {},
   "outputs": [
    {
     "data": {
      "text/plain": [
       "0.9479841828134006"
      ]
     },
     "execution_count": 113,
     "metadata": {},
     "output_type": "execute_result"
    }
   ],
   "source": [
    "# best score\n",
    "dt_grid.best_score_"
   ]
  },
  {
   "cell_type": "code",
   "execution_count": 114,
   "metadata": {},
   "outputs": [],
   "source": [
    "# predict test with best parameters\n",
    "y_pred_dt_grid = best_pipe_dt.predict(X_test_final)"
   ]
  },
  {
   "cell_type": "code",
   "execution_count": 115,
   "metadata": {},
   "outputs": [
    {
     "name": "stdout",
     "output_type": "stream",
     "text": [
      "0.950923339540658\n"
     ]
    }
   ],
   "source": [
    "# f1 weighted score\n",
    "print(accuracy_score(y_test,y_pred_dt_grid))"
   ]
  },
  {
   "cell_type": "code",
   "execution_count": 116,
   "metadata": {},
   "outputs": [
    {
     "name": "stdout",
     "output_type": "stream",
     "text": [
      "              precision    recall  f1-score   support\n",
      "\n",
      "           0       0.95      0.96      0.96     14556\n",
      "           1       0.95      0.93      0.94     11220\n",
      "\n",
      "    accuracy                           0.95     25776\n",
      "   macro avg       0.95      0.95      0.95     25776\n",
      "weighted avg       0.95      0.95      0.95     25776\n",
      "\n"
     ]
    }
   ],
   "source": [
    "# classification report\n",
    "print(classification_report(y_test,y_pred_dt_grid))"
   ]
  },
  {
   "cell_type": "markdown",
   "metadata": {},
   "source": [
    "`Analysis`:\\\n",
    "from 120 fits (Combinations of hyperparameters), we can see that the best hyperparameter is `'dt__criterion': 'entropy','dt__min_samples_leaf': 4,'dt__min_samples_split': 2.` the Train score is `0.9479 `and the test  score is `0.9509`, the model is good fitting. the compute time is around 90 second. there's is a little improvement in this model compare to the baseline model."
   ]
  },
  {
   "cell_type": "markdown",
   "metadata": {},
   "source": [
    "##### Hyperparameter Tuning Summary"
   ]
  },
  {
   "cell_type": "code",
   "execution_count": 117,
   "metadata": {},
   "outputs": [
    {
     "data": {
      "text/html": [
       "<div>\n",
       "<style scoped>\n",
       "    .dataframe tbody tr th:only-of-type {\n",
       "        vertical-align: middle;\n",
       "    }\n",
       "\n",
       "    .dataframe tbody tr th {\n",
       "        vertical-align: top;\n",
       "    }\n",
       "\n",
       "    .dataframe thead th {\n",
       "        text-align: right;\n",
       "    }\n",
       "</style>\n",
       "<table border=\"1\" class=\"dataframe\">\n",
       "  <thead>\n",
       "    <tr style=\"text-align: right;\">\n",
       "      <th></th>\n",
       "      <th>model</th>\n",
       "      <th>best_params</th>\n",
       "      <th>Train_score</th>\n",
       "      <th>Test_score</th>\n",
       "    </tr>\n",
       "  </thead>\n",
       "  <tbody>\n",
       "    <tr>\n",
       "      <th>0</th>\n",
       "      <td>Random Forest</td>\n",
       "      <td>{'rf__criterion': 'entropy', 'rf__n_estimators...</td>\n",
       "      <td>0.962829</td>\n",
       "      <td>0.964269</td>\n",
       "    </tr>\n",
       "    <tr>\n",
       "      <th>1</th>\n",
       "      <td>Decision Tree</td>\n",
       "      <td>{'dt__criterion': 'entropy', 'dt__min_samples_...</td>\n",
       "      <td>0.947984</td>\n",
       "      <td>0.947199</td>\n",
       "    </tr>\n",
       "  </tbody>\n",
       "</table>\n",
       "</div>"
      ],
      "text/plain": [
       "           model                                        best_params  \\\n",
       "0  Random Forest  {'rf__criterion': 'entropy', 'rf__n_estimators...   \n",
       "1  Decision Tree  {'dt__criterion': 'entropy', 'dt__min_samples_...   \n",
       "\n",
       "   Train_score  Test_score  \n",
       "0     0.962829    0.964269  \n",
       "1     0.947984    0.947199  "
      ]
     },
     "execution_count": 117,
     "metadata": {},
     "output_type": "execute_result"
    }
   ],
   "source": [
    "# create dataframe summary log reg, linear svc, ada boost\n",
    "\n",
    "grid_summary = pd.DataFrame({'model' : ['Random Forest','Decision Tree'],\n",
    "                            'best_params':[best_params_rf,best_params_dt,],\n",
    "                            'Train_score':[rf_grid.best_score_,dt_grid.best_score_],\n",
    "                            'Test_score':[rf_test_score,dt_test_score]})\n",
    "\n",
    "grid_summary\n",
    "\n"
   ]
  },
  {
   "cell_type": "markdown",
   "metadata": {},
   "source": [
    "based on the summary above we choose `Random Forest` as our final model."
   ]
  },
  {
   "cell_type": "markdown",
   "metadata": {},
   "source": [
    "### 9. Model Saving"
   ]
  },
  {
   "cell_type": "markdown",
   "metadata": {},
   "source": [
    "we will save the model for deployment."
   ]
  },
  {
   "cell_type": "code",
   "execution_count": 118,
   "metadata": {},
   "outputs": [],
   "source": [
    "final_model = rf_grid.best_estimator_"
   ]
  },
  {
   "cell_type": "code",
   "execution_count": 119,
   "metadata": {},
   "outputs": [],
   "source": [
    "with open('model.pkl', 'wb') as f: \n",
    "    pickle.dump(final_model, f, protocol=pickle.HIGHEST_PROTOCOL)"
   ]
  },
  {
   "cell_type": "markdown",
   "metadata": {},
   "source": [
    "   ### 10. Model Inference\n"
   ]
  },
  {
   "cell_type": "code",
   "execution_count": 120,
   "metadata": {},
   "outputs": [
    {
     "data": {
      "text/html": [
       "<div>\n",
       "<style scoped>\n",
       "    .dataframe tbody tr th:only-of-type {\n",
       "        vertical-align: middle;\n",
       "    }\n",
       "\n",
       "    .dataframe tbody tr th {\n",
       "        vertical-align: top;\n",
       "    }\n",
       "\n",
       "    .dataframe thead th {\n",
       "        text-align: right;\n",
       "    }\n",
       "</style>\n",
       "<table border=\"1\" class=\"dataframe\">\n",
       "  <thead>\n",
       "    <tr style=\"text-align: right;\">\n",
       "      <th></th>\n",
       "      <th>Gender</th>\n",
       "      <th>Customer Type</th>\n",
       "      <th>Age</th>\n",
       "      <th>Type of Travel</th>\n",
       "      <th>Class</th>\n",
       "      <th>Flight Distance</th>\n",
       "      <th>Inflight wifi service</th>\n",
       "      <th>Departure/Arrival time convenient</th>\n",
       "      <th>Ease of Online booking</th>\n",
       "      <th>Gate location</th>\n",
       "      <th>Food and drink</th>\n",
       "      <th>Online boarding</th>\n",
       "      <th>Seat comfort</th>\n",
       "      <th>Inflight entertainment</th>\n",
       "      <th>On-board service</th>\n",
       "      <th>Leg room service</th>\n",
       "      <th>Baggage handling</th>\n",
       "      <th>Checkin service</th>\n",
       "      <th>Inflight service</th>\n",
       "      <th>Cleanliness</th>\n",
       "      <th>Departure Delay in Minutes</th>\n",
       "      <th>Arrival Delay in Minutes</th>\n",
       "      <th>satisfaction</th>\n",
       "    </tr>\n",
       "  </thead>\n",
       "  <tbody>\n",
       "    <tr>\n",
       "      <th>0</th>\n",
       "      <td>Female</td>\n",
       "      <td>Loyal Customer</td>\n",
       "      <td>33</td>\n",
       "      <td>Personal Travel</td>\n",
       "      <td>Eco</td>\n",
       "      <td>937</td>\n",
       "      <td>2</td>\n",
       "      <td>2</td>\n",
       "      <td>2</td>\n",
       "      <td>4</td>\n",
       "      <td>4</td>\n",
       "      <td>2</td>\n",
       "      <td>4</td>\n",
       "      <td>4</td>\n",
       "      <td>4</td>\n",
       "      <td>5</td>\n",
       "      <td>4</td>\n",
       "      <td>4</td>\n",
       "      <td>4</td>\n",
       "      <td>4</td>\n",
       "      <td>0</td>\n",
       "      <td>0.0</td>\n",
       "      <td>0</td>\n",
       "    </tr>\n",
       "    <tr>\n",
       "      <th>1</th>\n",
       "      <td>Female</td>\n",
       "      <td>Loyal Customer</td>\n",
       "      <td>48</td>\n",
       "      <td>Business travel</td>\n",
       "      <td>Business</td>\n",
       "      <td>937</td>\n",
       "      <td>1</td>\n",
       "      <td>1</td>\n",
       "      <td>1</td>\n",
       "      <td>1</td>\n",
       "      <td>3</td>\n",
       "      <td>5</td>\n",
       "      <td>5</td>\n",
       "      <td>2</td>\n",
       "      <td>2</td>\n",
       "      <td>2</td>\n",
       "      <td>2</td>\n",
       "      <td>3</td>\n",
       "      <td>2</td>\n",
       "      <td>3</td>\n",
       "      <td>0</td>\n",
       "      <td>0.0</td>\n",
       "      <td>1</td>\n",
       "    </tr>\n",
       "    <tr>\n",
       "      <th>2</th>\n",
       "      <td>Female</td>\n",
       "      <td>disloyal Customer</td>\n",
       "      <td>27</td>\n",
       "      <td>Business travel</td>\n",
       "      <td>Business</td>\n",
       "      <td>2125</td>\n",
       "      <td>3</td>\n",
       "      <td>3</td>\n",
       "      <td>3</td>\n",
       "      <td>2</td>\n",
       "      <td>3</td>\n",
       "      <td>3</td>\n",
       "      <td>3</td>\n",
       "      <td>3</td>\n",
       "      <td>3</td>\n",
       "      <td>5</td>\n",
       "      <td>5</td>\n",
       "      <td>3</td>\n",
       "      <td>4</td>\n",
       "      <td>3</td>\n",
       "      <td>0</td>\n",
       "      <td>0.0</td>\n",
       "      <td>0</td>\n",
       "    </tr>\n",
       "    <tr>\n",
       "      <th>3</th>\n",
       "      <td>Male</td>\n",
       "      <td>Loyal Customer</td>\n",
       "      <td>27</td>\n",
       "      <td>Business travel</td>\n",
       "      <td>Business</td>\n",
       "      <td>2157</td>\n",
       "      <td>2</td>\n",
       "      <td>2</td>\n",
       "      <td>3</td>\n",
       "      <td>2</td>\n",
       "      <td>5</td>\n",
       "      <td>5</td>\n",
       "      <td>5</td>\n",
       "      <td>5</td>\n",
       "      <td>5</td>\n",
       "      <td>4</td>\n",
       "      <td>5</td>\n",
       "      <td>4</td>\n",
       "      <td>4</td>\n",
       "      <td>5</td>\n",
       "      <td>0</td>\n",
       "      <td>0.0</td>\n",
       "      <td>1</td>\n",
       "    </tr>\n",
       "    <tr>\n",
       "      <th>4</th>\n",
       "      <td>Male</td>\n",
       "      <td>Loyal Customer</td>\n",
       "      <td>25</td>\n",
       "      <td>Business travel</td>\n",
       "      <td>Eco Plus</td>\n",
       "      <td>590</td>\n",
       "      <td>4</td>\n",
       "      <td>3</td>\n",
       "      <td>4</td>\n",
       "      <td>4</td>\n",
       "      <td>4</td>\n",
       "      <td>4</td>\n",
       "      <td>4</td>\n",
       "      <td>4</td>\n",
       "      <td>4</td>\n",
       "      <td>5</td>\n",
       "      <td>4</td>\n",
       "      <td>3</td>\n",
       "      <td>3</td>\n",
       "      <td>4</td>\n",
       "      <td>0</td>\n",
       "      <td>0.0</td>\n",
       "      <td>0</td>\n",
       "    </tr>\n",
       "    <tr>\n",
       "      <th>5</th>\n",
       "      <td>Male</td>\n",
       "      <td>Loyal Customer</td>\n",
       "      <td>66</td>\n",
       "      <td>Personal Travel</td>\n",
       "      <td>Eco</td>\n",
       "      <td>1096</td>\n",
       "      <td>1</td>\n",
       "      <td>2</td>\n",
       "      <td>1</td>\n",
       "      <td>3</td>\n",
       "      <td>4</td>\n",
       "      <td>1</td>\n",
       "      <td>4</td>\n",
       "      <td>4</td>\n",
       "      <td>2</td>\n",
       "      <td>3</td>\n",
       "      <td>4</td>\n",
       "      <td>4</td>\n",
       "      <td>3</td>\n",
       "      <td>4</td>\n",
       "      <td>7</td>\n",
       "      <td>31.0</td>\n",
       "      <td>0</td>\n",
       "    </tr>\n",
       "    <tr>\n",
       "      <th>6</th>\n",
       "      <td>Female</td>\n",
       "      <td>Loyal Customer</td>\n",
       "      <td>20</td>\n",
       "      <td>Personal Travel</td>\n",
       "      <td>Eco</td>\n",
       "      <td>2288</td>\n",
       "      <td>2</td>\n",
       "      <td>2</td>\n",
       "      <td>2</td>\n",
       "      <td>3</td>\n",
       "      <td>2</td>\n",
       "      <td>2</td>\n",
       "      <td>2</td>\n",
       "      <td>2</td>\n",
       "      <td>4</td>\n",
       "      <td>1</td>\n",
       "      <td>3</td>\n",
       "      <td>4</td>\n",
       "      <td>4</td>\n",
       "      <td>2</td>\n",
       "      <td>0</td>\n",
       "      <td>11.0</td>\n",
       "      <td>0</td>\n",
       "    </tr>\n",
       "    <tr>\n",
       "      <th>7</th>\n",
       "      <td>Female</td>\n",
       "      <td>Loyal Customer</td>\n",
       "      <td>7</td>\n",
       "      <td>Personal Travel</td>\n",
       "      <td>Eco</td>\n",
       "      <td>1754</td>\n",
       "      <td>1</td>\n",
       "      <td>1</td>\n",
       "      <td>1</td>\n",
       "      <td>3</td>\n",
       "      <td>1</td>\n",
       "      <td>1</td>\n",
       "      <td>1</td>\n",
       "      <td>1</td>\n",
       "      <td>3</td>\n",
       "      <td>4</td>\n",
       "      <td>3</td>\n",
       "      <td>1</td>\n",
       "      <td>3</td>\n",
       "      <td>1</td>\n",
       "      <td>2</td>\n",
       "      <td>0.0</td>\n",
       "      <td>0</td>\n",
       "    </tr>\n",
       "    <tr>\n",
       "      <th>8</th>\n",
       "      <td>Male</td>\n",
       "      <td>disloyal Customer</td>\n",
       "      <td>26</td>\n",
       "      <td>Business travel</td>\n",
       "      <td>Business</td>\n",
       "      <td>240</td>\n",
       "      <td>0</td>\n",
       "      <td>0</td>\n",
       "      <td>0</td>\n",
       "      <td>3</td>\n",
       "      <td>4</td>\n",
       "      <td>0</td>\n",
       "      <td>1</td>\n",
       "      <td>4</td>\n",
       "      <td>3</td>\n",
       "      <td>4</td>\n",
       "      <td>4</td>\n",
       "      <td>5</td>\n",
       "      <td>5</td>\n",
       "      <td>4</td>\n",
       "      <td>8</td>\n",
       "      <td>0.0</td>\n",
       "      <td>1</td>\n",
       "    </tr>\n",
       "    <tr>\n",
       "      <th>9</th>\n",
       "      <td>Male</td>\n",
       "      <td>Loyal Customer</td>\n",
       "      <td>58</td>\n",
       "      <td>Business travel</td>\n",
       "      <td>Business</td>\n",
       "      <td>2453</td>\n",
       "      <td>2</td>\n",
       "      <td>3</td>\n",
       "      <td>3</td>\n",
       "      <td>3</td>\n",
       "      <td>4</td>\n",
       "      <td>2</td>\n",
       "      <td>3</td>\n",
       "      <td>2</td>\n",
       "      <td>2</td>\n",
       "      <td>2</td>\n",
       "      <td>2</td>\n",
       "      <td>2</td>\n",
       "      <td>2</td>\n",
       "      <td>2</td>\n",
       "      <td>122</td>\n",
       "      <td>130.0</td>\n",
       "      <td>0</td>\n",
       "    </tr>\n",
       "  </tbody>\n",
       "</table>\n",
       "</div>"
      ],
      "text/plain": [
       "   Gender      Customer Type  Age   Type of Travel     Class  Flight Distance  \\\n",
       "0  Female     Loyal Customer   33  Personal Travel       Eco              937   \n",
       "1  Female     Loyal Customer   48  Business travel  Business              937   \n",
       "2  Female  disloyal Customer   27  Business travel  Business             2125   \n",
       "3    Male     Loyal Customer   27  Business travel  Business             2157   \n",
       "4    Male     Loyal Customer   25  Business travel  Eco Plus              590   \n",
       "5    Male     Loyal Customer   66  Personal Travel       Eco             1096   \n",
       "6  Female     Loyal Customer   20  Personal Travel       Eco             2288   \n",
       "7  Female     Loyal Customer    7  Personal Travel       Eco             1754   \n",
       "8    Male  disloyal Customer   26  Business travel  Business              240   \n",
       "9    Male     Loyal Customer   58  Business travel  Business             2453   \n",
       "\n",
       "  Inflight wifi service Departure/Arrival time convenient  \\\n",
       "0                     2                                 2   \n",
       "1                     1                                 1   \n",
       "2                     3                                 3   \n",
       "3                     2                                 2   \n",
       "4                     4                                 3   \n",
       "5                     1                                 2   \n",
       "6                     2                                 2   \n",
       "7                     1                                 1   \n",
       "8                     0                                 0   \n",
       "9                     2                                 3   \n",
       "\n",
       "  Ease of Online booking Gate location Food and drink Online boarding  \\\n",
       "0                      2             4              4               2   \n",
       "1                      1             1              3               5   \n",
       "2                      3             2              3               3   \n",
       "3                      3             2              5               5   \n",
       "4                      4             4              4               4   \n",
       "5                      1             3              4               1   \n",
       "6                      2             3              2               2   \n",
       "7                      1             3              1               1   \n",
       "8                      0             3              4               0   \n",
       "9                      3             3              4               2   \n",
       "\n",
       "  Seat comfort Inflight entertainment On-board service Leg room service  \\\n",
       "0            4                      4                4                5   \n",
       "1            5                      2                2                2   \n",
       "2            3                      3                3                5   \n",
       "3            5                      5                5                4   \n",
       "4            4                      4                4                5   \n",
       "5            4                      4                2                3   \n",
       "6            2                      2                4                1   \n",
       "7            1                      1                3                4   \n",
       "8            1                      4                3                4   \n",
       "9            3                      2                2                2   \n",
       "\n",
       "  Baggage handling Checkin service Inflight service Cleanliness  \\\n",
       "0                4               4                4           4   \n",
       "1                2               3                2           3   \n",
       "2                5               3                4           3   \n",
       "3                5               4                4           5   \n",
       "4                4               3                3           4   \n",
       "5                4               4                3           4   \n",
       "6                3               4                4           2   \n",
       "7                3               1                3           1   \n",
       "8                4               5                5           4   \n",
       "9                2               2                2           2   \n",
       "\n",
       "   Departure Delay in Minutes  Arrival Delay in Minutes  satisfaction  \n",
       "0                           0                       0.0             0  \n",
       "1                           0                       0.0             1  \n",
       "2                           0                       0.0             0  \n",
       "3                           0                       0.0             1  \n",
       "4                           0                       0.0             0  \n",
       "5                           7                      31.0             0  \n",
       "6                           0                      11.0             0  \n",
       "7                           2                       0.0             0  \n",
       "8                           8                       0.0             1  \n",
       "9                         122                     130.0             0  "
      ]
     },
     "execution_count": 120,
     "metadata": {},
     "output_type": "execute_result"
    }
   ],
   "source": [
    "data_inf.head(10)"
   ]
  },
  {
   "cell_type": "markdown",
   "metadata": {},
   "source": [
    "##### 9.1 Check missing values in model inference"
   ]
  },
  {
   "cell_type": "code",
   "execution_count": 121,
   "metadata": {},
   "outputs": [
    {
     "name": "stdout",
     "output_type": "stream",
     "text": [
      "generate \"missing_df\"\n"
     ]
    }
   ],
   "source": [
    "missing_values(data_inf)"
   ]
  },
  {
   "cell_type": "markdown",
   "metadata": {},
   "source": [
    "##### 9.2 Split target variable"
   ]
  },
  {
   "cell_type": "code",
   "execution_count": 122,
   "metadata": {},
   "outputs": [],
   "source": [
    "X_inf = data_inf.drop(['satisfaction'],axis=1)\n",
    "y_inf = data_inf['satisfaction']"
   ]
  },
  {
   "cell_type": "markdown",
   "metadata": {},
   "source": [
    "##### 9.3 Feature selection"
   ]
  },
  {
   "cell_type": "code",
   "execution_count": 123,
   "metadata": {},
   "outputs": [],
   "source": [
    "# feature selection\n",
    "X_inf_select = X_inf.drop(columns=list_drop)"
   ]
  },
  {
   "cell_type": "markdown",
   "metadata": {},
   "source": [
    "##### 9.4 Model Predict"
   ]
  },
  {
   "cell_type": "markdown",
   "metadata": {},
   "source": [
    "in this part we want to predict the model perfromance using inference data, since we got 3 best model, we will use these 3 models."
   ]
  },
  {
   "cell_type": "markdown",
   "metadata": {},
   "source": [
    "##### Model 1 : Logistic Regression"
   ]
  },
  {
   "cell_type": "code",
   "execution_count": 124,
   "metadata": {},
   "outputs": [],
   "source": [
    "# logistic regression\n",
    "y_inf_rf= final_model.predict(X_inf_select)\n",
    "y_inf_log_rf = pd.DataFrame(y_inf_rf,columns=['y_inf_rf'])"
   ]
  },
  {
   "cell_type": "markdown",
   "metadata": {},
   "source": [
    "##### 9.5 Prediction Result"
   ]
  },
  {
   "cell_type": "markdown",
   "metadata": {},
   "source": [
    "in this part we gonna evaluate the prediction report on the inference data, we will use the best model from the previous part"
   ]
  },
  {
   "cell_type": "code",
   "execution_count": 125,
   "metadata": {},
   "outputs": [
    {
     "data": {
      "text/html": [
       "<div>\n",
       "<style scoped>\n",
       "    .dataframe tbody tr th:only-of-type {\n",
       "        vertical-align: middle;\n",
       "    }\n",
       "\n",
       "    .dataframe tbody tr th {\n",
       "        vertical-align: top;\n",
       "    }\n",
       "\n",
       "    .dataframe thead th {\n",
       "        text-align: right;\n",
       "    }\n",
       "</style>\n",
       "<table border=\"1\" class=\"dataframe\">\n",
       "  <thead>\n",
       "    <tr style=\"text-align: right;\">\n",
       "      <th></th>\n",
       "      <th>satisfaction</th>\n",
       "      <th>y_inf_rf</th>\n",
       "    </tr>\n",
       "  </thead>\n",
       "  <tbody>\n",
       "    <tr>\n",
       "      <th>0</th>\n",
       "      <td>0</td>\n",
       "      <td>0</td>\n",
       "    </tr>\n",
       "    <tr>\n",
       "      <th>1</th>\n",
       "      <td>1</td>\n",
       "      <td>1</td>\n",
       "    </tr>\n",
       "    <tr>\n",
       "      <th>2</th>\n",
       "      <td>0</td>\n",
       "      <td>0</td>\n",
       "    </tr>\n",
       "    <tr>\n",
       "      <th>3</th>\n",
       "      <td>1</td>\n",
       "      <td>1</td>\n",
       "    </tr>\n",
       "    <tr>\n",
       "      <th>4</th>\n",
       "      <td>0</td>\n",
       "      <td>0</td>\n",
       "    </tr>\n",
       "    <tr>\n",
       "      <th>5</th>\n",
       "      <td>0</td>\n",
       "      <td>0</td>\n",
       "    </tr>\n",
       "    <tr>\n",
       "      <th>6</th>\n",
       "      <td>0</td>\n",
       "      <td>0</td>\n",
       "    </tr>\n",
       "    <tr>\n",
       "      <th>7</th>\n",
       "      <td>0</td>\n",
       "      <td>0</td>\n",
       "    </tr>\n",
       "    <tr>\n",
       "      <th>8</th>\n",
       "      <td>1</td>\n",
       "      <td>1</td>\n",
       "    </tr>\n",
       "    <tr>\n",
       "      <th>9</th>\n",
       "      <td>0</td>\n",
       "      <td>0</td>\n",
       "    </tr>\n",
       "  </tbody>\n",
       "</table>\n",
       "</div>"
      ],
      "text/plain": [
       "   satisfaction  y_inf_rf\n",
       "0             0         0\n",
       "1             1         1\n",
       "2             0         0\n",
       "3             1         1\n",
       "4             0         0\n",
       "5             0         0\n",
       "6             0         0\n",
       "7             0         0\n",
       "8             1         1\n",
       "9             0         0"
      ]
     },
     "execution_count": 125,
     "metadata": {},
     "output_type": "execute_result"
    }
   ],
   "source": [
    "# concat dataframe\n",
    "inf_result = []\n",
    "inf_result = pd.concat([y_inf,y_inf_log_rf],axis=1)\n",
    "inf_result.head(10)"
   ]
  },
  {
   "cell_type": "markdown",
   "metadata": {},
   "source": [
    "##### Logistic Regression Result"
   ]
  },
  {
   "cell_type": "code",
   "execution_count": 126,
   "metadata": {},
   "outputs": [
    {
     "data": {
      "text/plain": [
       "0.995"
      ]
     },
     "execution_count": 126,
     "metadata": {},
     "output_type": "execute_result"
    }
   ],
   "source": [
    "# f1_weighted score log_reg\n",
    "accuracy_score(y_inf,y_inf_log_rf)"
   ]
  },
  {
   "cell_type": "code",
   "execution_count": 127,
   "metadata": {},
   "outputs": [
    {
     "name": "stdout",
     "output_type": "stream",
     "text": [
      "              precision    recall  f1-score   support\n",
      "\n",
      "           0       0.99      1.00      1.00       551\n",
      "           1       1.00      0.99      0.99       449\n",
      "\n",
      "    accuracy                           0.99      1000\n",
      "   macro avg       1.00      0.99      0.99      1000\n",
      "weighted avg       1.00      0.99      0.99      1000\n",
      "\n"
     ]
    }
   ],
   "source": [
    "# classification report log_reg\n",
    "print(classification_report(y_inf,y_inf_log_rf))"
   ]
  },
  {
   "cell_type": "markdown",
   "metadata": {},
   "source": [
    "`Analysis` :\n",
    "\n",
    "we use the data inference to predict the target variables, the accuracy score is 0.995, thats mean the model could predict the target variable with 99.5% accuracy."
   ]
  },
  {
   "cell_type": "markdown",
   "metadata": {},
   "source": [
    "   ### 10. Conclusion"
   ]
  },
  {
   "cell_type": "markdown",
   "metadata": {},
   "source": [
    "### EDA Analysis"
   ]
  },
  {
   "cell_type": "markdown",
   "metadata": {},
   "source": [
    "**Data visualization and Grouping**\n",
    "\n",
    "* the target variable proportion is 56% for `neutral or dissatisfaction` and 44% for `satisfaction`\n",
    "* the majority of customer is `neutral or dissatisfied`\n",
    "* based on gender we can see there's no different between male and female in term of satisfaction\n",
    "* the majority of customer is `loyal customer`\n",
    "* for `disloyal` customer the satisfaction level is `neutral or dissatisfied`\n",
    "* most of type of travel customer is `business travel`\n",
    "* we can see the different  between `personal travel` and `business travel` in term of satisfaction, most of the customer type with `personal travel` is `neutral or dissatisfied`.\n"
   ]
  },
  {
   "cell_type": "markdown",
   "metadata": {},
   "source": [
    "**Data Distribution Analysis**\n",
    "* `Age` have normal distribution\n",
    "* `Flight Distance`, `Departure Delay in Minutes` and `Arrival Delay in Minutes` have skew distribution"
   ]
  },
  {
   "cell_type": "markdown",
   "metadata": {},
   "source": [
    "**Outlier Detection**\n",
    "\n",
    "* there's an outlier in `Flight Distance`, `Departure Delay in Minutes` and `Arrival Delay in Minutes`. to make sure we need to check and handling the outliers in Data preprocessing. but in the Data preprocessing we also detect the outliers for `Age` features."
   ]
  },
  {
   "cell_type": "markdown",
   "metadata": {},
   "source": [
    "### Model Analysis"
   ]
  },
  {
   "cell_type": "markdown",
   "metadata": {},
   "source": [
    "**in this project we use 5 classification model, the model we use are :**\n",
    "\n",
    "a. Logistic Regression\\\n",
    "b. Decision Tree\\\n",
    "c. Random Forest\\\n",
    "d. K-Nearest Neighbors\\\n",
    "e. Naive Bayes\\\n"
   ]
  },
  {
   "cell_type": "markdown",
   "metadata": {},
   "source": [
    "**based on the 7 model we used cross validation to select the best model, table below is the score for each model :**"
   ]
  },
  {
   "cell_type": "code",
   "execution_count": 128,
   "metadata": {},
   "outputs": [
    {
     "data": {
      "text/html": [
       "<div>\n",
       "<style scoped>\n",
       "    .dataframe tbody tr th:only-of-type {\n",
       "        vertical-align: middle;\n",
       "    }\n",
       "\n",
       "    .dataframe tbody tr th {\n",
       "        vertical-align: top;\n",
       "    }\n",
       "\n",
       "    .dataframe thead th {\n",
       "        text-align: right;\n",
       "    }\n",
       "</style>\n",
       "<table border=\"1\" class=\"dataframe\">\n",
       "  <thead>\n",
       "    <tr style=\"text-align: right;\">\n",
       "      <th></th>\n",
       "      <th>model</th>\n",
       "      <th>mean</th>\n",
       "      <th>std</th>\n",
       "    </tr>\n",
       "  </thead>\n",
       "  <tbody>\n",
       "    <tr>\n",
       "      <th>0</th>\n",
       "      <td>log_reg</td>\n",
       "      <td>0.873840</td>\n",
       "      <td>0.002026</td>\n",
       "    </tr>\n",
       "    <tr>\n",
       "      <th>1</th>\n",
       "      <td>dt</td>\n",
       "      <td>0.943172</td>\n",
       "      <td>0.001846</td>\n",
       "    </tr>\n",
       "    <tr>\n",
       "      <th>2</th>\n",
       "      <td>rf</td>\n",
       "      <td>0.962085</td>\n",
       "      <td>0.001366</td>\n",
       "    </tr>\n",
       "    <tr>\n",
       "      <th>3</th>\n",
       "      <td>knn</td>\n",
       "      <td>0.930976</td>\n",
       "      <td>0.001070</td>\n",
       "    </tr>\n",
       "    <tr>\n",
       "      <th>4</th>\n",
       "      <td>ada</td>\n",
       "      <td>0.927186</td>\n",
       "      <td>0.001074</td>\n",
       "    </tr>\n",
       "  </tbody>\n",
       "</table>\n",
       "</div>"
      ],
      "text/plain": [
       "     model      mean       std\n",
       "0  log_reg  0.873840  0.002026\n",
       "1       dt  0.943172  0.001846\n",
       "2       rf  0.962085  0.001366\n",
       "3      knn  0.930976  0.001070\n",
       "4      ada  0.927186  0.001074"
      ]
     },
     "execution_count": 128,
     "metadata": {},
     "output_type": "execute_result"
    }
   ],
   "source": [
    "cv_result"
   ]
  },
  {
   "cell_type": "markdown",
   "metadata": {},
   "source": [
    "the result is from baseline model (default parameter), we conclude that we choose 2 best model with best performance, the indicator is highest mean and lowest standard deviation, in the result above we got 2 models with best performance :\n",
    "\n",
    "1. Random Forest Classifier\n",
    "2. Decision Tree Classifier\n"
   ]
  },
  {
   "cell_type": "markdown",
   "metadata": {},
   "source": [
    "**Hyperparameter Tuning to improve model performance**"
   ]
  },
  {
   "cell_type": "markdown",
   "metadata": {},
   "source": [
    "after we select 2 best model, we can improve the performance by using hyperparameter tuning, tabel below the result for each model :"
   ]
  },
  {
   "cell_type": "code",
   "execution_count": 129,
   "metadata": {},
   "outputs": [
    {
     "data": {
      "text/html": [
       "<div>\n",
       "<style scoped>\n",
       "    .dataframe tbody tr th:only-of-type {\n",
       "        vertical-align: middle;\n",
       "    }\n",
       "\n",
       "    .dataframe tbody tr th {\n",
       "        vertical-align: top;\n",
       "    }\n",
       "\n",
       "    .dataframe thead th {\n",
       "        text-align: right;\n",
       "    }\n",
       "</style>\n",
       "<table border=\"1\" class=\"dataframe\">\n",
       "  <thead>\n",
       "    <tr style=\"text-align: right;\">\n",
       "      <th></th>\n",
       "      <th>model</th>\n",
       "      <th>best_params</th>\n",
       "      <th>Train_score</th>\n",
       "      <th>Test_score</th>\n",
       "    </tr>\n",
       "  </thead>\n",
       "  <tbody>\n",
       "    <tr>\n",
       "      <th>0</th>\n",
       "      <td>Random Forest</td>\n",
       "      <td>{'rf__criterion': 'entropy', 'rf__n_estimators...</td>\n",
       "      <td>0.962829</td>\n",
       "      <td>0.964269</td>\n",
       "    </tr>\n",
       "    <tr>\n",
       "      <th>1</th>\n",
       "      <td>Decision Tree</td>\n",
       "      <td>{'dt__criterion': 'entropy', 'dt__min_samples_...</td>\n",
       "      <td>0.947984</td>\n",
       "      <td>0.947199</td>\n",
       "    </tr>\n",
       "  </tbody>\n",
       "</table>\n",
       "</div>"
      ],
      "text/plain": [
       "           model                                        best_params  \\\n",
       "0  Random Forest  {'rf__criterion': 'entropy', 'rf__n_estimators...   \n",
       "1  Decision Tree  {'dt__criterion': 'entropy', 'dt__min_samples_...   \n",
       "\n",
       "   Train_score  Test_score  \n",
       "0     0.962829    0.964269  \n",
       "1     0.947984    0.947199  "
      ]
     },
     "execution_count": 129,
     "metadata": {},
     "output_type": "execute_result"
    }
   ],
   "source": [
    "grid_summary"
   ]
  },
  {
   "cell_type": "markdown",
   "metadata": {},
   "source": [
    "**Model Inference**"
   ]
  },
  {
   "cell_type": "code",
   "execution_count": 130,
   "metadata": {},
   "outputs": [
    {
     "name": "stdout",
     "output_type": "stream",
     "text": [
      "              precision    recall  f1-score   support\n",
      "\n",
      "           0       0.99      1.00      1.00       551\n",
      "           1       1.00      0.99      0.99       449\n",
      "\n",
      "    accuracy                           0.99      1000\n",
      "   macro avg       1.00      0.99      0.99      1000\n",
      "weighted avg       1.00      0.99      0.99      1000\n",
      "\n"
     ]
    }
   ],
   "source": [
    "# classification report log_reg\n",
    "print(classification_report(y_inf,y_inf_log_rf))"
   ]
  },
  {
   "cell_type": "markdown",
   "metadata": {},
   "source": [
    "the accuracy score is 0.995, thats mean the model could predict the target variable with 99.5% accuracy."
   ]
  }
 ],
 "metadata": {
  "interpreter": {
   "hash": "916dbcbb3f70747c44a77c7bcd40155683ae19c65e1c03b4aa3499c5328201f1"
  },
  "kernelspec": {
   "display_name": "Python 3.9.7 64-bit",
   "language": "python",
   "name": "python3"
  },
  "language_info": {
   "codemirror_mode": {
    "name": "ipython",
    "version": 3
   },
   "file_extension": ".py",
   "mimetype": "text/x-python",
   "name": "python",
   "nbconvert_exporter": "python",
   "pygments_lexer": "ipython3",
   "version": "3.10.6"
  },
  "orig_nbformat": 4
 },
 "nbformat": 4,
 "nbformat_minor": 2
}
