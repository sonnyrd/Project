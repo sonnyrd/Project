{
 "cells": [
  {
   "cell_type": "markdown",
   "metadata": {},
   "source": [
    "\n",
    "# Title\n",
    "\n",
    "### Auto Categorizing News Article based on the Content"
   ]
  },
  {
   "cell_type": "markdown",
   "metadata": {},
   "source": [
    "# Introduction\n",
    "\n",
    "### Name : Sonny Riadi\n",
    "\n",
    "\n",
    "`Project Description :`\n",
    "\n",
    "In this project we gonna make a text classification using Natural Language Processing to determine the category of the article. \n"
   ]
  },
  {
   "cell_type": "markdown",
   "metadata": {},
   "source": [
    "# External Link\n",
    "\n",
    "1. Github [link](https://github.com/sonnyrd/Project/tree/main/7_Hacktiv8_DS_Talent_Fair/DSTF-2-DS-MMC-PORTAL)\n",
    "2. Deployment [link](https://sonnyrd-ds-talent-fair.herokuapp.com/)\n"
   ]
  },
  {
   "cell_type": "markdown",
   "metadata": {},
   "source": [
    "# Working Area\n",
    "This is where you handle the task\n"
   ]
  },
  {
   "cell_type": "markdown",
   "metadata": {},
   "source": [
    "###  I. Import Library"
   ]
  },
  {
   "cell_type": "code",
   "execution_count": 14,
   "metadata": {},
   "outputs": [],
   "source": [
    "import pandas as pd\n",
    "import numpy as np\n",
    "import requests\n",
    "import json\n",
    "import ast\n",
    "import re\n",
    "import matplotlib.pyplot as plt\n",
    "from bs4 import BeautifulSoup\n",
    "\n",
    "\n",
    "\n",
    "# Stemming\n",
    "from Sastrawi.Stemmer.StemmerFactory import StemmerFactory\n",
    "from Sastrawi.StopWordRemover.StopWordRemoverFactory import StopWordRemoverFactory\n",
    "\n",
    "# label encoder\n",
    "from sklearn.preprocessing import LabelEncoder\n",
    "from tensorflow.keras.utils import to_categorical\n",
    "\n",
    "# Tokenizer\n",
    "from keras.preprocessing.text import Tokenizer\n",
    "\n",
    "# Padding\n",
    "from tensorflow.keras.preprocessing.sequence import pad_sequences\n",
    "\n",
    "# splitting Dataset\n",
    "from sklearn.model_selection import train_test_split\n",
    "\n",
    "#tf\n",
    "import tensorflow as tf\n",
    "\n",
    "# modelling\n",
    "from tensorflow.keras.models import Sequential\n",
    "from tensorflow.keras.layers import Dense, LSTM, Embedding, Dropout, Bidirectional\n",
    "from keras.models import Sequential, load_model\n",
    "from keras.callbacks import EarlyStopping, ModelCheckpoint\n",
    "\n",
    "# save model\n",
    "import pickle\n",
    "\n",
    "\n",
    "# metrics\n",
    "from sklearn.metrics import classification_report\n",
    "\n",
    "# disable warning\n",
    "import warnings\n",
    "warnings.filterwarnings(\"ignore\")"
   ]
  },
  {
   "cell_type": "markdown",
   "metadata": {},
   "source": [
    "### II. Loading Dataset"
   ]
  },
  {
   "cell_type": "code",
   "execution_count": 15,
   "metadata": {},
   "outputs": [
    {
     "data": {
      "text/html": [
       "<div>\n",
       "<style scoped>\n",
       "    .dataframe tbody tr th:only-of-type {\n",
       "        vertical-align: middle;\n",
       "    }\n",
       "\n",
       "    .dataframe tbody tr th {\n",
       "        vertical-align: top;\n",
       "    }\n",
       "\n",
       "    .dataframe thead th {\n",
       "        text-align: right;\n",
       "    }\n",
       "</style>\n",
       "<table border=\"1\" class=\"dataframe\">\n",
       "  <thead>\n",
       "    <tr style=\"text-align: right;\">\n",
       "      <th></th>\n",
       "      <th>category_id</th>\n",
       "      <th>category_name</th>\n",
       "      <th>content_date</th>\n",
       "      <th>content_id</th>\n",
       "      <th>content_name</th>\n",
       "      <th>content_title</th>\n",
       "      <th>summary</th>\n",
       "      <th>tagging</th>\n",
       "      <th>content</th>\n",
       "    </tr>\n",
       "  </thead>\n",
       "  <tbody>\n",
       "    <tr>\n",
       "      <th>0</th>\n",
       "      <td>13</td>\n",
       "      <td>Humor</td>\n",
       "      <td>2022-11-29T03:09:20.728+00:00</td>\n",
       "      <td>be0eddd47b0c4994842293bdaa7eddcc</td>\n",
       "      <td>article</td>\n",
       "      <td>Kembali Datangkan Murid Internasional, Kali In...</td>\n",
       "      <td>JAKARTA, celebrities.id - Dikenal sebagai pres...</td>\n",
       "      <td>[{'backgroundimage': '', 'created': '2022-02-1...</td>\n",
       "      <td>&lt;p&gt;&lt;strong&gt;JAKARTA, celebrities.id - &lt;/strong&gt;...</td>\n",
       "    </tr>\n",
       "    <tr>\n",
       "      <th>1</th>\n",
       "      <td>13</td>\n",
       "      <td>Humor</td>\n",
       "      <td>2022-11-29T03:04:23.689+00:00</td>\n",
       "      <td>e2e2dd9d819044cbb43e2f7e4f4bce5a</td>\n",
       "      <td>article</td>\n",
       "      <td>Kembali Datangkan Murid Internasional, Kali In...</td>\n",
       "      <td>JAKARTA - Dikenal sebagai presenter yang hits ...</td>\n",
       "      <td>[{'backgroundimage': '', 'created': '2021-11-0...</td>\n",
       "      <td>&lt;p&gt;&lt;strong&gt;JAKARTA - &lt;/strong&gt;Dikenal sebagai ...</td>\n",
       "    </tr>\n",
       "    <tr>\n",
       "      <th>2</th>\n",
       "      <td>13</td>\n",
       "      <td>Humor</td>\n",
       "      <td>2022-11-28T17:42:06.887+00:00</td>\n",
       "      <td>ea653310f8fe446c9219a80176ecbd97</td>\n",
       "      <td>article</td>\n",
       "      <td>Putri Donald Trump Akrab dengan Perdana Menter...</td>\n",
       "      <td>Putri Donald Trump terlihat akrab dengan Per...</td>\n",
       "      <td>NaN</td>\n",
       "      <td>&lt;p&gt;&lt;strong&gt;GenPI.co - &lt;/strong&gt; Ivanka Trump y...</td>\n",
       "    </tr>\n",
       "    <tr>\n",
       "      <th>3</th>\n",
       "      <td>13</td>\n",
       "      <td>Humor</td>\n",
       "      <td>2022-11-28T04:58:16.643+00:00</td>\n",
       "      <td>2a0ef77058224bcdb1735e7ea058cb09</td>\n",
       "      <td>article</td>\n",
       "      <td>Elon Musk: Kesalahan Besar Blokir Akun Twitter...</td>\n",
       "      <td>Pemilik Twitter, Elon Musk menyebut, aksi mela...</td>\n",
       "      <td>[{'backgroundimage': '', 'created': '2022-11-2...</td>\n",
       "      <td>&lt;p&gt;Pemilik Twitter, Elon Musk menyebut, aksi m...</td>\n",
       "    </tr>\n",
       "    <tr>\n",
       "      <th>4</th>\n",
       "      <td>13</td>\n",
       "      <td>Humor</td>\n",
       "      <td>2022-11-28T02:32:20.03+00:00</td>\n",
       "      <td>099f4c67f5454afe947ab2a8be9045aa</td>\n",
       "      <td>article</td>\n",
       "      <td>Elon Musk Sebut Aksi Larang Akun Twitter Trump...</td>\n",
       "      <td>JAKARTA, NETRALNEWS.COM - Pemilik Twitter yang...</td>\n",
       "      <td>[{'backgroundimage': '', 'created': '2022-11-2...</td>\n",
       "      <td>&lt;p&gt;&lt;b style=\"font-size: 0.875rem;\"&gt;JAKARTA, NE...</td>\n",
       "    </tr>\n",
       "    <tr>\n",
       "      <th>5</th>\n",
       "      <td>13</td>\n",
       "      <td>Humor</td>\n",
       "      <td>2022-11-28T02:12:25.551+00:00</td>\n",
       "      <td>6245295d524a497398e8f492013640db</td>\n",
       "      <td>article</td>\n",
       "      <td>Aksi Larang Akun Twitter Trump saat Menjabat P...</td>\n",
       "      <td>JAKARTA, NETRALNEWS.COM - Pemilik Twitter yang...</td>\n",
       "      <td>[{'backgroundimage': '', 'created': '2022-11-2...</td>\n",
       "      <td>&lt;p&gt;&lt;b style=\"font-size: 0.875rem;\"&gt;JAKARTA, NE...</td>\n",
       "    </tr>\n",
       "    <tr>\n",
       "      <th>6</th>\n",
       "      <td>13</td>\n",
       "      <td>Humor</td>\n",
       "      <td>2022-11-26T01:26:00.292+00:00</td>\n",
       "      <td>685bd06f53414cc1b7085e290aed6f86</td>\n",
       "      <td>article</td>\n",
       "      <td>Donald Trump Belum Juga Nge-tweet sejak Akunny...</td>\n",
       "      <td>WASHINGTON, iNews.id - Miliarder Elon Musk kem...</td>\n",
       "      <td>[{'backgroundimage': '', 'created': '2022-11-2...</td>\n",
       "      <td>&lt;p&gt;&lt;strong&gt;WASHINGTON, iNews.id&lt;/strong&gt; - Mil...</td>\n",
       "    </tr>\n",
       "    <tr>\n",
       "      <th>7</th>\n",
       "      <td>13</td>\n",
       "      <td>Humor</td>\n",
       "      <td>2022-11-25T12:05:25.823+00:00</td>\n",
       "      <td>b3d7ec50b4c34f68a860180da8b89241</td>\n",
       "      <td>article</td>\n",
       "      <td>Ditemani Deng Ical, IAS Sowan ke Sejumlah Elit...</td>\n",
       "      <td>RAKYATKU.COM, KEPULAUAN SELAYAR - Kandidat gub...</td>\n",
       "      <td>[{'backgroundimage': '', 'created': '2022-04-0...</td>\n",
       "      <td>&lt;p&gt;&lt;strong&gt;RAKYATKU.COM, KEPULAUAN SELAYAR&lt;/st...</td>\n",
       "    </tr>\n",
       "    <tr>\n",
       "      <th>8</th>\n",
       "      <td>13</td>\n",
       "      <td>Humor</td>\n",
       "      <td>2022-11-25T04:00:59.58+00:00</td>\n",
       "      <td>cbc92db4f29c4d01ae3a6fb706a1f9cb</td>\n",
       "      <td>article</td>\n",
       "      <td>Donald Trump Disebut Meninggal, Hoaks Lagi, Ho...</td>\n",
       "      <td>Hoaks berisi Mantan Presiden Amerika Serikat...</td>\n",
       "      <td>NaN</td>\n",
       "      <td>&lt;p&gt;&lt;strong&gt;GenPI.co - &lt;/strong&gt; Hoaks berisi M...</td>\n",
       "    </tr>\n",
       "    <tr>\n",
       "      <th>9</th>\n",
       "      <td>13</td>\n",
       "      <td>Humor</td>\n",
       "      <td>2022-11-24T23:40:15.425+00:00</td>\n",
       "      <td>3235196a9efa4280b29ad119dbbe0c3e</td>\n",
       "      <td>article</td>\n",
       "      <td>Selamat! Bill Gates Bakal Jadi Kakek</td>\n",
       "      <td>BUKAMATA - Putri sulung Bill Gates, Jennifer G...</td>\n",
       "      <td>[{'backgroundimage': '', 'created': '2022-05-2...</td>\n",
       "      <td>&lt;p class=\"p1\"&gt;&lt;span class=\"s1\"&gt;&lt;strong&gt;BUKAMAT...</td>\n",
       "    </tr>\n",
       "  </tbody>\n",
       "</table>\n",
       "</div>"
      ],
      "text/plain": [
       "   category_id category_name                   content_date  \\\n",
       "0           13         Humor  2022-11-29T03:09:20.728+00:00   \n",
       "1           13         Humor  2022-11-29T03:04:23.689+00:00   \n",
       "2           13         Humor  2022-11-28T17:42:06.887+00:00   \n",
       "3           13         Humor  2022-11-28T04:58:16.643+00:00   \n",
       "4           13         Humor   2022-11-28T02:32:20.03+00:00   \n",
       "5           13         Humor  2022-11-28T02:12:25.551+00:00   \n",
       "6           13         Humor  2022-11-26T01:26:00.292+00:00   \n",
       "7           13         Humor  2022-11-25T12:05:25.823+00:00   \n",
       "8           13         Humor   2022-11-25T04:00:59.58+00:00   \n",
       "9           13         Humor  2022-11-24T23:40:15.425+00:00   \n",
       "\n",
       "                         content_id content_name  \\\n",
       "0  be0eddd47b0c4994842293bdaa7eddcc      article   \n",
       "1  e2e2dd9d819044cbb43e2f7e4f4bce5a      article   \n",
       "2  ea653310f8fe446c9219a80176ecbd97      article   \n",
       "3  2a0ef77058224bcdb1735e7ea058cb09      article   \n",
       "4  099f4c67f5454afe947ab2a8be9045aa      article   \n",
       "5  6245295d524a497398e8f492013640db      article   \n",
       "6  685bd06f53414cc1b7085e290aed6f86      article   \n",
       "7  b3d7ec50b4c34f68a860180da8b89241      article   \n",
       "8  cbc92db4f29c4d01ae3a6fb706a1f9cb      article   \n",
       "9  3235196a9efa4280b29ad119dbbe0c3e      article   \n",
       "\n",
       "                                       content_title  \\\n",
       "0  Kembali Datangkan Murid Internasional, Kali In...   \n",
       "1  Kembali Datangkan Murid Internasional, Kali In...   \n",
       "2  Putri Donald Trump Akrab dengan Perdana Menter...   \n",
       "3  Elon Musk: Kesalahan Besar Blokir Akun Twitter...   \n",
       "4  Elon Musk Sebut Aksi Larang Akun Twitter Trump...   \n",
       "5  Aksi Larang Akun Twitter Trump saat Menjabat P...   \n",
       "6  Donald Trump Belum Juga Nge-tweet sejak Akunny...   \n",
       "7  Ditemani Deng Ical, IAS Sowan ke Sejumlah Elit...   \n",
       "8  Donald Trump Disebut Meninggal, Hoaks Lagi, Ho...   \n",
       "9               Selamat! Bill Gates Bakal Jadi Kakek   \n",
       "\n",
       "                                             summary  \\\n",
       "0  JAKARTA, celebrities.id - Dikenal sebagai pres...   \n",
       "1  JAKARTA - Dikenal sebagai presenter yang hits ...   \n",
       "2    Putri Donald Trump terlihat akrab dengan Per...   \n",
       "3  Pemilik Twitter, Elon Musk menyebut, aksi mela...   \n",
       "4  JAKARTA, NETRALNEWS.COM - Pemilik Twitter yang...   \n",
       "5  JAKARTA, NETRALNEWS.COM - Pemilik Twitter yang...   \n",
       "6  WASHINGTON, iNews.id - Miliarder Elon Musk kem...   \n",
       "7  RAKYATKU.COM, KEPULAUAN SELAYAR - Kandidat gub...   \n",
       "8    Hoaks berisi Mantan Presiden Amerika Serikat...   \n",
       "9  BUKAMATA - Putri sulung Bill Gates, Jennifer G...   \n",
       "\n",
       "                                             tagging  \\\n",
       "0  [{'backgroundimage': '', 'created': '2022-02-1...   \n",
       "1  [{'backgroundimage': '', 'created': '2021-11-0...   \n",
       "2                                                NaN   \n",
       "3  [{'backgroundimage': '', 'created': '2022-11-2...   \n",
       "4  [{'backgroundimage': '', 'created': '2022-11-2...   \n",
       "5  [{'backgroundimage': '', 'created': '2022-11-2...   \n",
       "6  [{'backgroundimage': '', 'created': '2022-11-2...   \n",
       "7  [{'backgroundimage': '', 'created': '2022-04-0...   \n",
       "8                                                NaN   \n",
       "9  [{'backgroundimage': '', 'created': '2022-05-2...   \n",
       "\n",
       "                                             content  \n",
       "0  <p><strong>JAKARTA, celebrities.id - </strong>...  \n",
       "1  <p><strong>JAKARTA - </strong>Dikenal sebagai ...  \n",
       "2  <p><strong>GenPI.co - </strong> Ivanka Trump y...  \n",
       "3  <p>Pemilik Twitter, Elon Musk menyebut, aksi m...  \n",
       "4  <p><b style=\"font-size: 0.875rem;\">JAKARTA, NE...  \n",
       "5  <p><b style=\"font-size: 0.875rem;\">JAKARTA, NE...  \n",
       "6  <p><strong>WASHINGTON, iNews.id</strong> - Mil...  \n",
       "7  <p><strong>RAKYATKU.COM, KEPULAUAN SELAYAR</st...  \n",
       "8  <p><strong>GenPI.co - </strong> Hoaks berisi M...  \n",
       "9  <p class=\"p1\"><span class=\"s1\"><strong>BUKAMAT...  "
      ]
     },
     "execution_count": 15,
     "metadata": {},
     "output_type": "execute_result"
    }
   ],
   "source": [
    "df = pd.read_csv('Dataset/dataset_final.csv')\n",
    "df.head(10)"
   ]
  },
  {
   "cell_type": "code",
   "execution_count": 16,
   "metadata": {},
   "outputs": [
    {
     "data": {
      "text/plain": [
       "(17976, 9)"
      ]
     },
     "execution_count": 16,
     "metadata": {},
     "output_type": "execute_result"
    }
   ],
   "source": [
    "df.shape"
   ]
  },
  {
   "cell_type": "markdown",
   "metadata": {},
   "source": [
    "### III. Data Cleaning & Preparation"
   ]
  },
  {
   "cell_type": "markdown",
   "metadata": {},
   "source": [
    "##### 1. Remove Duplicates Content ID"
   ]
  },
  {
   "cell_type": "code",
   "execution_count": 17,
   "metadata": {},
   "outputs": [
    {
     "data": {
      "text/html": [
       "<div>\n",
       "<style scoped>\n",
       "    .dataframe tbody tr th:only-of-type {\n",
       "        vertical-align: middle;\n",
       "    }\n",
       "\n",
       "    .dataframe tbody tr th {\n",
       "        vertical-align: top;\n",
       "    }\n",
       "\n",
       "    .dataframe thead th {\n",
       "        text-align: right;\n",
       "    }\n",
       "</style>\n",
       "<table border=\"1\" class=\"dataframe\">\n",
       "  <thead>\n",
       "    <tr style=\"text-align: right;\">\n",
       "      <th></th>\n",
       "      <th>category_id</th>\n",
       "      <th>category_name</th>\n",
       "      <th>content_date</th>\n",
       "      <th>content_id</th>\n",
       "      <th>content_name</th>\n",
       "      <th>content_title</th>\n",
       "      <th>summary</th>\n",
       "      <th>tagging</th>\n",
       "      <th>content</th>\n",
       "    </tr>\n",
       "  </thead>\n",
       "  <tbody>\n",
       "    <tr>\n",
       "      <th>0</th>\n",
       "      <td>13</td>\n",
       "      <td>Humor</td>\n",
       "      <td>2022-11-29T03:09:20.728+00:00</td>\n",
       "      <td>be0eddd47b0c4994842293bdaa7eddcc</td>\n",
       "      <td>article</td>\n",
       "      <td>Kembali Datangkan Murid Internasional, Kali In...</td>\n",
       "      <td>JAKARTA, celebrities.id - Dikenal sebagai pres...</td>\n",
       "      <td>[{'backgroundimage': '', 'created': '2022-02-1...</td>\n",
       "      <td>&lt;p&gt;&lt;strong&gt;JAKARTA, celebrities.id - &lt;/strong&gt;...</td>\n",
       "    </tr>\n",
       "    <tr>\n",
       "      <th>1</th>\n",
       "      <td>13</td>\n",
       "      <td>Humor</td>\n",
       "      <td>2022-11-29T03:04:23.689+00:00</td>\n",
       "      <td>e2e2dd9d819044cbb43e2f7e4f4bce5a</td>\n",
       "      <td>article</td>\n",
       "      <td>Kembali Datangkan Murid Internasional, Kali In...</td>\n",
       "      <td>JAKARTA - Dikenal sebagai presenter yang hits ...</td>\n",
       "      <td>[{'backgroundimage': '', 'created': '2021-11-0...</td>\n",
       "      <td>&lt;p&gt;&lt;strong&gt;JAKARTA - &lt;/strong&gt;Dikenal sebagai ...</td>\n",
       "    </tr>\n",
       "    <tr>\n",
       "      <th>2</th>\n",
       "      <td>13</td>\n",
       "      <td>Humor</td>\n",
       "      <td>2022-11-28T17:42:06.887+00:00</td>\n",
       "      <td>ea653310f8fe446c9219a80176ecbd97</td>\n",
       "      <td>article</td>\n",
       "      <td>Putri Donald Trump Akrab dengan Perdana Menter...</td>\n",
       "      <td>Putri Donald Trump terlihat akrab dengan Per...</td>\n",
       "      <td>NaN</td>\n",
       "      <td>&lt;p&gt;&lt;strong&gt;GenPI.co - &lt;/strong&gt; Ivanka Trump y...</td>\n",
       "    </tr>\n",
       "    <tr>\n",
       "      <th>3</th>\n",
       "      <td>13</td>\n",
       "      <td>Humor</td>\n",
       "      <td>2022-11-28T04:58:16.643+00:00</td>\n",
       "      <td>2a0ef77058224bcdb1735e7ea058cb09</td>\n",
       "      <td>article</td>\n",
       "      <td>Elon Musk: Kesalahan Besar Blokir Akun Twitter...</td>\n",
       "      <td>Pemilik Twitter, Elon Musk menyebut, aksi mela...</td>\n",
       "      <td>[{'backgroundimage': '', 'created': '2022-11-2...</td>\n",
       "      <td>&lt;p&gt;Pemilik Twitter, Elon Musk menyebut, aksi m...</td>\n",
       "    </tr>\n",
       "    <tr>\n",
       "      <th>4</th>\n",
       "      <td>13</td>\n",
       "      <td>Humor</td>\n",
       "      <td>2022-11-28T02:32:20.03+00:00</td>\n",
       "      <td>099f4c67f5454afe947ab2a8be9045aa</td>\n",
       "      <td>article</td>\n",
       "      <td>Elon Musk Sebut Aksi Larang Akun Twitter Trump...</td>\n",
       "      <td>JAKARTA, NETRALNEWS.COM - Pemilik Twitter yang...</td>\n",
       "      <td>[{'backgroundimage': '', 'created': '2022-11-2...</td>\n",
       "      <td>&lt;p&gt;&lt;b style=\"font-size: 0.875rem;\"&gt;JAKARTA, NE...</td>\n",
       "    </tr>\n",
       "    <tr>\n",
       "      <th>5</th>\n",
       "      <td>13</td>\n",
       "      <td>Humor</td>\n",
       "      <td>2022-11-28T02:12:25.551+00:00</td>\n",
       "      <td>6245295d524a497398e8f492013640db</td>\n",
       "      <td>article</td>\n",
       "      <td>Aksi Larang Akun Twitter Trump saat Menjabat P...</td>\n",
       "      <td>JAKARTA, NETRALNEWS.COM - Pemilik Twitter yang...</td>\n",
       "      <td>[{'backgroundimage': '', 'created': '2022-11-2...</td>\n",
       "      <td>&lt;p&gt;&lt;b style=\"font-size: 0.875rem;\"&gt;JAKARTA, NE...</td>\n",
       "    </tr>\n",
       "    <tr>\n",
       "      <th>6</th>\n",
       "      <td>13</td>\n",
       "      <td>Humor</td>\n",
       "      <td>2022-11-26T01:26:00.292+00:00</td>\n",
       "      <td>685bd06f53414cc1b7085e290aed6f86</td>\n",
       "      <td>article</td>\n",
       "      <td>Donald Trump Belum Juga Nge-tweet sejak Akunny...</td>\n",
       "      <td>WASHINGTON, iNews.id - Miliarder Elon Musk kem...</td>\n",
       "      <td>[{'backgroundimage': '', 'created': '2022-11-2...</td>\n",
       "      <td>&lt;p&gt;&lt;strong&gt;WASHINGTON, iNews.id&lt;/strong&gt; - Mil...</td>\n",
       "    </tr>\n",
       "    <tr>\n",
       "      <th>7</th>\n",
       "      <td>13</td>\n",
       "      <td>Humor</td>\n",
       "      <td>2022-11-25T12:05:25.823+00:00</td>\n",
       "      <td>b3d7ec50b4c34f68a860180da8b89241</td>\n",
       "      <td>article</td>\n",
       "      <td>Ditemani Deng Ical, IAS Sowan ke Sejumlah Elit...</td>\n",
       "      <td>RAKYATKU.COM, KEPULAUAN SELAYAR - Kandidat gub...</td>\n",
       "      <td>[{'backgroundimage': '', 'created': '2022-04-0...</td>\n",
       "      <td>&lt;p&gt;&lt;strong&gt;RAKYATKU.COM, KEPULAUAN SELAYAR&lt;/st...</td>\n",
       "    </tr>\n",
       "    <tr>\n",
       "      <th>8</th>\n",
       "      <td>13</td>\n",
       "      <td>Humor</td>\n",
       "      <td>2022-11-25T04:00:59.58+00:00</td>\n",
       "      <td>cbc92db4f29c4d01ae3a6fb706a1f9cb</td>\n",
       "      <td>article</td>\n",
       "      <td>Donald Trump Disebut Meninggal, Hoaks Lagi, Ho...</td>\n",
       "      <td>Hoaks berisi Mantan Presiden Amerika Serikat...</td>\n",
       "      <td>NaN</td>\n",
       "      <td>&lt;p&gt;&lt;strong&gt;GenPI.co - &lt;/strong&gt; Hoaks berisi M...</td>\n",
       "    </tr>\n",
       "    <tr>\n",
       "      <th>9</th>\n",
       "      <td>13</td>\n",
       "      <td>Humor</td>\n",
       "      <td>2022-11-24T23:40:15.425+00:00</td>\n",
       "      <td>3235196a9efa4280b29ad119dbbe0c3e</td>\n",
       "      <td>article</td>\n",
       "      <td>Selamat! Bill Gates Bakal Jadi Kakek</td>\n",
       "      <td>BUKAMATA - Putri sulung Bill Gates, Jennifer G...</td>\n",
       "      <td>[{'backgroundimage': '', 'created': '2022-05-2...</td>\n",
       "      <td>&lt;p class=\"p1\"&gt;&lt;span class=\"s1\"&gt;&lt;strong&gt;BUKAMAT...</td>\n",
       "    </tr>\n",
       "  </tbody>\n",
       "</table>\n",
       "</div>"
      ],
      "text/plain": [
       "   category_id category_name                   content_date  \\\n",
       "0           13         Humor  2022-11-29T03:09:20.728+00:00   \n",
       "1           13         Humor  2022-11-29T03:04:23.689+00:00   \n",
       "2           13         Humor  2022-11-28T17:42:06.887+00:00   \n",
       "3           13         Humor  2022-11-28T04:58:16.643+00:00   \n",
       "4           13         Humor   2022-11-28T02:32:20.03+00:00   \n",
       "5           13         Humor  2022-11-28T02:12:25.551+00:00   \n",
       "6           13         Humor  2022-11-26T01:26:00.292+00:00   \n",
       "7           13         Humor  2022-11-25T12:05:25.823+00:00   \n",
       "8           13         Humor   2022-11-25T04:00:59.58+00:00   \n",
       "9           13         Humor  2022-11-24T23:40:15.425+00:00   \n",
       "\n",
       "                         content_id content_name  \\\n",
       "0  be0eddd47b0c4994842293bdaa7eddcc      article   \n",
       "1  e2e2dd9d819044cbb43e2f7e4f4bce5a      article   \n",
       "2  ea653310f8fe446c9219a80176ecbd97      article   \n",
       "3  2a0ef77058224bcdb1735e7ea058cb09      article   \n",
       "4  099f4c67f5454afe947ab2a8be9045aa      article   \n",
       "5  6245295d524a497398e8f492013640db      article   \n",
       "6  685bd06f53414cc1b7085e290aed6f86      article   \n",
       "7  b3d7ec50b4c34f68a860180da8b89241      article   \n",
       "8  cbc92db4f29c4d01ae3a6fb706a1f9cb      article   \n",
       "9  3235196a9efa4280b29ad119dbbe0c3e      article   \n",
       "\n",
       "                                       content_title  \\\n",
       "0  Kembali Datangkan Murid Internasional, Kali In...   \n",
       "1  Kembali Datangkan Murid Internasional, Kali In...   \n",
       "2  Putri Donald Trump Akrab dengan Perdana Menter...   \n",
       "3  Elon Musk: Kesalahan Besar Blokir Akun Twitter...   \n",
       "4  Elon Musk Sebut Aksi Larang Akun Twitter Trump...   \n",
       "5  Aksi Larang Akun Twitter Trump saat Menjabat P...   \n",
       "6  Donald Trump Belum Juga Nge-tweet sejak Akunny...   \n",
       "7  Ditemani Deng Ical, IAS Sowan ke Sejumlah Elit...   \n",
       "8  Donald Trump Disebut Meninggal, Hoaks Lagi, Ho...   \n",
       "9               Selamat! Bill Gates Bakal Jadi Kakek   \n",
       "\n",
       "                                             summary  \\\n",
       "0  JAKARTA, celebrities.id - Dikenal sebagai pres...   \n",
       "1  JAKARTA - Dikenal sebagai presenter yang hits ...   \n",
       "2    Putri Donald Trump terlihat akrab dengan Per...   \n",
       "3  Pemilik Twitter, Elon Musk menyebut, aksi mela...   \n",
       "4  JAKARTA, NETRALNEWS.COM - Pemilik Twitter yang...   \n",
       "5  JAKARTA, NETRALNEWS.COM - Pemilik Twitter yang...   \n",
       "6  WASHINGTON, iNews.id - Miliarder Elon Musk kem...   \n",
       "7  RAKYATKU.COM, KEPULAUAN SELAYAR - Kandidat gub...   \n",
       "8    Hoaks berisi Mantan Presiden Amerika Serikat...   \n",
       "9  BUKAMATA - Putri sulung Bill Gates, Jennifer G...   \n",
       "\n",
       "                                             tagging  \\\n",
       "0  [{'backgroundimage': '', 'created': '2022-02-1...   \n",
       "1  [{'backgroundimage': '', 'created': '2021-11-0...   \n",
       "2                                                NaN   \n",
       "3  [{'backgroundimage': '', 'created': '2022-11-2...   \n",
       "4  [{'backgroundimage': '', 'created': '2022-11-2...   \n",
       "5  [{'backgroundimage': '', 'created': '2022-11-2...   \n",
       "6  [{'backgroundimage': '', 'created': '2022-11-2...   \n",
       "7  [{'backgroundimage': '', 'created': '2022-04-0...   \n",
       "8                                                NaN   \n",
       "9  [{'backgroundimage': '', 'created': '2022-05-2...   \n",
       "\n",
       "                                             content  \n",
       "0  <p><strong>JAKARTA, celebrities.id - </strong>...  \n",
       "1  <p><strong>JAKARTA - </strong>Dikenal sebagai ...  \n",
       "2  <p><strong>GenPI.co - </strong> Ivanka Trump y...  \n",
       "3  <p>Pemilik Twitter, Elon Musk menyebut, aksi m...  \n",
       "4  <p><b style=\"font-size: 0.875rem;\">JAKARTA, NE...  \n",
       "5  <p><b style=\"font-size: 0.875rem;\">JAKARTA, NE...  \n",
       "6  <p><strong>WASHINGTON, iNews.id</strong> - Mil...  \n",
       "7  <p><strong>RAKYATKU.COM, KEPULAUAN SELAYAR</st...  \n",
       "8  <p><strong>GenPI.co - </strong> Hoaks berisi M...  \n",
       "9  <p class=\"p1\"><span class=\"s1\"><strong>BUKAMAT...  "
      ]
     },
     "execution_count": 17,
     "metadata": {},
     "output_type": "execute_result"
    }
   ],
   "source": [
    "df.drop_duplicates(subset='content_id',inplace=True)\n",
    "df.head(10)"
   ]
  },
  {
   "cell_type": "code",
   "execution_count": 18,
   "metadata": {},
   "outputs": [
    {
     "data": {
      "text/plain": [
       "(17974, 9)"
      ]
     },
     "execution_count": 18,
     "metadata": {},
     "output_type": "execute_result"
    }
   ],
   "source": [
    "df.shape"
   ]
  },
  {
   "cell_type": "markdown",
   "metadata": {},
   "source": [
    "##### 2. Drop Missing Values"
   ]
  },
  {
   "cell_type": "code",
   "execution_count": 19,
   "metadata": {},
   "outputs": [],
   "source": [
    "df.dropna(subset=['content'],inplace=True)"
   ]
  },
  {
   "cell_type": "code",
   "execution_count": 20,
   "metadata": {},
   "outputs": [
    {
     "data": {
      "text/html": [
       "<div>\n",
       "<style scoped>\n",
       "    .dataframe tbody tr th:only-of-type {\n",
       "        vertical-align: middle;\n",
       "    }\n",
       "\n",
       "    .dataframe tbody tr th {\n",
       "        vertical-align: top;\n",
       "    }\n",
       "\n",
       "    .dataframe thead th {\n",
       "        text-align: right;\n",
       "    }\n",
       "</style>\n",
       "<table border=\"1\" class=\"dataframe\">\n",
       "  <thead>\n",
       "    <tr style=\"text-align: right;\">\n",
       "      <th></th>\n",
       "      <th>category_id</th>\n",
       "      <th>category_name</th>\n",
       "      <th>content_date</th>\n",
       "      <th>content_id</th>\n",
       "      <th>content_name</th>\n",
       "      <th>content_title</th>\n",
       "      <th>summary</th>\n",
       "      <th>tagging</th>\n",
       "      <th>content</th>\n",
       "    </tr>\n",
       "  </thead>\n",
       "  <tbody>\n",
       "    <tr>\n",
       "      <th>0</th>\n",
       "      <td>13</td>\n",
       "      <td>Humor</td>\n",
       "      <td>2022-11-29T03:09:20.728+00:00</td>\n",
       "      <td>be0eddd47b0c4994842293bdaa7eddcc</td>\n",
       "      <td>article</td>\n",
       "      <td>Kembali Datangkan Murid Internasional, Kali In...</td>\n",
       "      <td>JAKARTA, celebrities.id - Dikenal sebagai pres...</td>\n",
       "      <td>[{'backgroundimage': '', 'created': '2022-02-1...</td>\n",
       "      <td>&lt;p&gt;&lt;strong&gt;JAKARTA, celebrities.id - &lt;/strong&gt;...</td>\n",
       "    </tr>\n",
       "    <tr>\n",
       "      <th>1</th>\n",
       "      <td>13</td>\n",
       "      <td>Humor</td>\n",
       "      <td>2022-11-29T03:04:23.689+00:00</td>\n",
       "      <td>e2e2dd9d819044cbb43e2f7e4f4bce5a</td>\n",
       "      <td>article</td>\n",
       "      <td>Kembali Datangkan Murid Internasional, Kali In...</td>\n",
       "      <td>JAKARTA - Dikenal sebagai presenter yang hits ...</td>\n",
       "      <td>[{'backgroundimage': '', 'created': '2021-11-0...</td>\n",
       "      <td>&lt;p&gt;&lt;strong&gt;JAKARTA - &lt;/strong&gt;Dikenal sebagai ...</td>\n",
       "    </tr>\n",
       "    <tr>\n",
       "      <th>2</th>\n",
       "      <td>13</td>\n",
       "      <td>Humor</td>\n",
       "      <td>2022-11-28T17:42:06.887+00:00</td>\n",
       "      <td>ea653310f8fe446c9219a80176ecbd97</td>\n",
       "      <td>article</td>\n",
       "      <td>Putri Donald Trump Akrab dengan Perdana Menter...</td>\n",
       "      <td>Putri Donald Trump terlihat akrab dengan Per...</td>\n",
       "      <td>NaN</td>\n",
       "      <td>&lt;p&gt;&lt;strong&gt;GenPI.co - &lt;/strong&gt; Ivanka Trump y...</td>\n",
       "    </tr>\n",
       "    <tr>\n",
       "      <th>3</th>\n",
       "      <td>13</td>\n",
       "      <td>Humor</td>\n",
       "      <td>2022-11-28T04:58:16.643+00:00</td>\n",
       "      <td>2a0ef77058224bcdb1735e7ea058cb09</td>\n",
       "      <td>article</td>\n",
       "      <td>Elon Musk: Kesalahan Besar Blokir Akun Twitter...</td>\n",
       "      <td>Pemilik Twitter, Elon Musk menyebut, aksi mela...</td>\n",
       "      <td>[{'backgroundimage': '', 'created': '2022-11-2...</td>\n",
       "      <td>&lt;p&gt;Pemilik Twitter, Elon Musk menyebut, aksi m...</td>\n",
       "    </tr>\n",
       "    <tr>\n",
       "      <th>4</th>\n",
       "      <td>13</td>\n",
       "      <td>Humor</td>\n",
       "      <td>2022-11-28T02:32:20.03+00:00</td>\n",
       "      <td>099f4c67f5454afe947ab2a8be9045aa</td>\n",
       "      <td>article</td>\n",
       "      <td>Elon Musk Sebut Aksi Larang Akun Twitter Trump...</td>\n",
       "      <td>JAKARTA, NETRALNEWS.COM - Pemilik Twitter yang...</td>\n",
       "      <td>[{'backgroundimage': '', 'created': '2022-11-2...</td>\n",
       "      <td>&lt;p&gt;&lt;b style=\"font-size: 0.875rem;\"&gt;JAKARTA, NE...</td>\n",
       "    </tr>\n",
       "    <tr>\n",
       "      <th>5</th>\n",
       "      <td>13</td>\n",
       "      <td>Humor</td>\n",
       "      <td>2022-11-28T02:12:25.551+00:00</td>\n",
       "      <td>6245295d524a497398e8f492013640db</td>\n",
       "      <td>article</td>\n",
       "      <td>Aksi Larang Akun Twitter Trump saat Menjabat P...</td>\n",
       "      <td>JAKARTA, NETRALNEWS.COM - Pemilik Twitter yang...</td>\n",
       "      <td>[{'backgroundimage': '', 'created': '2022-11-2...</td>\n",
       "      <td>&lt;p&gt;&lt;b style=\"font-size: 0.875rem;\"&gt;JAKARTA, NE...</td>\n",
       "    </tr>\n",
       "    <tr>\n",
       "      <th>6</th>\n",
       "      <td>13</td>\n",
       "      <td>Humor</td>\n",
       "      <td>2022-11-26T01:26:00.292+00:00</td>\n",
       "      <td>685bd06f53414cc1b7085e290aed6f86</td>\n",
       "      <td>article</td>\n",
       "      <td>Donald Trump Belum Juga Nge-tweet sejak Akunny...</td>\n",
       "      <td>WASHINGTON, iNews.id - Miliarder Elon Musk kem...</td>\n",
       "      <td>[{'backgroundimage': '', 'created': '2022-11-2...</td>\n",
       "      <td>&lt;p&gt;&lt;strong&gt;WASHINGTON, iNews.id&lt;/strong&gt; - Mil...</td>\n",
       "    </tr>\n",
       "    <tr>\n",
       "      <th>7</th>\n",
       "      <td>13</td>\n",
       "      <td>Humor</td>\n",
       "      <td>2022-11-25T12:05:25.823+00:00</td>\n",
       "      <td>b3d7ec50b4c34f68a860180da8b89241</td>\n",
       "      <td>article</td>\n",
       "      <td>Ditemani Deng Ical, IAS Sowan ke Sejumlah Elit...</td>\n",
       "      <td>RAKYATKU.COM, KEPULAUAN SELAYAR - Kandidat gub...</td>\n",
       "      <td>[{'backgroundimage': '', 'created': '2022-04-0...</td>\n",
       "      <td>&lt;p&gt;&lt;strong&gt;RAKYATKU.COM, KEPULAUAN SELAYAR&lt;/st...</td>\n",
       "    </tr>\n",
       "    <tr>\n",
       "      <th>8</th>\n",
       "      <td>13</td>\n",
       "      <td>Humor</td>\n",
       "      <td>2022-11-25T04:00:59.58+00:00</td>\n",
       "      <td>cbc92db4f29c4d01ae3a6fb706a1f9cb</td>\n",
       "      <td>article</td>\n",
       "      <td>Donald Trump Disebut Meninggal, Hoaks Lagi, Ho...</td>\n",
       "      <td>Hoaks berisi Mantan Presiden Amerika Serikat...</td>\n",
       "      <td>NaN</td>\n",
       "      <td>&lt;p&gt;&lt;strong&gt;GenPI.co - &lt;/strong&gt; Hoaks berisi M...</td>\n",
       "    </tr>\n",
       "    <tr>\n",
       "      <th>9</th>\n",
       "      <td>13</td>\n",
       "      <td>Humor</td>\n",
       "      <td>2022-11-24T23:40:15.425+00:00</td>\n",
       "      <td>3235196a9efa4280b29ad119dbbe0c3e</td>\n",
       "      <td>article</td>\n",
       "      <td>Selamat! Bill Gates Bakal Jadi Kakek</td>\n",
       "      <td>BUKAMATA - Putri sulung Bill Gates, Jennifer G...</td>\n",
       "      <td>[{'backgroundimage': '', 'created': '2022-05-2...</td>\n",
       "      <td>&lt;p class=\"p1\"&gt;&lt;span class=\"s1\"&gt;&lt;strong&gt;BUKAMAT...</td>\n",
       "    </tr>\n",
       "  </tbody>\n",
       "</table>\n",
       "</div>"
      ],
      "text/plain": [
       "   category_id category_name                   content_date  \\\n",
       "0           13         Humor  2022-11-29T03:09:20.728+00:00   \n",
       "1           13         Humor  2022-11-29T03:04:23.689+00:00   \n",
       "2           13         Humor  2022-11-28T17:42:06.887+00:00   \n",
       "3           13         Humor  2022-11-28T04:58:16.643+00:00   \n",
       "4           13         Humor   2022-11-28T02:32:20.03+00:00   \n",
       "5           13         Humor  2022-11-28T02:12:25.551+00:00   \n",
       "6           13         Humor  2022-11-26T01:26:00.292+00:00   \n",
       "7           13         Humor  2022-11-25T12:05:25.823+00:00   \n",
       "8           13         Humor   2022-11-25T04:00:59.58+00:00   \n",
       "9           13         Humor  2022-11-24T23:40:15.425+00:00   \n",
       "\n",
       "                         content_id content_name  \\\n",
       "0  be0eddd47b0c4994842293bdaa7eddcc      article   \n",
       "1  e2e2dd9d819044cbb43e2f7e4f4bce5a      article   \n",
       "2  ea653310f8fe446c9219a80176ecbd97      article   \n",
       "3  2a0ef77058224bcdb1735e7ea058cb09      article   \n",
       "4  099f4c67f5454afe947ab2a8be9045aa      article   \n",
       "5  6245295d524a497398e8f492013640db      article   \n",
       "6  685bd06f53414cc1b7085e290aed6f86      article   \n",
       "7  b3d7ec50b4c34f68a860180da8b89241      article   \n",
       "8  cbc92db4f29c4d01ae3a6fb706a1f9cb      article   \n",
       "9  3235196a9efa4280b29ad119dbbe0c3e      article   \n",
       "\n",
       "                                       content_title  \\\n",
       "0  Kembali Datangkan Murid Internasional, Kali In...   \n",
       "1  Kembali Datangkan Murid Internasional, Kali In...   \n",
       "2  Putri Donald Trump Akrab dengan Perdana Menter...   \n",
       "3  Elon Musk: Kesalahan Besar Blokir Akun Twitter...   \n",
       "4  Elon Musk Sebut Aksi Larang Akun Twitter Trump...   \n",
       "5  Aksi Larang Akun Twitter Trump saat Menjabat P...   \n",
       "6  Donald Trump Belum Juga Nge-tweet sejak Akunny...   \n",
       "7  Ditemani Deng Ical, IAS Sowan ke Sejumlah Elit...   \n",
       "8  Donald Trump Disebut Meninggal, Hoaks Lagi, Ho...   \n",
       "9               Selamat! Bill Gates Bakal Jadi Kakek   \n",
       "\n",
       "                                             summary  \\\n",
       "0  JAKARTA, celebrities.id - Dikenal sebagai pres...   \n",
       "1  JAKARTA - Dikenal sebagai presenter yang hits ...   \n",
       "2    Putri Donald Trump terlihat akrab dengan Per...   \n",
       "3  Pemilik Twitter, Elon Musk menyebut, aksi mela...   \n",
       "4  JAKARTA, NETRALNEWS.COM - Pemilik Twitter yang...   \n",
       "5  JAKARTA, NETRALNEWS.COM - Pemilik Twitter yang...   \n",
       "6  WASHINGTON, iNews.id - Miliarder Elon Musk kem...   \n",
       "7  RAKYATKU.COM, KEPULAUAN SELAYAR - Kandidat gub...   \n",
       "8    Hoaks berisi Mantan Presiden Amerika Serikat...   \n",
       "9  BUKAMATA - Putri sulung Bill Gates, Jennifer G...   \n",
       "\n",
       "                                             tagging  \\\n",
       "0  [{'backgroundimage': '', 'created': '2022-02-1...   \n",
       "1  [{'backgroundimage': '', 'created': '2021-11-0...   \n",
       "2                                                NaN   \n",
       "3  [{'backgroundimage': '', 'created': '2022-11-2...   \n",
       "4  [{'backgroundimage': '', 'created': '2022-11-2...   \n",
       "5  [{'backgroundimage': '', 'created': '2022-11-2...   \n",
       "6  [{'backgroundimage': '', 'created': '2022-11-2...   \n",
       "7  [{'backgroundimage': '', 'created': '2022-04-0...   \n",
       "8                                                NaN   \n",
       "9  [{'backgroundimage': '', 'created': '2022-05-2...   \n",
       "\n",
       "                                             content  \n",
       "0  <p><strong>JAKARTA, celebrities.id - </strong>...  \n",
       "1  <p><strong>JAKARTA - </strong>Dikenal sebagai ...  \n",
       "2  <p><strong>GenPI.co - </strong> Ivanka Trump y...  \n",
       "3  <p>Pemilik Twitter, Elon Musk menyebut, aksi m...  \n",
       "4  <p><b style=\"font-size: 0.875rem;\">JAKARTA, NE...  \n",
       "5  <p><b style=\"font-size: 0.875rem;\">JAKARTA, NE...  \n",
       "6  <p><strong>WASHINGTON, iNews.id</strong> - Mil...  \n",
       "7  <p><strong>RAKYATKU.COM, KEPULAUAN SELAYAR</st...  \n",
       "8  <p><strong>GenPI.co - </strong> Hoaks berisi M...  \n",
       "9  <p class=\"p1\"><span class=\"s1\"><strong>BUKAMAT...  "
      ]
     },
     "execution_count": 20,
     "metadata": {},
     "output_type": "execute_result"
    }
   ],
   "source": [
    "df.reset_index(drop=True,inplace=True)\n",
    "df.head(10)"
   ]
  },
  {
   "cell_type": "markdown",
   "metadata": {},
   "source": [
    "##### Select Category"
   ]
  },
  {
   "cell_type": "code",
   "execution_count": 21,
   "metadata": {},
   "outputs": [
    {
     "data": {
      "text/html": [
       "<div>\n",
       "<style scoped>\n",
       "    .dataframe tbody tr th:only-of-type {\n",
       "        vertical-align: middle;\n",
       "    }\n",
       "\n",
       "    .dataframe tbody tr th {\n",
       "        vertical-align: top;\n",
       "    }\n",
       "\n",
       "    .dataframe thead th {\n",
       "        text-align: right;\n",
       "    }\n",
       "</style>\n",
       "<table border=\"1\" class=\"dataframe\">\n",
       "  <thead>\n",
       "    <tr style=\"text-align: right;\">\n",
       "      <th></th>\n",
       "      <th>category_id</th>\n",
       "      <th>category_name</th>\n",
       "      <th>content_date</th>\n",
       "      <th>content_id</th>\n",
       "      <th>content_name</th>\n",
       "      <th>content_title</th>\n",
       "      <th>summary</th>\n",
       "      <th>tagging</th>\n",
       "      <th>content</th>\n",
       "    </tr>\n",
       "  </thead>\n",
       "  <tbody>\n",
       "    <tr>\n",
       "      <th>109</th>\n",
       "      <td>21</td>\n",
       "      <td>Ekonomi</td>\n",
       "      <td>2022-11-02T01:21:34.696+00:00</td>\n",
       "      <td>ee599421a28442beb7a62d49bc5d288d</td>\n",
       "      <td>article</td>\n",
       "      <td>Kemnaker Turun Tangan Panggil Bos Waroeng SS, ...</td>\n",
       "      <td>JAKARTA, iNewsSragen.id - Gaji Karyawan Peneri...</td>\n",
       "      <td>[{'backgroundimage': '', 'created': '2022-01-0...</td>\n",
       "      <td>&lt;p&gt;&lt;strong&gt;JAKARTA, iNewsSragen.id&lt;/strong&gt; - ...</td>\n",
       "    </tr>\n",
       "    <tr>\n",
       "      <th>140</th>\n",
       "      <td>34</td>\n",
       "      <td>Politik &amp; Peristiwa</td>\n",
       "      <td>2022-10-17T15:54:12.528+00:00</td>\n",
       "      <td>823a4dc6037241c9b479ec66382c4e5b</td>\n",
       "      <td>article</td>\n",
       "      <td>Miris Oknum ASN Takalar Aniaya hingga Rudapaks...</td>\n",
       "      <td>PORTALMEDIA.ID, MAKASSAR- Sungguh malang nasib...</td>\n",
       "      <td>[{'backgroundimage': '', 'created': '2022-08-0...</td>\n",
       "      <td>&lt;p&gt;PORTALMEDIA.ID, MAKASSAR- Sungguh malang na...</td>\n",
       "    </tr>\n",
       "    <tr>\n",
       "      <th>148</th>\n",
       "      <td>34</td>\n",
       "      <td>Politik &amp; Peristiwa</td>\n",
       "      <td>2022-10-14T19:11:24.848+00:00</td>\n",
       "      <td>6f8dd91b66064ee1810184d95ee10afb</td>\n",
       "      <td>article</td>\n",
       "      <td>IRT Tewas dengan Mulut Tersumpal Celana Dalam ...</td>\n",
       "      <td>BOYOLALI, INEWS.TTU.ID  Seorang IRT Tewas deng...</td>\n",
       "      <td>[{'backgroundimage': '', 'created': '2022-10-1...</td>\n",
       "      <td>&lt;p&gt;&lt;br /&gt;&lt;strong&gt;BOYOLALI, INEWS.TTU.ID &lt;/stro...</td>\n",
       "    </tr>\n",
       "    <tr>\n",
       "      <th>150</th>\n",
       "      <td>22</td>\n",
       "      <td>Gaya Hidup</td>\n",
       "      <td>2022-10-13T23:48:48.007+00:00</td>\n",
       "      <td>6769499dfd50413886b53d76085c818b</td>\n",
       "      <td>article</td>\n",
       "      <td>Berwajah Ganteng dan Imut, 5 Aktor Korea Berak...</td>\n",
       "      <td>JAKARTA, INEWSTTU.ID- Drama Korea selalu menja...</td>\n",
       "      <td>[{'backgroundimage': '', 'created': '2021-09-1...</td>\n",
       "      <td>&lt;div&gt;&lt;strong&gt;JAKARTA, INEWSTTU.ID&lt;/strong&gt;- Dr...</td>\n",
       "    </tr>\n",
       "    <tr>\n",
       "      <th>165</th>\n",
       "      <td>30</td>\n",
       "      <td>Olahraga</td>\n",
       "      <td>2022-10-11T09:40:43.327+00:00</td>\n",
       "      <td>e91CCA</td>\n",
       "      <td>article</td>\n",
       "      <td>Jordan Henderson Diduga Berkata Rasis, FA Inve...</td>\n",
       "      <td>Arsenal berhasil menumbangkan Liverpool dengan...</td>\n",
       "      <td>[{'backgroundimage': '', 'created': '2022-10-1...</td>\n",
       "      <td>&lt;p&gt;&lt;span style=\"font-weight: 400;\"&gt;Arsenal ber...</td>\n",
       "    </tr>\n",
       "    <tr>\n",
       "      <th>...</th>\n",
       "      <td>...</td>\n",
       "      <td>...</td>\n",
       "      <td>...</td>\n",
       "      <td>...</td>\n",
       "      <td>...</td>\n",
       "      <td>...</td>\n",
       "      <td>...</td>\n",
       "      <td>...</td>\n",
       "      <td>...</td>\n",
       "    </tr>\n",
       "    <tr>\n",
       "      <th>17957</th>\n",
       "      <td>36</td>\n",
       "      <td>Games</td>\n",
       "      <td>2022-11-05T08:27:12.332+00:00</td>\n",
       "      <td>b45b94df77c043f2b0dcbefe36af29ca</td>\n",
       "      <td>article</td>\n",
       "      <td>Trailer terbaru &amp;#39;The Devil In Me&amp;#39; mema...</td>\n",
       "      <td>Setelah mengumumkan cerita serta tanggal rili...</td>\n",
       "      <td>[{'backgroundimage': '', 'created': '2022-08-2...</td>\n",
       "      <td>&lt;p&gt;Setelah mengumumkan cerita serta tanggal ri...</td>\n",
       "    </tr>\n",
       "    <tr>\n",
       "      <th>17958</th>\n",
       "      <td>36</td>\n",
       "      <td>Games</td>\n",
       "      <td>2022-11-05T08:03:04.032+00:00</td>\n",
       "      <td>42473356d30c4637adb1a396c39f8a4a</td>\n",
       "      <td>article</td>\n",
       "      <td>Google Play Games Versi Beta Sudah Bisa Diundu...</td>\n",
       "      <td>Pada upacara Penghargaan Game tahun lalu, Goo...</td>\n",
       "      <td>NaN</td>\n",
       "      <td>&lt;p&gt;Pada upacara Penghargaan Game tahun lalu, G...</td>\n",
       "    </tr>\n",
       "    <tr>\n",
       "      <th>17959</th>\n",
       "      <td>36</td>\n",
       "      <td>Games</td>\n",
       "      <td>2022-11-05T08:03:03.681+00:00</td>\n",
       "      <td>0ea2404d8e18433ab6d1b097152acce9</td>\n",
       "      <td>article</td>\n",
       "      <td>Waduh, Perilisan Game Football Manager 2023 Un...</td>\n",
       "      <td>Sega dan Sports Interactive mengumumkan bahwa...</td>\n",
       "      <td>NaN</td>\n",
       "      <td>&lt;p&gt;Sega dan Sports Interactive mengumumkan bah...</td>\n",
       "    </tr>\n",
       "    <tr>\n",
       "      <th>17960</th>\n",
       "      <td>36</td>\n",
       "      <td>Games</td>\n",
       "      <td>2022-11-05T07:23:12.662+00:00</td>\n",
       "      <td>4b78df539c4d4a699b9e04b7fcb47e8a</td>\n",
       "      <td>article</td>\n",
       "      <td>Kumpulan Kode Redeem FF Free Fire MAX Sabtu 5 ...</td>\n",
       "      <td>Kode Redeem FF Free Fire MAX, Sabtu 5 November...</td>\n",
       "      <td>[{'backgroundimage': '', 'created': '2021-11-1...</td>\n",
       "      <td>&lt;p&gt;&lt;strong&gt;JAKARTA &lt;/strong&gt;&lt;a href=\"https://w...</td>\n",
       "    </tr>\n",
       "    <tr>\n",
       "      <th>17961</th>\n",
       "      <td>36</td>\n",
       "      <td>Games</td>\n",
       "      <td>2022-11-05T06:53:33.393+00:00</td>\n",
       "      <td>49743e33d43b4f9d9a3a8dc1e5b134a0</td>\n",
       "      <td>article</td>\n",
       "      <td>Pro Tips Buat Para Player Shirou Free Fire: Gu...</td>\n",
       "      <td>Kalau kamu udah kenal sama yang namanya Shirou...</td>\n",
       "      <td>NaN</td>\n",
       "      <td>&lt;p&gt;Kalau kamu udah kenal sama yang namanya Shi...</td>\n",
       "    </tr>\n",
       "  </tbody>\n",
       "</table>\n",
       "<p>17683 rows × 9 columns</p>\n",
       "</div>"
      ],
      "text/plain": [
       "       category_id        category_name                   content_date  \\\n",
       "109             21              Ekonomi  2022-11-02T01:21:34.696+00:00   \n",
       "140             34  Politik & Peristiwa  2022-10-17T15:54:12.528+00:00   \n",
       "148             34  Politik & Peristiwa  2022-10-14T19:11:24.848+00:00   \n",
       "150             22           Gaya Hidup  2022-10-13T23:48:48.007+00:00   \n",
       "165             30             Olahraga  2022-10-11T09:40:43.327+00:00   \n",
       "...            ...                  ...                            ...   \n",
       "17957           36                Games  2022-11-05T08:27:12.332+00:00   \n",
       "17958           36                Games  2022-11-05T08:03:04.032+00:00   \n",
       "17959           36                Games  2022-11-05T08:03:03.681+00:00   \n",
       "17960           36                Games  2022-11-05T07:23:12.662+00:00   \n",
       "17961           36                Games  2022-11-05T06:53:33.393+00:00   \n",
       "\n",
       "                             content_id content_name  \\\n",
       "109    ee599421a28442beb7a62d49bc5d288d      article   \n",
       "140    823a4dc6037241c9b479ec66382c4e5b      article   \n",
       "148    6f8dd91b66064ee1810184d95ee10afb      article   \n",
       "150    6769499dfd50413886b53d76085c818b      article   \n",
       "165                              e91CCA      article   \n",
       "...                                 ...          ...   \n",
       "17957  b45b94df77c043f2b0dcbefe36af29ca      article   \n",
       "17958  42473356d30c4637adb1a396c39f8a4a      article   \n",
       "17959  0ea2404d8e18433ab6d1b097152acce9      article   \n",
       "17960  4b78df539c4d4a699b9e04b7fcb47e8a      article   \n",
       "17961  49743e33d43b4f9d9a3a8dc1e5b134a0      article   \n",
       "\n",
       "                                           content_title  \\\n",
       "109    Kemnaker Turun Tangan Panggil Bos Waroeng SS, ...   \n",
       "140    Miris Oknum ASN Takalar Aniaya hingga Rudapaks...   \n",
       "148    IRT Tewas dengan Mulut Tersumpal Celana Dalam ...   \n",
       "150    Berwajah Ganteng dan Imut, 5 Aktor Korea Berak...   \n",
       "165    Jordan Henderson Diduga Berkata Rasis, FA Inve...   \n",
       "...                                                  ...   \n",
       "17957  Trailer terbaru &#39;The Devil In Me&#39; mema...   \n",
       "17958  Google Play Games Versi Beta Sudah Bisa Diundu...   \n",
       "17959  Waduh, Perilisan Game Football Manager 2023 Un...   \n",
       "17960  Kumpulan Kode Redeem FF Free Fire MAX Sabtu 5 ...   \n",
       "17961  Pro Tips Buat Para Player Shirou Free Fire: Gu...   \n",
       "\n",
       "                                                 summary  \\\n",
       "109    JAKARTA, iNewsSragen.id - Gaji Karyawan Peneri...   \n",
       "140    PORTALMEDIA.ID, MAKASSAR- Sungguh malang nasib...   \n",
       "148    BOYOLALI, INEWS.TTU.ID  Seorang IRT Tewas deng...   \n",
       "150    JAKARTA, INEWSTTU.ID- Drama Korea selalu menja...   \n",
       "165    Arsenal berhasil menumbangkan Liverpool dengan...   \n",
       "...                                                  ...   \n",
       "17957   Setelah mengumumkan cerita serta tanggal rili...   \n",
       "17958   Pada upacara Penghargaan Game tahun lalu, Goo...   \n",
       "17959   Sega dan Sports Interactive mengumumkan bahwa...   \n",
       "17960  Kode Redeem FF Free Fire MAX, Sabtu 5 November...   \n",
       "17961  Kalau kamu udah kenal sama yang namanya Shirou...   \n",
       "\n",
       "                                                 tagging  \\\n",
       "109    [{'backgroundimage': '', 'created': '2022-01-0...   \n",
       "140    [{'backgroundimage': '', 'created': '2022-08-0...   \n",
       "148    [{'backgroundimage': '', 'created': '2022-10-1...   \n",
       "150    [{'backgroundimage': '', 'created': '2021-09-1...   \n",
       "165    [{'backgroundimage': '', 'created': '2022-10-1...   \n",
       "...                                                  ...   \n",
       "17957  [{'backgroundimage': '', 'created': '2022-08-2...   \n",
       "17958                                                NaN   \n",
       "17959                                                NaN   \n",
       "17960  [{'backgroundimage': '', 'created': '2021-11-1...   \n",
       "17961                                                NaN   \n",
       "\n",
       "                                                 content  \n",
       "109    <p><strong>JAKARTA, iNewsSragen.id</strong> - ...  \n",
       "140    <p>PORTALMEDIA.ID, MAKASSAR- Sungguh malang na...  \n",
       "148    <p><br /><strong>BOYOLALI, INEWS.TTU.ID </stro...  \n",
       "150    <div><strong>JAKARTA, INEWSTTU.ID</strong>- Dr...  \n",
       "165    <p><span style=\"font-weight: 400;\">Arsenal ber...  \n",
       "...                                                  ...  \n",
       "17957  <p>Setelah mengumumkan cerita serta tanggal ri...  \n",
       "17958  <p>Pada upacara Penghargaan Game tahun lalu, G...  \n",
       "17959  <p>Sega dan Sports Interactive mengumumkan bah...  \n",
       "17960  <p><strong>JAKARTA </strong><a href=\"https://w...  \n",
       "17961  <p>Kalau kamu udah kenal sama yang namanya Shi...  \n",
       "\n",
       "[17683 rows x 9 columns]"
      ]
     },
     "execution_count": 21,
     "metadata": {},
     "output_type": "execute_result"
    }
   ],
   "source": [
    "# df = df[\n",
    "#         (df['category_name'].isin(['Politik & Peristiwa','Keuangan dan Bisnis','Hiburan','Olahraga','Ekonomi']))\n",
    "        \n",
    "#     ]\n",
    "# df\n",
    "\n",
    "df = df[\n",
    "        (df['category_name'] != 'Humor')\n",
    "        \n",
    "    ]\n",
    "df\n",
    "\n",
    "\n"
   ]
  },
  {
   "cell_type": "code",
   "execution_count": 22,
   "metadata": {},
   "outputs": [],
   "source": [
    "# df = df.groupby('category_name', group_keys=False).apply(lambda x: x.sample(min(len(x), 500)).sample(frac=1))"
   ]
  },
  {
   "cell_type": "code",
   "execution_count": 23,
   "metadata": {},
   "outputs": [
    {
     "data": {
      "text/plain": [
       "Politik & Peristiwa    1164\n",
       "Keuangan dan Bisnis    1095\n",
       "Hiburan                1092\n",
       "Olahraga               1081\n",
       "Wisata dan Kuliner     1074\n",
       "Gaya Hidup             1072\n",
       "Kebijakan Publik       1051\n",
       "Ekonomi                1021\n",
       "Otomotif               1011\n",
       "Kesehatan              1009\n",
       "Gawai                  1007\n",
       "Games                  1007\n",
       "Luxury                 1005\n",
       "Musik dan Film         1002\n",
       "Teknologi              1001\n",
       "Budaya                  998\n",
       "Kecantikan              993\n",
       "Name: category_name, dtype: int64"
      ]
     },
     "execution_count": 23,
     "metadata": {},
     "output_type": "execute_result"
    }
   ],
   "source": [
    "df['category_name'].value_counts()"
   ]
  },
  {
   "cell_type": "markdown",
   "metadata": {},
   "source": [
    "##### 6. Data Cleansing"
   ]
  },
  {
   "cell_type": "code",
   "execution_count": 24,
   "metadata": {},
   "outputs": [],
   "source": [
    "def clean_text(text):\n",
    "    try:\n",
    "        # remove html tag\n",
    "        text = re.sub(r'<strong>.*?</strong>',' ',text)\n",
    "        # remove html tag\n",
    "        text = re.sub(r'<.*?>',' ',text)\n",
    "        # remove first header jakarta, inews.id -\n",
    "        text = re.sub(r'^.+? -',' ',text)\n",
    "        # remove link url\n",
    "        text = re.sub(r'https?:\\/\\/.*?[\\s+]',' ',text)\n",
    "        # remove symbol\n",
    "        text = re.sub('[^a-zA-Z]',' ',text)\n",
    "        text = ' '.join(text.split())\n",
    "        text = text.lower()\n",
    "        return text\n",
    "    except: None"
   ]
  },
  {
   "cell_type": "code",
   "execution_count": 25,
   "metadata": {},
   "outputs": [
    {
     "data": {
      "text/html": [
       "<div>\n",
       "<style scoped>\n",
       "    .dataframe tbody tr th:only-of-type {\n",
       "        vertical-align: middle;\n",
       "    }\n",
       "\n",
       "    .dataframe tbody tr th {\n",
       "        vertical-align: top;\n",
       "    }\n",
       "\n",
       "    .dataframe thead th {\n",
       "        text-align: right;\n",
       "    }\n",
       "</style>\n",
       "<table border=\"1\" class=\"dataframe\">\n",
       "  <thead>\n",
       "    <tr style=\"text-align: right;\">\n",
       "      <th></th>\n",
       "      <th>category_id</th>\n",
       "      <th>category_name</th>\n",
       "      <th>content_date</th>\n",
       "      <th>content_id</th>\n",
       "      <th>content_name</th>\n",
       "      <th>content_title</th>\n",
       "      <th>summary</th>\n",
       "      <th>tagging</th>\n",
       "      <th>content</th>\n",
       "      <th>content_clean</th>\n",
       "    </tr>\n",
       "  </thead>\n",
       "  <tbody>\n",
       "    <tr>\n",
       "      <th>109</th>\n",
       "      <td>21</td>\n",
       "      <td>Ekonomi</td>\n",
       "      <td>2022-11-02T01:21:34.696+00:00</td>\n",
       "      <td>ee599421a28442beb7a62d49bc5d288d</td>\n",
       "      <td>article</td>\n",
       "      <td>Kemnaker Turun Tangan Panggil Bos Waroeng SS, ...</td>\n",
       "      <td>JAKARTA, iNewsSragen.id - Gaji Karyawan Peneri...</td>\n",
       "      <td>[{'backgroundimage': '', 'created': '2022-01-0...</td>\n",
       "      <td>&lt;p&gt;&lt;strong&gt;JAKARTA, iNewsSragen.id&lt;/strong&gt; - ...</td>\n",
       "      <td>gaji karyawan penerima bsu dipotong rp ribu ke...</td>\n",
       "    </tr>\n",
       "    <tr>\n",
       "      <th>140</th>\n",
       "      <td>34</td>\n",
       "      <td>Politik &amp; Peristiwa</td>\n",
       "      <td>2022-10-17T15:54:12.528+00:00</td>\n",
       "      <td>823a4dc6037241c9b479ec66382c4e5b</td>\n",
       "      <td>article</td>\n",
       "      <td>Miris Oknum ASN Takalar Aniaya hingga Rudapaks...</td>\n",
       "      <td>PORTALMEDIA.ID, MAKASSAR- Sungguh malang nasib...</td>\n",
       "      <td>[{'backgroundimage': '', 'created': '2022-08-0...</td>\n",
       "      <td>&lt;p&gt;PORTALMEDIA.ID, MAKASSAR- Sungguh malang na...</td>\n",
       "      <td>portalmedia id makassar sungguh malang nasib s...</td>\n",
       "    </tr>\n",
       "    <tr>\n",
       "      <th>148</th>\n",
       "      <td>34</td>\n",
       "      <td>Politik &amp; Peristiwa</td>\n",
       "      <td>2022-10-14T19:11:24.848+00:00</td>\n",
       "      <td>6f8dd91b66064ee1810184d95ee10afb</td>\n",
       "      <td>article</td>\n",
       "      <td>IRT Tewas dengan Mulut Tersumpal Celana Dalam ...</td>\n",
       "      <td>BOYOLALI, INEWS.TTU.ID  Seorang IRT Tewas deng...</td>\n",
       "      <td>[{'backgroundimage': '', 'created': '2022-10-1...</td>\n",
       "      <td>&lt;p&gt;&lt;br /&gt;&lt;strong&gt;BOYOLALI, INEWS.TTU.ID &lt;/stro...</td>\n",
       "      <td>seorang irt tewas dengan mulut tersumpal celan...</td>\n",
       "    </tr>\n",
       "    <tr>\n",
       "      <th>150</th>\n",
       "      <td>22</td>\n",
       "      <td>Gaya Hidup</td>\n",
       "      <td>2022-10-13T23:48:48.007+00:00</td>\n",
       "      <td>6769499dfd50413886b53d76085c818b</td>\n",
       "      <td>article</td>\n",
       "      <td>Berwajah Ganteng dan Imut, 5 Aktor Korea Berak...</td>\n",
       "      <td>JAKARTA, INEWSTTU.ID- Drama Korea selalu menja...</td>\n",
       "      <td>[{'backgroundimage': '', 'created': '2021-09-1...</td>\n",
       "      <td>&lt;div&gt;&lt;strong&gt;JAKARTA, INEWSTTU.ID&lt;/strong&gt;- Dr...</td>\n",
       "      <td>drama korea selalu menjadi incaran kaum hawa j...</td>\n",
       "    </tr>\n",
       "    <tr>\n",
       "      <th>165</th>\n",
       "      <td>30</td>\n",
       "      <td>Olahraga</td>\n",
       "      <td>2022-10-11T09:40:43.327+00:00</td>\n",
       "      <td>e91CCA</td>\n",
       "      <td>article</td>\n",
       "      <td>Jordan Henderson Diduga Berkata Rasis, FA Inve...</td>\n",
       "      <td>Arsenal berhasil menumbangkan Liverpool dengan...</td>\n",
       "      <td>[{'backgroundimage': '', 'created': '2022-10-1...</td>\n",
       "      <td>&lt;p&gt;&lt;span style=\"font-weight: 400;\"&gt;Arsenal ber...</td>\n",
       "      <td>arsenal berhasil menumbangkan liverpool dengan...</td>\n",
       "    </tr>\n",
       "    <tr>\n",
       "      <th>167</th>\n",
       "      <td>22</td>\n",
       "      <td>Gaya Hidup</td>\n",
       "      <td>2022-10-11T01:57:09.2+00:00</td>\n",
       "      <td>a33225ed92e34ccd99801366364f1ae8</td>\n",
       "      <td>article</td>\n",
       "      <td>5 Rekomendasi Bisnis Kerajinan Tangan Berawal ...</td>\n",
       "      <td>BATU, iNews.id - Berawal dari sebuah hobi bisa...</td>\n",
       "      <td>[{'backgroundimage': '', 'created': '2022-10-1...</td>\n",
       "      <td>&lt;p style=\"text-align:justify\"&gt;&lt;strong&gt;BATU, iN...</td>\n",
       "      <td>berawal dari sebuah hobi bisa berubah menjadi ...</td>\n",
       "    </tr>\n",
       "    <tr>\n",
       "      <th>169</th>\n",
       "      <td>31</td>\n",
       "      <td>Otomotif</td>\n",
       "      <td>2022-10-10T22:57:11.412+00:00</td>\n",
       "      <td>e9465d756cad452bbb7665a94cb2d3a0</td>\n",
       "      <td>article</td>\n",
       "      <td>Tidak Hanya Soal Menilang, Satlantas Polres Ng...</td>\n",
       "      <td>NGAWI, iNewsNgawi.id -Masih dalam rangka gelar...</td>\n",
       "      <td>[{'backgroundimage': '', 'created': '2022-10-0...</td>\n",
       "      <td>&lt;p&gt;&lt;strong&gt;NGAWI, iNewsNgawi.id -&lt;/strong&gt;Masi...</td>\n",
       "      <td>mantingan km desa pengkol mantingan menurut ka...</td>\n",
       "    </tr>\n",
       "    <tr>\n",
       "      <th>173</th>\n",
       "      <td>23</td>\n",
       "      <td>Hiburan</td>\n",
       "      <td>2022-10-09T00:15:01.31+00:00</td>\n",
       "      <td>59441af18f0e409ebc4181c36f758e5b</td>\n",
       "      <td>article</td>\n",
       "      <td>Cara Menghilangkan Jin dan Sihir dari Tubuh Ma...</td>\n",
       "      <td>JAKARTA, iNewsPandeglang.id  Sering merasa tid...</td>\n",
       "      <td>[{'backgroundimage': '', 'created': '2022-09-0...</td>\n",
       "      <td>&lt;p&gt;&lt;strong&gt;JAKARTA, iNewsPandeglang.id&lt;/strong...</td>\n",
       "      <td>sering merasa tidak enak tergangu dengan jin k...</td>\n",
       "    </tr>\n",
       "    <tr>\n",
       "      <th>175</th>\n",
       "      <td>22</td>\n",
       "      <td>Gaya Hidup</td>\n",
       "      <td>2022-10-08T07:55:23.467+00:00</td>\n",
       "      <td>074e0d5a2e4b45db86c46eb785804d23</td>\n",
       "      <td>article</td>\n",
       "      <td>Terkenal Mental Baja, Weton Minggu Pon Punya D...</td>\n",
       "      <td>BONDOWOSO, iNewsBondowoso.id -Berdasarkan Prim...</td>\n",
       "      <td>[{'backgroundimage': '', 'created': '2022-10-0...</td>\n",
       "      <td>&lt;p&gt;&lt;strong&gt;BONDOWOSO&lt;/strong&gt;, &lt;strong&gt;iNewsBo...</td>\n",
       "      <td>berdasarkan primbon jawa setiap weton memiliki...</td>\n",
       "    </tr>\n",
       "    <tr>\n",
       "      <th>183</th>\n",
       "      <td>32</td>\n",
       "      <td>Gawai</td>\n",
       "      <td>2022-10-06T04:40:00.151+00:00</td>\n",
       "      <td>IO6lIh</td>\n",
       "      <td>article</td>\n",
       "      <td>Cari Gadget Accessories di AladinMall Aja, Ad...</td>\n",
       "      <td>Kini, cari gadget accessories nggak perlu repo...</td>\n",
       "      <td>[{'backgroundimage': 'https://i.buddyku.id/ugc...</td>\n",
       "      <td>&lt;p&gt;Kini, cari gadget accessories nggak perlu r...</td>\n",
       "      <td>kini cari gadget accessories nggak perlu repot...</td>\n",
       "    </tr>\n",
       "  </tbody>\n",
       "</table>\n",
       "</div>"
      ],
      "text/plain": [
       "     category_id        category_name                   content_date  \\\n",
       "109           21              Ekonomi  2022-11-02T01:21:34.696+00:00   \n",
       "140           34  Politik & Peristiwa  2022-10-17T15:54:12.528+00:00   \n",
       "148           34  Politik & Peristiwa  2022-10-14T19:11:24.848+00:00   \n",
       "150           22           Gaya Hidup  2022-10-13T23:48:48.007+00:00   \n",
       "165           30             Olahraga  2022-10-11T09:40:43.327+00:00   \n",
       "167           22           Gaya Hidup    2022-10-11T01:57:09.2+00:00   \n",
       "169           31             Otomotif  2022-10-10T22:57:11.412+00:00   \n",
       "173           23              Hiburan   2022-10-09T00:15:01.31+00:00   \n",
       "175           22           Gaya Hidup  2022-10-08T07:55:23.467+00:00   \n",
       "183           32                Gawai  2022-10-06T04:40:00.151+00:00   \n",
       "\n",
       "                           content_id content_name  \\\n",
       "109  ee599421a28442beb7a62d49bc5d288d      article   \n",
       "140  823a4dc6037241c9b479ec66382c4e5b      article   \n",
       "148  6f8dd91b66064ee1810184d95ee10afb      article   \n",
       "150  6769499dfd50413886b53d76085c818b      article   \n",
       "165                            e91CCA      article   \n",
       "167  a33225ed92e34ccd99801366364f1ae8      article   \n",
       "169  e9465d756cad452bbb7665a94cb2d3a0      article   \n",
       "173  59441af18f0e409ebc4181c36f758e5b      article   \n",
       "175  074e0d5a2e4b45db86c46eb785804d23      article   \n",
       "183                            IO6lIh      article   \n",
       "\n",
       "                                         content_title  \\\n",
       "109  Kemnaker Turun Tangan Panggil Bos Waroeng SS, ...   \n",
       "140  Miris Oknum ASN Takalar Aniaya hingga Rudapaks...   \n",
       "148  IRT Tewas dengan Mulut Tersumpal Celana Dalam ...   \n",
       "150  Berwajah Ganteng dan Imut, 5 Aktor Korea Berak...   \n",
       "165  Jordan Henderson Diduga Berkata Rasis, FA Inve...   \n",
       "167  5 Rekomendasi Bisnis Kerajinan Tangan Berawal ...   \n",
       "169  Tidak Hanya Soal Menilang, Satlantas Polres Ng...   \n",
       "173  Cara Menghilangkan Jin dan Sihir dari Tubuh Ma...   \n",
       "175  Terkenal Mental Baja, Weton Minggu Pon Punya D...   \n",
       "183   Cari Gadget Accessories di AladinMall Aja, Ad...   \n",
       "\n",
       "                                               summary  \\\n",
       "109  JAKARTA, iNewsSragen.id - Gaji Karyawan Peneri...   \n",
       "140  PORTALMEDIA.ID, MAKASSAR- Sungguh malang nasib...   \n",
       "148  BOYOLALI, INEWS.TTU.ID  Seorang IRT Tewas deng...   \n",
       "150  JAKARTA, INEWSTTU.ID- Drama Korea selalu menja...   \n",
       "165  Arsenal berhasil menumbangkan Liverpool dengan...   \n",
       "167  BATU, iNews.id - Berawal dari sebuah hobi bisa...   \n",
       "169  NGAWI, iNewsNgawi.id -Masih dalam rangka gelar...   \n",
       "173  JAKARTA, iNewsPandeglang.id  Sering merasa tid...   \n",
       "175  BONDOWOSO, iNewsBondowoso.id -Berdasarkan Prim...   \n",
       "183  Kini, cari gadget accessories nggak perlu repo...   \n",
       "\n",
       "                                               tagging  \\\n",
       "109  [{'backgroundimage': '', 'created': '2022-01-0...   \n",
       "140  [{'backgroundimage': '', 'created': '2022-08-0...   \n",
       "148  [{'backgroundimage': '', 'created': '2022-10-1...   \n",
       "150  [{'backgroundimage': '', 'created': '2021-09-1...   \n",
       "165  [{'backgroundimage': '', 'created': '2022-10-1...   \n",
       "167  [{'backgroundimage': '', 'created': '2022-10-1...   \n",
       "169  [{'backgroundimage': '', 'created': '2022-10-0...   \n",
       "173  [{'backgroundimage': '', 'created': '2022-09-0...   \n",
       "175  [{'backgroundimage': '', 'created': '2022-10-0...   \n",
       "183  [{'backgroundimage': 'https://i.buddyku.id/ugc...   \n",
       "\n",
       "                                               content  \\\n",
       "109  <p><strong>JAKARTA, iNewsSragen.id</strong> - ...   \n",
       "140  <p>PORTALMEDIA.ID, MAKASSAR- Sungguh malang na...   \n",
       "148  <p><br /><strong>BOYOLALI, INEWS.TTU.ID </stro...   \n",
       "150  <div><strong>JAKARTA, INEWSTTU.ID</strong>- Dr...   \n",
       "165  <p><span style=\"font-weight: 400;\">Arsenal ber...   \n",
       "167  <p style=\"text-align:justify\"><strong>BATU, iN...   \n",
       "169  <p><strong>NGAWI, iNewsNgawi.id -</strong>Masi...   \n",
       "173  <p><strong>JAKARTA, iNewsPandeglang.id</strong...   \n",
       "175  <p><strong>BONDOWOSO</strong>, <strong>iNewsBo...   \n",
       "183  <p>Kini, cari gadget accessories nggak perlu r...   \n",
       "\n",
       "                                         content_clean  \n",
       "109  gaji karyawan penerima bsu dipotong rp ribu ke...  \n",
       "140  portalmedia id makassar sungguh malang nasib s...  \n",
       "148  seorang irt tewas dengan mulut tersumpal celan...  \n",
       "150  drama korea selalu menjadi incaran kaum hawa j...  \n",
       "165  arsenal berhasil menumbangkan liverpool dengan...  \n",
       "167  berawal dari sebuah hobi bisa berubah menjadi ...  \n",
       "169  mantingan km desa pengkol mantingan menurut ka...  \n",
       "173  sering merasa tidak enak tergangu dengan jin k...  \n",
       "175  berdasarkan primbon jawa setiap weton memiliki...  \n",
       "183  kini cari gadget accessories nggak perlu repot...  "
      ]
     },
     "execution_count": 25,
     "metadata": {},
     "output_type": "execute_result"
    }
   ],
   "source": [
    "df['content_clean'] = df['content'].apply(lambda x: clean_text(x))\n",
    "df.head(10)"
   ]
  },
  {
   "cell_type": "markdown",
   "metadata": {},
   "source": [
    "### IV. Data Preprocessing"
   ]
  },
  {
   "cell_type": "markdown",
   "metadata": {},
   "source": [
    "##### 1. Label Encoder"
   ]
  },
  {
   "cell_type": "code",
   "execution_count": 26,
   "metadata": {},
   "outputs": [],
   "source": [
    "le = LabelEncoder()\n",
    "y = le.fit_transform(df['category_name'])\n",
    "y = to_categorical(y)\n"
   ]
  },
  {
   "cell_type": "code",
   "execution_count": 27,
   "metadata": {},
   "outputs": [
    {
     "data": {
      "text/plain": [
       "array([[0., 1., 0., ..., 0., 0., 0.],\n",
       "       [0., 0., 0., ..., 1., 0., 0.],\n",
       "       [0., 0., 0., ..., 1., 0., 0.],\n",
       "       ...,\n",
       "       [0., 0., 1., ..., 0., 0., 0.],\n",
       "       [0., 0., 1., ..., 0., 0., 0.],\n",
       "       [0., 0., 1., ..., 0., 0., 0.]], dtype=float32)"
      ]
     },
     "execution_count": 27,
     "metadata": {},
     "output_type": "execute_result"
    }
   ],
   "source": [
    "y"
   ]
  },
  {
   "cell_type": "markdown",
   "metadata": {},
   "source": [
    "Save labelencoder.pkl"
   ]
  },
  {
   "cell_type": "code",
   "execution_count": 28,
   "metadata": {},
   "outputs": [],
   "source": [
    "with open('labelencoder.pkl', 'wb') as f:\n",
    "    pickle.dump(le, f, protocol=pickle.HIGHEST_PROTOCOL)\n"
   ]
  },
  {
   "cell_type": "markdown",
   "metadata": {},
   "source": [
    "##### 2. Removing Stopwords"
   ]
  },
  {
   "cell_type": "code",
   "execution_count": 29,
   "metadata": {},
   "outputs": [],
   "source": [
    "factory = StopWordRemoverFactory()\n",
    "stopwords = factory.create_stop_word_remover()"
   ]
  },
  {
   "cell_type": "code",
   "execution_count": 30,
   "metadata": {},
   "outputs": [],
   "source": [
    "df['content_clean'] = df['content_clean'].apply(lambda x : stopwords.remove(x))"
   ]
  },
  {
   "cell_type": "code",
   "execution_count": 31,
   "metadata": {},
   "outputs": [
    {
     "data": {
      "text/html": [
       "<div>\n",
       "<style scoped>\n",
       "    .dataframe tbody tr th:only-of-type {\n",
       "        vertical-align: middle;\n",
       "    }\n",
       "\n",
       "    .dataframe tbody tr th {\n",
       "        vertical-align: top;\n",
       "    }\n",
       "\n",
       "    .dataframe thead th {\n",
       "        text-align: right;\n",
       "    }\n",
       "</style>\n",
       "<table border=\"1\" class=\"dataframe\">\n",
       "  <thead>\n",
       "    <tr style=\"text-align: right;\">\n",
       "      <th></th>\n",
       "      <th>category_id</th>\n",
       "      <th>category_name</th>\n",
       "      <th>content_date</th>\n",
       "      <th>content_id</th>\n",
       "      <th>content_name</th>\n",
       "      <th>content_title</th>\n",
       "      <th>summary</th>\n",
       "      <th>tagging</th>\n",
       "      <th>content</th>\n",
       "      <th>content_clean</th>\n",
       "    </tr>\n",
       "  </thead>\n",
       "  <tbody>\n",
       "    <tr>\n",
       "      <th>109</th>\n",
       "      <td>21</td>\n",
       "      <td>Ekonomi</td>\n",
       "      <td>2022-11-02T01:21:34.696+00:00</td>\n",
       "      <td>ee599421a28442beb7a62d49bc5d288d</td>\n",
       "      <td>article</td>\n",
       "      <td>Kemnaker Turun Tangan Panggil Bos Waroeng SS, ...</td>\n",
       "      <td>JAKARTA, iNewsSragen.id - Gaji Karyawan Peneri...</td>\n",
       "      <td>[{'backgroundimage': '', 'created': '2022-01-0...</td>\n",
       "      <td>&lt;p&gt;&lt;strong&gt;JAKARTA, iNewsSragen.id&lt;/strong&gt; - ...</td>\n",
       "      <td>gaji karyawan penerima bsu dipotong rp ribu ke...</td>\n",
       "    </tr>\n",
       "    <tr>\n",
       "      <th>140</th>\n",
       "      <td>34</td>\n",
       "      <td>Politik &amp; Peristiwa</td>\n",
       "      <td>2022-10-17T15:54:12.528+00:00</td>\n",
       "      <td>823a4dc6037241c9b479ec66382c4e5b</td>\n",
       "      <td>article</td>\n",
       "      <td>Miris Oknum ASN Takalar Aniaya hingga Rudapaks...</td>\n",
       "      <td>PORTALMEDIA.ID, MAKASSAR- Sungguh malang nasib...</td>\n",
       "      <td>[{'backgroundimage': '', 'created': '2022-08-0...</td>\n",
       "      <td>&lt;p&gt;PORTALMEDIA.ID, MAKASSAR- Sungguh malang na...</td>\n",
       "      <td>portalmedia id makassar sungguh malang nasib s...</td>\n",
       "    </tr>\n",
       "    <tr>\n",
       "      <th>148</th>\n",
       "      <td>34</td>\n",
       "      <td>Politik &amp; Peristiwa</td>\n",
       "      <td>2022-10-14T19:11:24.848+00:00</td>\n",
       "      <td>6f8dd91b66064ee1810184d95ee10afb</td>\n",
       "      <td>article</td>\n",
       "      <td>IRT Tewas dengan Mulut Tersumpal Celana Dalam ...</td>\n",
       "      <td>BOYOLALI, INEWS.TTU.ID  Seorang IRT Tewas deng...</td>\n",
       "      <td>[{'backgroundimage': '', 'created': '2022-10-1...</td>\n",
       "      <td>&lt;p&gt;&lt;br /&gt;&lt;strong&gt;BOYOLALI, INEWS.TTU.ID &lt;/stro...</td>\n",
       "      <td>seorang irt tewas mulut tersumpal celana didug...</td>\n",
       "    </tr>\n",
       "    <tr>\n",
       "      <th>150</th>\n",
       "      <td>22</td>\n",
       "      <td>Gaya Hidup</td>\n",
       "      <td>2022-10-13T23:48:48.007+00:00</td>\n",
       "      <td>6769499dfd50413886b53d76085c818b</td>\n",
       "      <td>article</td>\n",
       "      <td>Berwajah Ganteng dan Imut, 5 Aktor Korea Berak...</td>\n",
       "      <td>JAKARTA, INEWSTTU.ID- Drama Korea selalu menja...</td>\n",
       "      <td>[{'backgroundimage': '', 'created': '2021-09-1...</td>\n",
       "      <td>&lt;div&gt;&lt;strong&gt;JAKARTA, INEWSTTU.ID&lt;/strong&gt;- Dr...</td>\n",
       "      <td>drama korea selalu menjadi incaran kaum hawa j...</td>\n",
       "    </tr>\n",
       "    <tr>\n",
       "      <th>165</th>\n",
       "      <td>30</td>\n",
       "      <td>Olahraga</td>\n",
       "      <td>2022-10-11T09:40:43.327+00:00</td>\n",
       "      <td>e91CCA</td>\n",
       "      <td>article</td>\n",
       "      <td>Jordan Henderson Diduga Berkata Rasis, FA Inve...</td>\n",
       "      <td>Arsenal berhasil menumbangkan Liverpool dengan...</td>\n",
       "      <td>[{'backgroundimage': '', 'created': '2022-10-1...</td>\n",
       "      <td>&lt;p&gt;&lt;span style=\"font-weight: 400;\"&gt;Arsenal ber...</td>\n",
       "      <td>arsenal berhasil menumbangkan liverpool skor s...</td>\n",
       "    </tr>\n",
       "  </tbody>\n",
       "</table>\n",
       "</div>"
      ],
      "text/plain": [
       "     category_id        category_name                   content_date  \\\n",
       "109           21              Ekonomi  2022-11-02T01:21:34.696+00:00   \n",
       "140           34  Politik & Peristiwa  2022-10-17T15:54:12.528+00:00   \n",
       "148           34  Politik & Peristiwa  2022-10-14T19:11:24.848+00:00   \n",
       "150           22           Gaya Hidup  2022-10-13T23:48:48.007+00:00   \n",
       "165           30             Olahraga  2022-10-11T09:40:43.327+00:00   \n",
       "\n",
       "                           content_id content_name  \\\n",
       "109  ee599421a28442beb7a62d49bc5d288d      article   \n",
       "140  823a4dc6037241c9b479ec66382c4e5b      article   \n",
       "148  6f8dd91b66064ee1810184d95ee10afb      article   \n",
       "150  6769499dfd50413886b53d76085c818b      article   \n",
       "165                            e91CCA      article   \n",
       "\n",
       "                                         content_title  \\\n",
       "109  Kemnaker Turun Tangan Panggil Bos Waroeng SS, ...   \n",
       "140  Miris Oknum ASN Takalar Aniaya hingga Rudapaks...   \n",
       "148  IRT Tewas dengan Mulut Tersumpal Celana Dalam ...   \n",
       "150  Berwajah Ganteng dan Imut, 5 Aktor Korea Berak...   \n",
       "165  Jordan Henderson Diduga Berkata Rasis, FA Inve...   \n",
       "\n",
       "                                               summary  \\\n",
       "109  JAKARTA, iNewsSragen.id - Gaji Karyawan Peneri...   \n",
       "140  PORTALMEDIA.ID, MAKASSAR- Sungguh malang nasib...   \n",
       "148  BOYOLALI, INEWS.TTU.ID  Seorang IRT Tewas deng...   \n",
       "150  JAKARTA, INEWSTTU.ID- Drama Korea selalu menja...   \n",
       "165  Arsenal berhasil menumbangkan Liverpool dengan...   \n",
       "\n",
       "                                               tagging  \\\n",
       "109  [{'backgroundimage': '', 'created': '2022-01-0...   \n",
       "140  [{'backgroundimage': '', 'created': '2022-08-0...   \n",
       "148  [{'backgroundimage': '', 'created': '2022-10-1...   \n",
       "150  [{'backgroundimage': '', 'created': '2021-09-1...   \n",
       "165  [{'backgroundimage': '', 'created': '2022-10-1...   \n",
       "\n",
       "                                               content  \\\n",
       "109  <p><strong>JAKARTA, iNewsSragen.id</strong> - ...   \n",
       "140  <p>PORTALMEDIA.ID, MAKASSAR- Sungguh malang na...   \n",
       "148  <p><br /><strong>BOYOLALI, INEWS.TTU.ID </stro...   \n",
       "150  <div><strong>JAKARTA, INEWSTTU.ID</strong>- Dr...   \n",
       "165  <p><span style=\"font-weight: 400;\">Arsenal ber...   \n",
       "\n",
       "                                         content_clean  \n",
       "109  gaji karyawan penerima bsu dipotong rp ribu ke...  \n",
       "140  portalmedia id makassar sungguh malang nasib s...  \n",
       "148  seorang irt tewas mulut tersumpal celana didug...  \n",
       "150  drama korea selalu menjadi incaran kaum hawa j...  \n",
       "165  arsenal berhasil menumbangkan liverpool skor s...  "
      ]
     },
     "execution_count": 31,
     "metadata": {},
     "output_type": "execute_result"
    }
   ],
   "source": [
    "df.head(5)"
   ]
  },
  {
   "cell_type": "markdown",
   "metadata": {},
   "source": [
    "##### 3. Stemming"
   ]
  },
  {
   "cell_type": "code",
   "execution_count": 35,
   "metadata": {},
   "outputs": [],
   "source": [
    "# create stemmer\n",
    "factory = StemmerFactory()\n",
    "stemmer = factory.create_stemmer()"
   ]
  },
  {
   "cell_type": "code",
   "execution_count": 37,
   "metadata": {},
   "outputs": [
    {
     "name": "stdout",
     "output_type": "stream",
     "text": [
      "635\r"
     ]
    }
   ],
   "source": [
    "for i in df.index:\n",
    "    print(i,end='\\r')\n",
    "    df['content_clean'][i] = stemmer.stem(df['content_clean'][i])"
   ]
  },
  {
   "cell_type": "code",
   "execution_count": 580,
   "metadata": {},
   "outputs": [],
   "source": [
    "# df['content_clean'] = df['content_clean'].apply(lambda x : stemmer.stem(x))"
   ]
  },
  {
   "cell_type": "markdown",
   "metadata": {},
   "source": [
    "#####  2. Tokenizer"
   ]
  },
  {
   "cell_type": "code",
   "execution_count": 581,
   "metadata": {},
   "outputs": [],
   "source": [
    "tokenizer = Tokenizer()\n",
    "tokenizer.fit_on_texts(df['content_clean'])"
   ]
  },
  {
   "cell_type": "code",
   "execution_count": 582,
   "metadata": {},
   "outputs": [],
   "source": [
    "num_words = len(tokenizer.word_index)"
   ]
  },
  {
   "cell_type": "code",
   "execution_count": 583,
   "metadata": {},
   "outputs": [
    {
     "data": {
      "text/plain": [
       "112988"
      ]
     },
     "execution_count": 583,
     "metadata": {},
     "output_type": "execute_result"
    }
   ],
   "source": [
    "len(tokenizer.word_index)"
   ]
  },
  {
   "cell_type": "code",
   "execution_count": 584,
   "metadata": {},
   "outputs": [],
   "source": [
    "token_seq = tokenizer.texts_to_sequences(df['content_clean'])"
   ]
  },
  {
   "cell_type": "markdown",
   "metadata": {},
   "source": [
    "Save tokenizer.pkl"
   ]
  },
  {
   "cell_type": "code",
   "execution_count": 585,
   "metadata": {},
   "outputs": [],
   "source": [
    "with open('tokenizer.pkl', 'wb') as f:\n",
    "    pickle.dump(tokenizer, f, protocol=pickle.HIGHEST_PROTOCOL)\n"
   ]
  },
  {
   "cell_type": "markdown",
   "metadata": {},
   "source": [
    "##### 4. Padding"
   ]
  },
  {
   "cell_type": "code",
   "execution_count": 586,
   "metadata": {},
   "outputs": [],
   "source": [
    "num_tokens = [len(tokens) for tokens in token_seq]\n",
    "num_tokens = np.array(num_tokens)"
   ]
  },
  {
   "cell_type": "code",
   "execution_count": 587,
   "metadata": {},
   "outputs": [
    {
     "data": {
      "text/plain": [
       "251.44958434654754"
      ]
     },
     "execution_count": 587,
     "metadata": {},
     "output_type": "execute_result"
    }
   ],
   "source": [
    "np.mean(num_tokens)"
   ]
  },
  {
   "cell_type": "code",
   "execution_count": 588,
   "metadata": {},
   "outputs": [
    {
     "data": {
      "text/plain": [
       "5222"
      ]
     },
     "execution_count": 588,
     "metadata": {},
     "output_type": "execute_result"
    }
   ],
   "source": [
    "np.max(num_tokens)"
   ]
  },
  {
   "cell_type": "code",
   "execution_count": 589,
   "metadata": {},
   "outputs": [
    {
     "data": {
      "text/plain": [
       "596"
      ]
     },
     "execution_count": 589,
     "metadata": {},
     "output_type": "execute_result"
    }
   ],
   "source": [
    "max_tokens = np.mean(num_tokens) + 2 * np.std(num_tokens)\n",
    "max_tokens = int(max_tokens)\n",
    "max_tokens"
   ]
  },
  {
   "cell_type": "code",
   "execution_count": 590,
   "metadata": {},
   "outputs": [
    {
     "data": {
      "text/plain": [
       "0.9650511790985693"
      ]
     },
     "execution_count": 590,
     "metadata": {},
     "output_type": "execute_result"
    }
   ],
   "source": [
    "np.sum(num_tokens < max_tokens) / len(num_tokens)"
   ]
  },
  {
   "cell_type": "code",
   "execution_count": 591,
   "metadata": {},
   "outputs": [],
   "source": [
    "padded_seq = pad_sequences(token_seq, maxlen=max_tokens,padding='post', truncating='post')"
   ]
  },
  {
   "cell_type": "code",
   "execution_count": 592,
   "metadata": {},
   "outputs": [
    {
     "data": {
      "text/plain": [
       "(17683, 596)"
      ]
     },
     "execution_count": 592,
     "metadata": {},
     "output_type": "execute_result"
    }
   ],
   "source": [
    "padded_seq.shape"
   ]
  },
  {
   "cell_type": "markdown",
   "metadata": {},
   "source": [
    "##### 5. Splitting Dataset"
   ]
  },
  {
   "cell_type": "code",
   "execution_count": 593,
   "metadata": {},
   "outputs": [],
   "source": [
    "X_train, X_val, y_train, y_val = train_test_split(padded_seq, y, \n",
    "                                                    test_size=0.2, \n",
    "                                                    random_state=12,stratify=y)"
   ]
  },
  {
   "cell_type": "markdown",
   "metadata": {},
   "source": [
    "##### 6. Dataset Pipeline"
   ]
  },
  {
   "cell_type": "code",
   "execution_count": 594,
   "metadata": {},
   "outputs": [],
   "source": [
    "train_dataset = tf.data.Dataset.from_tensor_slices((X_train,y_train)).batch(128)\n",
    "val_dataset = tf.data.Dataset.from_tensor_slices((X_val,y_val)).batch(128)"
   ]
  },
  {
   "cell_type": "markdown",
   "metadata": {},
   "source": [
    "### V. Model Definition"
   ]
  },
  {
   "cell_type": "code",
   "execution_count": 595,
   "metadata": {},
   "outputs": [],
   "source": [
    "model = Sequential()\n",
    "model.add(Embedding(input_dim=num_words+1,\n",
    "                    output_dim=64,\n",
    "                    input_length=max_tokens,\n",
    "                    name='layer_embedding'))\n",
    "model.add(Bidirectional(LSTM(256)))\n",
    "model.add(Dense(256, activation='relu')),\n",
    "model.add(Dropout(rate=0.1)),\n",
    "model.add(Dense(128, activation='relu')),\n",
    "model.add(Dropout(rate=0.1)),\n",
    "model.add(Dense(17, activation='sigmoid'))"
   ]
  },
  {
   "cell_type": "code",
   "execution_count": 596,
   "metadata": {},
   "outputs": [
    {
     "name": "stdout",
     "output_type": "stream",
     "text": [
      "Model: \"sequential_16\"\n",
      "_________________________________________________________________\n",
      " Layer (type)                Output Shape              Param #   \n",
      "=================================================================\n",
      " layer_embedding (Embedding)  (None, 596, 64)          7231296   \n",
      "                                                                 \n",
      " bidirectional_15 (Bidirecti  (None, 512)              657408    \n",
      " onal)                                                           \n",
      "                                                                 \n",
      " dense_45 (Dense)            (None, 256)               131328    \n",
      "                                                                 \n",
      " dropout_30 (Dropout)        (None, 256)               0         \n",
      "                                                                 \n",
      " dense_46 (Dense)            (None, 128)               32896     \n",
      "                                                                 \n",
      " dropout_31 (Dropout)        (None, 128)               0         \n",
      "                                                                 \n",
      " dense_47 (Dense)            (None, 17)                2193      \n",
      "                                                                 \n",
      "=================================================================\n",
      "Total params: 8,055,121\n",
      "Trainable params: 8,055,121\n",
      "Non-trainable params: 0\n",
      "_________________________________________________________________\n"
     ]
    }
   ],
   "source": [
    "model.summary()"
   ]
  },
  {
   "cell_type": "code",
   "execution_count": 597,
   "metadata": {},
   "outputs": [],
   "source": [
    "model.compile(optimizer='adam', loss='binary_crossentropy', metrics= ['accuracy'])"
   ]
  },
  {
   "cell_type": "markdown",
   "metadata": {},
   "source": [
    "### VI. Model Training"
   ]
  },
  {
   "cell_type": "code",
   "execution_count": 598,
   "metadata": {},
   "outputs": [],
   "source": [
    "callbacks= [ \n",
    "    EarlyStopping(patience = 10), \n",
    "    ModelCheckpoint('model_best.hdf5', monitor='val_accuracy', save_best_only=True)\n",
    "]"
   ]
  },
  {
   "cell_type": "code",
   "execution_count": 599,
   "metadata": {},
   "outputs": [
    {
     "name": "stdout",
     "output_type": "stream",
     "text": [
      "Epoch 1/100\n",
      " 10/111 [=>............................] - ETA: 13:16 - loss: 0.5020 - accuracy: 0.0516"
     ]
    },
    {
     "ename": "KeyboardInterrupt",
     "evalue": "",
     "output_type": "error",
     "traceback": [
      "\u001b[1;31m---------------------------------------------------------------------------\u001b[0m",
      "\u001b[1;31mKeyboardInterrupt\u001b[0m                         Traceback (most recent call last)",
      "Cell \u001b[1;32mIn [599], line 1\u001b[0m\n\u001b[1;32m----> 1\u001b[0m history \u001b[39m=\u001b[39m model\u001b[39m.\u001b[39;49mfit(train_dataset,epochs\u001b[39m=\u001b[39;49m\u001b[39m100\u001b[39;49m, validation_data\u001b[39m=\u001b[39;49mval_dataset,callbacks\u001b[39m=\u001b[39;49m callbacks)\n",
      "File \u001b[1;32mc:\\Users\\SONNY\\anaconda3\\envs\\machinelearning\\lib\\site-packages\\keras\\utils\\traceback_utils.py:65\u001b[0m, in \u001b[0;36mfilter_traceback.<locals>.error_handler\u001b[1;34m(*args, **kwargs)\u001b[0m\n\u001b[0;32m     63\u001b[0m filtered_tb \u001b[39m=\u001b[39m \u001b[39mNone\u001b[39;00m\n\u001b[0;32m     64\u001b[0m \u001b[39mtry\u001b[39;00m:\n\u001b[1;32m---> 65\u001b[0m     \u001b[39mreturn\u001b[39;00m fn(\u001b[39m*\u001b[39margs, \u001b[39m*\u001b[39m\u001b[39m*\u001b[39mkwargs)\n\u001b[0;32m     66\u001b[0m \u001b[39mexcept\u001b[39;00m \u001b[39mException\u001b[39;00m \u001b[39mas\u001b[39;00m e:\n\u001b[0;32m     67\u001b[0m     filtered_tb \u001b[39m=\u001b[39m _process_traceback_frames(e\u001b[39m.\u001b[39m__traceback__)\n",
      "File \u001b[1;32mc:\\Users\\SONNY\\anaconda3\\envs\\machinelearning\\lib\\site-packages\\keras\\engine\\training.py:1650\u001b[0m, in \u001b[0;36mModel.fit\u001b[1;34m(self, x, y, batch_size, epochs, verbose, callbacks, validation_split, validation_data, shuffle, class_weight, sample_weight, initial_epoch, steps_per_epoch, validation_steps, validation_batch_size, validation_freq, max_queue_size, workers, use_multiprocessing)\u001b[0m\n\u001b[0;32m   1642\u001b[0m \u001b[39mwith\u001b[39;00m tf\u001b[39m.\u001b[39mprofiler\u001b[39m.\u001b[39mexperimental\u001b[39m.\u001b[39mTrace(\n\u001b[0;32m   1643\u001b[0m     \u001b[39m\"\u001b[39m\u001b[39mtrain\u001b[39m\u001b[39m\"\u001b[39m,\n\u001b[0;32m   1644\u001b[0m     epoch_num\u001b[39m=\u001b[39mepoch,\n\u001b[1;32m   (...)\u001b[0m\n\u001b[0;32m   1647\u001b[0m     _r\u001b[39m=\u001b[39m\u001b[39m1\u001b[39m,\n\u001b[0;32m   1648\u001b[0m ):\n\u001b[0;32m   1649\u001b[0m     callbacks\u001b[39m.\u001b[39mon_train_batch_begin(step)\n\u001b[1;32m-> 1650\u001b[0m     tmp_logs \u001b[39m=\u001b[39m \u001b[39mself\u001b[39;49m\u001b[39m.\u001b[39;49mtrain_function(iterator)\n\u001b[0;32m   1651\u001b[0m     \u001b[39mif\u001b[39;00m data_handler\u001b[39m.\u001b[39mshould_sync:\n\u001b[0;32m   1652\u001b[0m         context\u001b[39m.\u001b[39masync_wait()\n",
      "File \u001b[1;32mc:\\Users\\SONNY\\anaconda3\\envs\\machinelearning\\lib\\site-packages\\tensorflow\\python\\util\\traceback_utils.py:150\u001b[0m, in \u001b[0;36mfilter_traceback.<locals>.error_handler\u001b[1;34m(*args, **kwargs)\u001b[0m\n\u001b[0;32m    148\u001b[0m filtered_tb \u001b[39m=\u001b[39m \u001b[39mNone\u001b[39;00m\n\u001b[0;32m    149\u001b[0m \u001b[39mtry\u001b[39;00m:\n\u001b[1;32m--> 150\u001b[0m   \u001b[39mreturn\u001b[39;00m fn(\u001b[39m*\u001b[39margs, \u001b[39m*\u001b[39m\u001b[39m*\u001b[39mkwargs)\n\u001b[0;32m    151\u001b[0m \u001b[39mexcept\u001b[39;00m \u001b[39mException\u001b[39;00m \u001b[39mas\u001b[39;00m e:\n\u001b[0;32m    152\u001b[0m   filtered_tb \u001b[39m=\u001b[39m _process_traceback_frames(e\u001b[39m.\u001b[39m__traceback__)\n",
      "File \u001b[1;32mc:\\Users\\SONNY\\anaconda3\\envs\\machinelearning\\lib\\site-packages\\tensorflow\\python\\eager\\polymorphic_function\\polymorphic_function.py:880\u001b[0m, in \u001b[0;36mFunction.__call__\u001b[1;34m(self, *args, **kwds)\u001b[0m\n\u001b[0;32m    877\u001b[0m compiler \u001b[39m=\u001b[39m \u001b[39m\"\u001b[39m\u001b[39mxla\u001b[39m\u001b[39m\"\u001b[39m \u001b[39mif\u001b[39;00m \u001b[39mself\u001b[39m\u001b[39m.\u001b[39m_jit_compile \u001b[39melse\u001b[39;00m \u001b[39m\"\u001b[39m\u001b[39mnonXla\u001b[39m\u001b[39m\"\u001b[39m\n\u001b[0;32m    879\u001b[0m \u001b[39mwith\u001b[39;00m OptionalXlaContext(\u001b[39mself\u001b[39m\u001b[39m.\u001b[39m_jit_compile):\n\u001b[1;32m--> 880\u001b[0m   result \u001b[39m=\u001b[39m \u001b[39mself\u001b[39m\u001b[39m.\u001b[39m_call(\u001b[39m*\u001b[39margs, \u001b[39m*\u001b[39m\u001b[39m*\u001b[39mkwds)\n\u001b[0;32m    882\u001b[0m new_tracing_count \u001b[39m=\u001b[39m \u001b[39mself\u001b[39m\u001b[39m.\u001b[39mexperimental_get_tracing_count()\n\u001b[0;32m    883\u001b[0m without_tracing \u001b[39m=\u001b[39m (tracing_count \u001b[39m==\u001b[39m new_tracing_count)\n",
      "File \u001b[1;32mc:\\Users\\SONNY\\anaconda3\\envs\\machinelearning\\lib\\site-packages\\tensorflow\\python\\eager\\polymorphic_function\\polymorphic_function.py:912\u001b[0m, in \u001b[0;36mFunction._call\u001b[1;34m(self, *args, **kwds)\u001b[0m\n\u001b[0;32m    909\u001b[0m   \u001b[39mself\u001b[39m\u001b[39m.\u001b[39m_lock\u001b[39m.\u001b[39mrelease()\n\u001b[0;32m    910\u001b[0m   \u001b[39m# In this case we have created variables on the first call, so we run the\u001b[39;00m\n\u001b[0;32m    911\u001b[0m   \u001b[39m# defunned version which is guaranteed to never create variables.\u001b[39;00m\n\u001b[1;32m--> 912\u001b[0m   \u001b[39mreturn\u001b[39;00m \u001b[39mself\u001b[39m\u001b[39m.\u001b[39m_no_variable_creation_fn(\u001b[39m*\u001b[39margs, \u001b[39m*\u001b[39m\u001b[39m*\u001b[39mkwds)  \u001b[39m# pylint: disable=not-callable\u001b[39;00m\n\u001b[0;32m    913\u001b[0m \u001b[39melif\u001b[39;00m \u001b[39mself\u001b[39m\u001b[39m.\u001b[39m_variable_creation_fn \u001b[39mis\u001b[39;00m \u001b[39mnot\u001b[39;00m \u001b[39mNone\u001b[39;00m:\n\u001b[0;32m    914\u001b[0m   \u001b[39m# Release the lock early so that multiple threads can perform the call\u001b[39;00m\n\u001b[0;32m    915\u001b[0m   \u001b[39m# in parallel.\u001b[39;00m\n\u001b[0;32m    916\u001b[0m   \u001b[39mself\u001b[39m\u001b[39m.\u001b[39m_lock\u001b[39m.\u001b[39mrelease()\n",
      "File \u001b[1;32mc:\\Users\\SONNY\\anaconda3\\envs\\machinelearning\\lib\\site-packages\\tensorflow\\python\\eager\\polymorphic_function\\tracing_compiler.py:134\u001b[0m, in \u001b[0;36mTracingCompiler.__call__\u001b[1;34m(self, *args, **kwargs)\u001b[0m\n\u001b[0;32m    131\u001b[0m \u001b[39mwith\u001b[39;00m \u001b[39mself\u001b[39m\u001b[39m.\u001b[39m_lock:\n\u001b[0;32m    132\u001b[0m   (concrete_function,\n\u001b[0;32m    133\u001b[0m    filtered_flat_args) \u001b[39m=\u001b[39m \u001b[39mself\u001b[39m\u001b[39m.\u001b[39m_maybe_define_function(args, kwargs)\n\u001b[1;32m--> 134\u001b[0m \u001b[39mreturn\u001b[39;00m concrete_function\u001b[39m.\u001b[39;49m_call_flat(\n\u001b[0;32m    135\u001b[0m     filtered_flat_args, captured_inputs\u001b[39m=\u001b[39;49mconcrete_function\u001b[39m.\u001b[39;49mcaptured_inputs)\n",
      "File \u001b[1;32mc:\\Users\\SONNY\\anaconda3\\envs\\machinelearning\\lib\\site-packages\\tensorflow\\python\\eager\\polymorphic_function\\monomorphic_function.py:1745\u001b[0m, in \u001b[0;36mConcreteFunction._call_flat\u001b[1;34m(self, args, captured_inputs, cancellation_manager)\u001b[0m\n\u001b[0;32m   1741\u001b[0m possible_gradient_type \u001b[39m=\u001b[39m gradients_util\u001b[39m.\u001b[39mPossibleTapeGradientTypes(args)\n\u001b[0;32m   1742\u001b[0m \u001b[39mif\u001b[39;00m (possible_gradient_type \u001b[39m==\u001b[39m gradients_util\u001b[39m.\u001b[39mPOSSIBLE_GRADIENT_TYPES_NONE\n\u001b[0;32m   1743\u001b[0m     \u001b[39mand\u001b[39;00m executing_eagerly):\n\u001b[0;32m   1744\u001b[0m   \u001b[39m# No tape is watching; skip to running the function.\u001b[39;00m\n\u001b[1;32m-> 1745\u001b[0m   \u001b[39mreturn\u001b[39;00m \u001b[39mself\u001b[39m\u001b[39m.\u001b[39m_build_call_outputs(\u001b[39mself\u001b[39;49m\u001b[39m.\u001b[39;49m_inference_function\u001b[39m.\u001b[39;49mcall(\n\u001b[0;32m   1746\u001b[0m       ctx, args, cancellation_manager\u001b[39m=\u001b[39;49mcancellation_manager))\n\u001b[0;32m   1747\u001b[0m forward_backward \u001b[39m=\u001b[39m \u001b[39mself\u001b[39m\u001b[39m.\u001b[39m_select_forward_and_backward_functions(\n\u001b[0;32m   1748\u001b[0m     args,\n\u001b[0;32m   1749\u001b[0m     possible_gradient_type,\n\u001b[0;32m   1750\u001b[0m     executing_eagerly)\n\u001b[0;32m   1751\u001b[0m forward_function, args_with_tangents \u001b[39m=\u001b[39m forward_backward\u001b[39m.\u001b[39mforward()\n",
      "File \u001b[1;32mc:\\Users\\SONNY\\anaconda3\\envs\\machinelearning\\lib\\site-packages\\tensorflow\\python\\eager\\polymorphic_function\\monomorphic_function.py:378\u001b[0m, in \u001b[0;36m_EagerDefinedFunction.call\u001b[1;34m(self, ctx, args, cancellation_manager)\u001b[0m\n\u001b[0;32m    376\u001b[0m \u001b[39mwith\u001b[39;00m _InterpolateFunctionError(\u001b[39mself\u001b[39m):\n\u001b[0;32m    377\u001b[0m   \u001b[39mif\u001b[39;00m cancellation_manager \u001b[39mis\u001b[39;00m \u001b[39mNone\u001b[39;00m:\n\u001b[1;32m--> 378\u001b[0m     outputs \u001b[39m=\u001b[39m execute\u001b[39m.\u001b[39;49mexecute(\n\u001b[0;32m    379\u001b[0m         \u001b[39mstr\u001b[39;49m(\u001b[39mself\u001b[39;49m\u001b[39m.\u001b[39;49msignature\u001b[39m.\u001b[39;49mname),\n\u001b[0;32m    380\u001b[0m         num_outputs\u001b[39m=\u001b[39;49m\u001b[39mself\u001b[39;49m\u001b[39m.\u001b[39;49m_num_outputs,\n\u001b[0;32m    381\u001b[0m         inputs\u001b[39m=\u001b[39;49margs,\n\u001b[0;32m    382\u001b[0m         attrs\u001b[39m=\u001b[39;49mattrs,\n\u001b[0;32m    383\u001b[0m         ctx\u001b[39m=\u001b[39;49mctx)\n\u001b[0;32m    384\u001b[0m   \u001b[39melse\u001b[39;00m:\n\u001b[0;32m    385\u001b[0m     outputs \u001b[39m=\u001b[39m execute\u001b[39m.\u001b[39mexecute_with_cancellation(\n\u001b[0;32m    386\u001b[0m         \u001b[39mstr\u001b[39m(\u001b[39mself\u001b[39m\u001b[39m.\u001b[39msignature\u001b[39m.\u001b[39mname),\n\u001b[0;32m    387\u001b[0m         num_outputs\u001b[39m=\u001b[39m\u001b[39mself\u001b[39m\u001b[39m.\u001b[39m_num_outputs,\n\u001b[1;32m   (...)\u001b[0m\n\u001b[0;32m    390\u001b[0m         ctx\u001b[39m=\u001b[39mctx,\n\u001b[0;32m    391\u001b[0m         cancellation_manager\u001b[39m=\u001b[39mcancellation_manager)\n",
      "File \u001b[1;32mc:\\Users\\SONNY\\anaconda3\\envs\\machinelearning\\lib\\site-packages\\tensorflow\\python\\eager\\execute.py:52\u001b[0m, in \u001b[0;36mquick_execute\u001b[1;34m(op_name, num_outputs, inputs, attrs, ctx, name)\u001b[0m\n\u001b[0;32m     50\u001b[0m \u001b[39mtry\u001b[39;00m:\n\u001b[0;32m     51\u001b[0m   ctx\u001b[39m.\u001b[39mensure_initialized()\n\u001b[1;32m---> 52\u001b[0m   tensors \u001b[39m=\u001b[39m pywrap_tfe\u001b[39m.\u001b[39;49mTFE_Py_Execute(ctx\u001b[39m.\u001b[39;49m_handle, device_name, op_name,\n\u001b[0;32m     53\u001b[0m                                       inputs, attrs, num_outputs)\n\u001b[0;32m     54\u001b[0m \u001b[39mexcept\u001b[39;00m core\u001b[39m.\u001b[39m_NotOkStatusException \u001b[39mas\u001b[39;00m e:\n\u001b[0;32m     55\u001b[0m   \u001b[39mif\u001b[39;00m name \u001b[39mis\u001b[39;00m \u001b[39mnot\u001b[39;00m \u001b[39mNone\u001b[39;00m:\n",
      "\u001b[1;31mKeyboardInterrupt\u001b[0m: "
     ]
    }
   ],
   "source": [
    "history = model.fit(train_dataset,epochs=100, validation_data=val_dataset,callbacks= callbacks)"
   ]
  },
  {
   "cell_type": "markdown",
   "metadata": {},
   "source": [
    "### VII. Model Evaluation"
   ]
  },
  {
   "cell_type": "code",
   "execution_count": null,
   "metadata": {},
   "outputs": [],
   "source": [
    "def plot_history(history_name):\n",
    "    plt.figure(figsize=(16,8))\n",
    "    plt.suptitle('Sequential API',fontsize=20)\n",
    "\n",
    "    plt.subplot(1,2,1)\n",
    "    plt.plot(history_name.history['loss'], label='Training Acc')\n",
    "    plt.plot(history_name.history['val_loss'], label='Val Acc')\n",
    "    plt.title('loss')\n",
    "    plt.ylabel('Value') \n",
    "    plt.xlabel('Epoch')\n",
    "\n",
    "    plt.subplot(1,2,2)\n",
    "    plt.plot(history_name.history['accuracy'], label='Training Acc')\n",
    "    plt.plot(history_name.history['val_accuracy'], label='Val Acc')\n",
    "    plt.title('Accuracy')\n",
    "    plt.ylabel('Value') \n",
    "    plt.xlabel('Epoch')\n",
    "\n",
    "\n",
    "    plt.show()\n",
    "\n",
    "plot_history(history)\n"
   ]
  },
  {
   "cell_type": "markdown",
   "metadata": {},
   "source": [
    "##### Evaluate Train and Validation"
   ]
  },
  {
   "cell_type": "code",
   "execution_count": null,
   "metadata": {},
   "outputs": [],
   "source": [
    "train_eval = model.evaluate(train_dataset)"
   ]
  },
  {
   "cell_type": "code",
   "execution_count": null,
   "metadata": {},
   "outputs": [],
   "source": [
    "validation_eval = model.evaluate(val_dataset)"
   ]
  },
  {
   "cell_type": "markdown",
   "metadata": {},
   "source": [
    "##### Classification Report"
   ]
  },
  {
   "cell_type": "markdown",
   "metadata": {},
   "source": [
    "Train Set"
   ]
  },
  {
   "cell_type": "code",
   "execution_count": null,
   "metadata": {},
   "outputs": [],
   "source": [
    "train_pred = model.predict(train_dataset)"
   ]
  },
  {
   "cell_type": "code",
   "execution_count": null,
   "metadata": {},
   "outputs": [],
   "source": [
    "train_pred = np.argmax(train_pred,axis=1)\n",
    "y = np.argmax(y_train,axis=1)"
   ]
  },
  {
   "cell_type": "code",
   "execution_count": null,
   "metadata": {},
   "outputs": [],
   "source": [
    "print(classification_report(le.inverse_transform(train_pred),le.inverse_transform(y)))"
   ]
  },
  {
   "cell_type": "markdown",
   "metadata": {},
   "source": [
    "Validation Set"
   ]
  },
  {
   "cell_type": "code",
   "execution_count": null,
   "metadata": {},
   "outputs": [],
   "source": [
    "val_pred = model.predict(val_dataset)"
   ]
  },
  {
   "cell_type": "code",
   "execution_count": null,
   "metadata": {},
   "outputs": [],
   "source": [
    "val_pred = np.argmax(val_pred,axis=1)\n",
    "y = np.argmax(y_val,axis=1)"
   ]
  },
  {
   "cell_type": "code",
   "execution_count": null,
   "metadata": {},
   "outputs": [],
   "source": [
    "print(classification_report(le.inverse_transform(val_pred),le.inverse_transform(y)))"
   ]
  },
  {
   "cell_type": "code",
   "execution_count": null,
   "metadata": {},
   "outputs": [],
   "source": [
    "url = f\"https://buddyku.com/api/content/detail?content_id=741155bb3fd84e4485309730a295b7f5\"\n",
    "response = requests.get(url).content\n",
    "content = json.loads(response)\n",
    "data = content['values'][0]['content']"
   ]
  },
  {
   "cell_type": "code",
   "execution_count": null,
   "metadata": {},
   "outputs": [],
   "source": [
    "def inference(data):\n",
    "    data = clean_text(data)\n",
    "    data = tokenizer.texts_to_sequences([data])\n",
    "    data = pad_sequences(data, maxlen=max_tokens)\n",
    "    pred = model.predict(data)\n",
    "    pred = np.argmax(pred,axis=1)\n",
    "    \n",
    "    return le.inverse_transform(pred)\n",
    "\n"
   ]
  },
  {
   "cell_type": "code",
   "execution_count": null,
   "metadata": {},
   "outputs": [],
   "source": [
    "inference(data)"
   ]
  },
  {
   "cell_type": "markdown",
   "metadata": {},
   "source": [
    "# Conclusion / Overall Analysis\n",
    "\n",
    "### Model Performance\n",
    "Based on our model performance, the model is overfit to the training data so we need to evaluate the model."
   ]
  }
 ],
 "metadata": {
  "kernelspec": {
   "display_name": "machinelearning",
   "language": "python",
   "name": "python3"
  },
  "language_info": {
   "codemirror_mode": {
    "name": "ipython",
    "version": 3
   },
   "file_extension": ".py",
   "mimetype": "text/x-python",
   "name": "python",
   "nbconvert_exporter": "python",
   "pygments_lexer": "ipython3",
   "version": "3.10.8"
  },
  "orig_nbformat": 4,
  "vscode": {
   "interpreter": {
    "hash": "1a0c15ccf05873a2354ffaca0e9abf15f39e093bd922113dacd41cc3d93d2342"
   }
  }
 },
 "nbformat": 4,
 "nbformat_minor": 2
}
